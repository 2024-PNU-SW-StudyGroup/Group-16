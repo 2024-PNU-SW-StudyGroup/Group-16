{
 "cells": [
  {
   "cell_type": "code",
   "execution_count": 2,
   "metadata": {},
   "outputs": [
    {
     "name": "stdout",
     "output_type": "stream",
     "text": [
      "5\n",
      "4\n",
      "3\n",
      "2\n",
      "1\n"
     ]
    }
   ],
   "source": [
    "n = int(input())\n",
    "for i in range(n,0,-1):\n",
    "    print(i)"
   ]
  },
  {
   "cell_type": "code",
   "execution_count": 6,
   "metadata": {},
   "outputs": [
    {
     "name": "stdout",
     "output_type": "stream",
     "text": [
      "0 0 0 0 0 "
     ]
    }
   ],
   "source": [
    "L,P = map(int,input().split())\n",
    "n = list(map(int,input().split()))\n",
    "for i in n:\n",
    "    print(i-(L*P), end=' ')"
   ]
  },
  {
   "cell_type": "code",
   "execution_count": 7,
   "metadata": {},
   "outputs": [
    {
     "name": "stdout",
     "output_type": "stream",
     "text": [
      "19\n"
     ]
    }
   ],
   "source": [
    "R1,S = map(int,input().split())\n",
    "print(2*S-R1)"
   ]
  },
  {
   "cell_type": "code",
   "execution_count": 10,
   "metadata": {},
   "outputs": [
    {
     "name": "stdout",
     "output_type": "stream",
     "text": [
      "848\n"
     ]
    }
   ],
   "source": [
    "e = []\n",
    "for i in range(5):\n",
    "    e.append(int(input()))\n",
    "print(min(e[:3]) + min(e[3:]) - 50)"
   ]
  },
  {
   "cell_type": "code",
   "execution_count": 11,
   "metadata": {},
   "outputs": [
    {
     "name": "stdout",
     "output_type": "stream",
     "text": [
      "-50\n"
     ]
    }
   ],
   "source": [
    "e = [int(input()) for i in range(5)]\n",
    "print(min(e[:3]) + min(e[3:]) - 50)"
   ]
  },
  {
   "cell_type": "code",
   "execution_count": 12,
   "metadata": {},
   "outputs": [
    {
     "name": "stdout",
     "output_type": "stream",
     "text": [
      "3\n",
      "43\n"
     ]
    }
   ],
   "source": [
    "e = [int(input()) for i in range(4)]\n",
    "n = sum(e)\n",
    "print(n//60)\n",
    "print(n%60)"
   ]
  },
  {
   "cell_type": "code",
   "execution_count": null,
   "metadata": {},
   "outputs": [],
   "source": [
    "cnt = 0\n",
    "for i in range(4):\n",
    "    cnt += int(input())\n",
    "\n",
    "print(cnt//60)\n",
    "print(cnt%60)"
   ]
  },
  {
   "cell_type": "code",
   "execution_count": 46,
   "metadata": {},
   "outputs": [
    {
     "name": "stdout",
     "output_type": "stream",
     "text": [
      "Scalene\n"
     ]
    }
   ],
   "source": [
    "e = []\n",
    "for i in range(3):\n",
    "    e.append(int(input()))\n",
    "if sum(e) != 180:\n",
    "    print('Error')\n",
    "else:\n",
    "    if e[0] == e[1] == e[2]:\n",
    "        print('Equilateral')\n",
    "    elif e[0] != e[1] and e[1] != e[2] and e[0] != e[2]:\n",
    "        print('Scalene')\n",
    "    else:\n",
    "        print('Isosceles')"
   ]
  },
  {
   "cell_type": "code",
   "execution_count": 51,
   "metadata": {},
   "outputs": [
    {
     "name": "stdout",
     "output_type": "stream",
     "text": [
      "7\n"
     ]
    }
   ],
   "source": [
    "e = []\n",
    "for i in range(5):\n",
    "    e.append(int(input()))\n",
    "a = e[1]%e[3]\n",
    "if a != 0:\n",
    "    a = (e[1]//e[3])+1\n",
    "else:\n",
    "    a = e[1]//e[3]\n",
    "b = e[2]%e[4]    \n",
    "if b != 0:\n",
    "    b = (e[2]//e[4])+1\n",
    "else:\n",
    "    b = e[2]//e[4]\n",
    "print(e[0] - max(a,b))"
   ]
  },
  {
   "cell_type": "code",
   "execution_count": 63,
   "metadata": {},
   "outputs": [
    {
     "name": "stdout",
     "output_type": "stream",
     "text": [
      "9 0 0\n",
      "8 59 59\n",
      "0 0 38\n"
     ]
    }
   ],
   "source": [
    "e = []\n",
    "for i in range(3):\n",
    "    e.append(list(map(int,input().split())))\n",
    "for j in range(3):\n",
    "    result = ((-e[j][0]+e[j][3])*3600 + (-e[j][1]+e[j][4])*60 + (-e[j][2]+e[j][5]))\n",
    "    h = result//3600\n",
    "    result -= (3600*h)\n",
    "    m = result//60\n",
    "    result -= (60*m)\n",
    "    s = result\n",
    "    print(h,m,s)"
   ]
  },
  {
   "cell_type": "code",
   "execution_count": 54,
   "metadata": {},
   "outputs": [
    {
     "name": "stdout",
     "output_type": "stream",
     "text": [
      "[9, 0, 0, 18, 0, 0]\n"
     ]
    }
   ],
   "source": [
    "for i in range(3):\n",
    "    L = [int(input()) for j in range(6)]\n",
    "    print(L)"
   ]
  },
  {
   "cell_type": "code",
   "execution_count": 58,
   "metadata": {},
   "outputs": [
    {
     "name": "stdout",
     "output_type": "stream",
     "text": [
      "3599\n"
     ]
    }
   ],
   "source": [
    "print(32399 - (3600*8))"
   ]
  },
  {
   "cell_type": "code",
   "execution_count": 61,
   "metadata": {},
   "outputs": [
    {
     "data": {
      "text/plain": [
       "8"
      ]
     },
     "execution_count": 61,
     "metadata": {},
     "output_type": "execute_result"
    }
   ],
   "source": [
    "32399//3600"
   ]
  },
  {
   "cell_type": "code",
   "execution_count": null,
   "metadata": {},
   "outputs": [
    {
     "name": "stdout",
     "output_type": "stream",
     "text": [
      "1. Lionel Cosgrove\n",
      "2. Alice\n"
     ]
    }
   ],
   "source": [
    "for i in range(int(input())):\n",
    "    print(f'{i+1}. {input()}')"
   ]
  },
  {
   "cell_type": "code",
   "execution_count": 3,
   "metadata": {},
   "outputs": [
    {
     "name": "stdout",
     "output_type": "stream",
     "text": [
      "eee\n"
     ]
    }
   ],
   "source": [
    "for i in range(int(input())):\n",
    "    print(f'{input().lower()}')"
   ]
  },
  {
   "cell_type": "code",
   "execution_count": 4,
   "metadata": {},
   "outputs": [
    {
     "name": "stdout",
     "output_type": "stream",
     "text": [
      "320\n"
     ]
    }
   ],
   "source": [
    "S = list(map(int,input().split()))\n",
    "T = list(map(int,input().split()))\n",
    "print(max(sum(S), sum(T)))"
   ]
  },
  {
   "cell_type": "code",
   "execution_count": 11,
   "metadata": {},
   "outputs": [],
   "source": [
    "while True:\n",
    "    M,F = map(int,input().split())\n",
    "    if M == 0 and F == 0:\n",
    "        break\n",
    "    else:\n",
    "        print(M+F)"
   ]
  },
  {
   "cell_type": "code",
   "execution_count": 13,
   "metadata": {},
   "outputs": [
    {
     "name": "stdout",
     "output_type": "stream",
     "text": [
      "4\n"
     ]
    }
   ],
   "source": [
    "cnt = 0\n",
    "for i in input():\n",
    "    if i in 'aeiou':\n",
    "        cnt += 1\n",
    "print(cnt)"
   ]
  },
  {
   "cell_type": "code",
   "execution_count": 15,
   "metadata": {},
   "outputs": [
    {
     "name": "stdout",
     "output_type": "stream",
     "text": [
      "2\n"
     ]
    }
   ],
   "source": [
    "p = list(map(int,input().split()))\n",
    "a = list(map(int,input().split()))\n",
    "if a[0] in p:\n",
    "    print(p.index(a[0])+1)\n",
    "else:\n",
    "    print(0)"
   ]
  },
  {
   "cell_type": "code",
   "execution_count": 16,
   "metadata": {},
   "outputs": [
    {
     "name": "stdout",
     "output_type": "stream",
     "text": [
      "*\n",
      "******\n",
      "*****\n",
      "***\n",
      "********\n"
     ]
    }
   ],
   "source": [
    "for i in range(int(input())):\n",
    "    print('='*int(input()))"
   ]
  },
  {
   "cell_type": "code",
   "execution_count": 12,
   "metadata": {},
   "outputs": [
    {
     "name": "stdout",
     "output_type": "stream",
     "text": [
      "3 2\n"
     ]
    }
   ],
   "source": [
    "N,M,K = map(int,input().split())\n",
    "i = 0\n",
    "j = 0\n",
    "cnt = 0\n",
    "while True:\n",
    "    for j in range(N):\n",
    "        for i in range(M):\n",
    "            if cnt == K:\n",
    "                print(j,i)\n",
    "                break\n",
    "            else:\n",
    "                cnt += 1\n",
    "        if cnt == K:\n",
    "            break\n",
    "    if cnt == K:\n",
    "        break"
   ]
  },
  {
   "cell_type": "code",
   "execution_count": 15,
   "metadata": {},
   "outputs": [
    {
     "name": "stdout",
     "output_type": "stream",
     "text": [
      "1 2\n"
     ]
    }
   ],
   "source": [
    "N,M,K = map(int,input().split())\n",
    "i = 0\n",
    "j = 0\n",
    "cnt = 0\n",
    "for j in range(N):\n",
    "        for i in range(M):\n",
    "            if cnt == K:\n",
    "                print(j,i)\n",
    "                break\n",
    "            else:\n",
    "                cnt += 1\n",
    "        if cnt == K:\n",
    "             break"
   ]
  },
  {
   "cell_type": "code",
   "execution_count": 28,
   "metadata": {},
   "outputs": [
    {
     "name": "stdout",
     "output_type": "stream",
     "text": [
      "3 2\n"
     ]
    }
   ],
   "source": [
    "N,M,K = map(int,input().split())\n",
    "M_list = [i for i in range(M)]\n",
    "e = [M]*M\n",
    "for i in range(N):\n",
    "    if K in M_list:\n",
    "        print(i,M_list.index(K))\n",
    "        break\n",
    "    else:\n",
    "        M_list = [x+y for x,y in zip(M_list,e)]"
   ]
  },
  {
   "cell_type": "code",
   "execution_count": 59,
   "metadata": {},
   "outputs": [
    {
     "name": "stdout",
     "output_type": "stream",
     "text": [
      "19\n"
     ]
    }
   ],
   "source": [
    "p = int(input())\n",
    "p = str(p)\n",
    "if len(p) == 2:\n",
    "    print(int(p[0]) + int(p[1]))\n",
    "elif len(p) == 3:\n",
    "    if int(p[1]) == 0:\n",
    "        print(int(p[:2]) + int(p[2]))\n",
    "    else:\n",
    "        print(int(p[0]) + int(p[1:]))\n",
    "elif len(p) == 4:\n",
    "    print(int(p[:2]) + int(p[2:]))"
   ]
  },
  {
   "cell_type": "code",
   "execution_count": 60,
   "metadata": {},
   "outputs": [
    {
     "name": "stdout",
     "output_type": "stream",
     "text": [
      "4\n"
     ]
    }
   ],
   "source": [
    "N,M = map(int,input().split())\n",
    "print((N*M)//2)"
   ]
  },
  {
   "cell_type": "code",
   "execution_count": 66,
   "metadata": {},
   "outputs": [
    {
     "name": "stdout",
     "output_type": "stream",
     "text": [
      "68\n"
     ]
    }
   ],
   "source": [
    "sum = 0\n",
    "for i in range(5):\n",
    "    p = int(input())\n",
    "    sum += 40 if p < 40 else p\n",
    "print(sum//5)"
   ]
  },
  {
   "cell_type": "code",
   "execution_count": 69,
   "metadata": {},
   "outputs": [
    {
     "name": "stdout",
     "output_type": "stream",
     "text": [
      "Special\n"
     ]
    }
   ],
   "source": [
    "e = []\n",
    "for i in range(2):\n",
    "    e.append(int(input()))\n",
    "if e[0] < 2:\n",
    "    print('Before')\n",
    "elif e[0] > 2:\n",
    "    print('After')\n",
    "else:\n",
    "    if e[1] < 18:\n",
    "        print('Before')\n",
    "    elif e[1] > 18:\n",
    "        print('After')\n",
    "    else:\n",
    "        print('Special')    "
   ]
  },
  {
   "cell_type": "code",
   "execution_count": 73,
   "metadata": {},
   "outputs": [
    {
     "name": "stdout",
     "output_type": "stream",
     "text": [
      "3\n"
     ]
    }
   ],
   "source": [
    "a = int(input())\n",
    "b = list(map(int,input().split()))\n",
    "if a in b:\n",
    "    print(b.count(a))\n",
    "else:\n",
    "    print(0)"
   ]
  },
  {
   "cell_type": "code",
   "execution_count": 74,
   "metadata": {},
   "outputs": [
    {
     "name": "stdout",
     "output_type": "stream",
     "text": [
      "0\n"
     ]
    }
   ],
   "source": [
    "a = int(input())\n",
    "b = list(map(int,input().split()))\n",
    "print(b.count(a))"
   ]
  },
  {
   "cell_type": "code",
   "execution_count": 80,
   "metadata": {},
   "outputs": [
    {
     "name": "stdout",
     "output_type": "stream",
     "text": [
      "1 0 0 0 1 0 0 0 0 0 0 1 0 0 0 2 0 0 0 0 0 0 0 0 0 0\n"
     ]
    }
   ],
   "source": [
    "from string import ascii_lowercase\n",
    "aList = list(ascii_lowercase)\n",
    "S = input()\n",
    "e = [0]*26\n",
    "for i in S:\n",
    "    e[aList.index(i)] = S.count(i)\n",
    "print(' '.join(str(i) for i in e))"
   ]
  },
  {
   "cell_type": "code",
   "execution_count": 82,
   "metadata": {},
   "outputs": [
    {
     "name": "stdout",
     "output_type": "stream",
     "text": [
      "What a good code!\n",
      "obfustication\n",
      "obfustication\n",
      "We intend to begin on the first of February unrestricted submarine warfare\n",
      "Concealed within his fortress, the lord of Mordor sees all\n"
     ]
    }
   ],
   "source": [
    "while True:\n",
    "    p = input()\n",
    "    if p == 'END':\n",
    "        break\n",
    "    else:\n",
    "        print(p[::-1])"
   ]
  },
  {
   "cell_type": "code",
   "execution_count": 3,
   "metadata": {},
   "outputs": [
    {
     "name": "stdout",
     "output_type": "stream",
     "text": [
      "500\n"
     ]
    }
   ],
   "source": [
    "a = int(input())\n",
    "b = int(input())\n",
    "print(int(min(a,b)*100/2))"
   ]
  },
  {
   "cell_type": "code",
   "execution_count": 4,
   "metadata": {},
   "outputs": [
    {
     "name": "stdout",
     "output_type": "stream",
     "text": [
      "100\n"
     ]
    }
   ],
   "source": [
    "n,m,k = map(int,input().split())\n",
    "print((m*k)+m)"
   ]
  },
  {
   "cell_type": "code",
   "execution_count": 22,
   "metadata": {},
   "outputs": [
    {
     "name": "stdout",
     "output_type": "stream",
     "text": [
      "iLLiLLiLiL\n"
     ]
    }
   ],
   "source": [
    "n = int(input())\n",
    "S = list(input())\n",
    "for i in range(n):\n",
    "    if S[i] == 'I':\n",
    "        S[i] = 'i'\n",
    "    elif S[i] == 'l':\n",
    "        S[i] = 'L'\n",
    "print(''.join(S))"
   ]
  },
  {
   "cell_type": "code",
   "execution_count": 25,
   "metadata": {},
   "outputs": [
    {
     "name": "stdout",
     "output_type": "stream",
     "text": [
      "ArtificialIntelligence\n"
     ]
    }
   ],
   "source": [
    "L = []\n",
    "for i in range(7):\n",
    "    n,m = input().split()\n",
    "    L.append([n,int(m)])\n",
    "L.sort(key=lambda x: -x[1])\n",
    "print(L[0][0])"
   ]
  },
  {
   "cell_type": "code",
   "execution_count": 29,
   "metadata": {},
   "outputs": [
    {
     "name": "stdout",
     "output_type": "stream",
     "text": [
      "12 11\n"
     ]
    }
   ],
   "source": [
    "def onion(N,A,B,c,b):\n",
    "    for i in range(N):\n",
    "        c += A\n",
    "        b += B\n",
    "        if c == b:\n",
    "            b -= 1\n",
    "        if b > c:\n",
    "            e = c\n",
    "            c = b\n",
    "            b = e\n",
    "    return print(c,b)\n",
    "\n",
    "N,A,B = map(int,input().split())\n",
    "c = 1\n",
    "b = 1\n",
    "e = 0\n",
    "onion(N,A,B,c,b)"
   ]
  },
  {
   "cell_type": "code",
   "execution_count": 38,
   "metadata": {},
   "outputs": [
    {
     "name": "stdout",
     "output_type": "stream",
     "text": [
      "S\n"
     ]
    }
   ],
   "source": [
    "N = int(input())\n",
    "L = [input() for i in range(N)]\n",
    "for i in L:\n",
    "    if 'S' in i:\n",
    "        print(i)"
   ]
  },
  {
   "cell_type": "code",
   "execution_count": 67,
   "metadata": {},
   "outputs": [
    {
     "name": "stdout",
     "output_type": "stream",
     "text": [
      " \n"
     ]
    }
   ],
   "source": [
    "S = input()\n",
    "if S[0] != '\\\"' or S[-1] != '\\\"' or not S.strip(\"\\\"\"):\n",
    "    print('CE')\n",
    "else:\n",
    "    print(S.strip(\"\\\"\"))"
   ]
  },
  {
   "cell_type": "code",
   "execution_count": 79,
   "metadata": {},
   "outputs": [
    {
     "name": "stdout",
     "output_type": "stream",
     "text": [
      "1000\n"
     ]
    }
   ],
   "source": [
    "L = list(map(int,input().split()))\n",
    "L.sort(reverse = True)\n",
    "print(L[0] + L[1])"
   ]
  },
  {
   "cell_type": "code",
   "execution_count": 84,
   "metadata": {},
   "outputs": [
    {
     "name": "stdout",
     "output_type": "stream",
     "text": [
      "800\n"
     ]
    }
   ],
   "source": [
    "A,P,C = map(int,input().split())\n",
    "print(max(P, A+C))"
   ]
  },
  {
   "cell_type": "code",
   "execution_count": 1,
   "metadata": {},
   "outputs": [
    {
     "name": "stdout",
     "output_type": "stream",
     "text": [
      "0.7597469266479578\n"
     ]
    }
   ],
   "source": [
    "#17356\n",
    "A,B = map(int,input().split())\n",
    "print(1/(1+10**((B-A)/400)))"
   ]
  },
  {
   "cell_type": "code",
   "execution_count": 3,
   "metadata": {},
   "outputs": [
    {
     "name": "stdout",
     "output_type": "stream",
     "text": [
      "76.265472\n"
     ]
    }
   ],
   "source": [
    "#16486\n",
    "d1 = int(input())\n",
    "d2 = int(input())\n",
    "print((2*d1) + (2*d2*3.141592))"
   ]
  },
  {
   "cell_type": "code",
   "execution_count": 5,
   "metadata": {},
   "outputs": [
    {
     "name": "stdout",
     "output_type": "stream",
     "text": [
      "55\n"
     ]
    }
   ],
   "source": [
    "#23795\n",
    "sum = 0\n",
    "while True:\n",
    "    a = int(input())\n",
    "    if a >= 0:\n",
    "        sum += a\n",
    "    else:\n",
    "        break\n",
    "print(sum)"
   ]
  },
  {
   "cell_type": "code",
   "execution_count": 8,
   "metadata": {},
   "outputs": [
    {
     "ename": "SyntaxError",
     "evalue": "invalid syntax (4135586724.py, line 4)",
     "output_type": "error",
     "traceback": [
      "\u001b[1;36m  Cell \u001b[1;32mIn[8], line 4\u001b[1;36m\u001b[0m\n\u001b[1;33m    sum += a if a >= 0 else break\u001b[0m\n\u001b[1;37m                            ^\u001b[0m\n\u001b[1;31mSyntaxError\u001b[0m\u001b[1;31m:\u001b[0m invalid syntax\n"
     ]
    }
   ],
   "source": [
    "sum = 0\n",
    "while True:\n",
    "    a = int(input())\n",
    "    sum += a if a >= 0 else break\n",
    "print(sum)"
   ]
  },
  {
   "cell_type": "code",
   "execution_count": 3,
   "metadata": {},
   "outputs": [
    {
     "name": "stdout",
     "output_type": "stream",
     "text": [
      "5\n"
     ]
    }
   ],
   "source": [
    "#23825\n",
    "S,M = map(int,input().split())\n",
    "print(min(S,M)//2)"
   ]
  },
  {
   "cell_type": "code",
   "execution_count": 7,
   "metadata": {},
   "outputs": [
    {
     "name": "stdout",
     "output_type": "stream",
     "text": [
      "0\n",
      "0\n",
      "0\n"
     ]
    }
   ],
   "source": [
    "#1247\n",
    "count = 1\n",
    "while count <= 3:\n",
    "    N = int(input())\n",
    "    S = 0\n",
    "    for i in range(N):\n",
    "        S += int(input())\n",
    "    if S > 0:\n",
    "        print('+')\n",
    "    elif S < 0:\n",
    "        print('-')\n",
    "    else:\n",
    "        print('0')\n",
    "    count += 1"
   ]
  },
  {
   "cell_type": "code",
   "execution_count": 27,
   "metadata": {},
   "outputs": [
    {
     "name": "stdout",
     "output_type": "stream",
     "text": [
      "M 45\n"
     ]
    }
   ],
   "source": [
    "#1267\n",
    "Y = 0\n",
    "M = 0\n",
    "N = int(input())\n",
    "L = list(map(int,input().split()))\n",
    "for i in L:\n",
    "    Y += (10+(i//30)*10)\n",
    "for j in L:\n",
    "    M += (15+(j//60)*15)\n",
    "if Y<M:\n",
    "    print('Y', Y)\n",
    "elif Y>M:\n",
    "    print('M', M)\n",
    "else:\n",
    "    print('Y M', Y)"
   ]
  },
  {
   "cell_type": "code",
   "execution_count": 32,
   "metadata": {},
   "outputs": [
    {
     "name": "stdout",
     "output_type": "stream",
     "text": [
      "13\n",
      "15\n",
      "14\n"
     ]
    }
   ],
   "source": [
    "#1284\n",
    "while True:\n",
    "    N = input()\n",
    "    if N == '0':\n",
    "        break\n",
    "    else:\n",
    "        length = len(N)+1\n",
    "        for i in N:\n",
    "            if  i == '1':\n",
    "                length += 2\n",
    "            elif i == '0':\n",
    "                length += 4\n",
    "            else:\n",
    "                length += 3\n",
    "        print(length)"
   ]
  },
  {
   "cell_type": "code",
   "execution_count": 42,
   "metadata": {},
   "outputs": [
    {
     "name": "stdout",
     "output_type": "stream",
     "text": [
      "[2, 3, 1]\n"
     ]
    }
   ],
   "source": [
    "#1547\n",
    "M = int(input())\n",
    "cnt = 0\n",
    "L = [1,2,3]\n",
    "while cnt < M:\n",
    "    a,b = map(int,input().split())\n",
    "    i, j = L.index(a), L.index(b)\n",
    "    L[i], L[j]  = L[j], L[i]\n",
    "    cnt += 1\n",
    "print(L[0])"
   ]
  },
  {
   "cell_type": "code",
   "execution_count": 2,
   "metadata": {},
   "outputs": [
    {
     "name": "stdout",
     "output_type": "stream",
     "text": [
      "8\n"
     ]
    }
   ],
   "source": [
    "#1598\n",
    "a,b = map(int,input().split())\n",
    "X,Y = a//4, a%4\n",
    "if Y == 0:\n",
    "    X,Y = X-1,4\n",
    "x,y = b//4, b%4\n",
    "if y == 0:\n",
    "    x,y = x-1,4\n",
    "print((abs(X-x) + abs(Y-y)))"
   ]
  },
  {
   "cell_type": "code",
   "execution_count": 7,
   "metadata": {},
   "outputs": [
    {
     "name": "stdout",
     "output_type": "stream",
     "text": [
      "489\n"
     ]
    }
   ],
   "source": [
    "#1703\n",
    "while True:\n",
    "    branch = list(map(int,input().split()))\n",
    "    if branch[0] == 0:\n",
    "        break\n",
    "    else:\n",
    "        result = 1\n",
    "        for i in range(1,len(branch), 2):\n",
    "            result = (result*branch[i])-branch[i+1]\n",
    "        print(result)"
   ]
  },
  {
   "cell_type": "code",
   "execution_count": 20,
   "metadata": {},
   "outputs": [
    {
     "name": "stdout",
     "output_type": "stream",
     "text": [
      "BAD 7\n"
     ]
    }
   ],
   "source": [
    "#1837\n",
    "P,K = map(int,input().split())\n",
    "for i in range(2,K):\n",
    "    if P%i == 0:\n",
    "        print('BAD', i)\n",
    "        break\n",
    "else:\n",
    "    print('GOOD')"
   ]
  },
  {
   "cell_type": "code",
   "execution_count": null,
   "metadata": {},
   "outputs": [],
   "source": [
    "#2010\n",
    "import sys\n",
    "N = int(sys.stdin.readline())\n",
    "sum = 0\n",
    "for i in range(N):\n",
    "    sum += int(sys.stdin.readline())\n",
    "print(sum-(N-1))"
   ]
  },
  {
   "cell_type": "code",
   "execution_count": 4,
   "metadata": {},
   "outputs": [
    {
     "name": "stdout",
     "output_type": "stream",
     "text": [
      "*****\n",
      " ****\n",
      "  ***\n",
      "   **\n",
      "    *\n"
     ]
    }
   ],
   "source": [
    "#2441\n",
    "N = int(input())\n",
    "for i in range(N,0,-1):\n",
    "    print(('*'*i).rjust(N))"
   ]
  },
  {
   "cell_type": "code",
   "execution_count": 7,
   "metadata": {},
   "outputs": [
    {
     "name": "stdout",
     "output_type": "stream",
     "text": [
      "    *\n",
      "   ***\n",
      "  *****\n",
      " *******\n",
      "*********\n"
     ]
    }
   ],
   "source": [
    "#2442\n",
    "N = int(input())\n",
    "for i in range(1,N+1):\n",
    "    print(' '*(N-i)+'*'*((2*i)-1))"
   ]
  },
  {
   "cell_type": "code",
   "execution_count": 8,
   "metadata": {},
   "outputs": [
    {
     "name": "stdout",
     "output_type": "stream",
     "text": [
      "*********\n",
      " *******\n",
      "  *****\n",
      "   ***\n",
      "    *\n"
     ]
    }
   ],
   "source": [
    "#2443\n",
    "N = int(input())\n",
    "for i in range(N,0,-1):\n",
    "    print(' '*(N-i)+'*'*((2*i)-1))"
   ]
  },
  {
   "cell_type": "code",
   "execution_count": 9,
   "metadata": {},
   "outputs": [
    {
     "name": "stdout",
     "output_type": "stream",
     "text": [
      "    *\n",
      "   ***\n",
      "  *****\n",
      " *******\n",
      "*********\n",
      " *******\n",
      "  *****\n",
      "   ***\n",
      "    *\n"
     ]
    }
   ],
   "source": [
    "#2444\n",
    "N = int(input())\n",
    "for i in range(1,N):\n",
    "    print(' '*(N-i)+'*'*((2*i)-1))\n",
    "for i in range(N,0,-1):\n",
    "    print(' '*(N-i)+'*'*((2*i)-1))"
   ]
  },
  {
   "cell_type": "code",
   "execution_count": 20,
   "metadata": {},
   "outputs": [
    {
     "name": "stdout",
     "output_type": "stream",
     "text": [
      "*        *\n",
      "**      **\n",
      "***    ***\n",
      "****  ****\n",
      "**********\n",
      "****  ****\n",
      "***    ***\n",
      "**      **\n",
      "*        *\n"
     ]
    }
   ],
   "source": [
    "#2445\n",
    "N = int(input())\n",
    "for i in range(1,N+1):\n",
    "    print('*'*i + ' '*((2*N)-(2*i)) + '*'*i)\n",
    "for i in range(N-1,0,-1):\n",
    "    print('*'*i + ' '*((2*N)-(2*i)) + '*'*i)"
   ]
  },
  {
   "cell_type": "code",
   "execution_count": 24,
   "metadata": {},
   "outputs": [
    {
     "name": "stdout",
     "output_type": "stream",
     "text": [
      "*********\n",
      " *******\n",
      "  *****\n",
      "   ***\n",
      "    *\n",
      "   ***\n",
      "  *****\n",
      " *******\n",
      "*********\n"
     ]
    }
   ],
   "source": [
    "#2446\n",
    "N = int(input())\n",
    "for i in range(N,0,-1):\n",
    "    print(' '*(N-i)+'*'*((2*i)-1))\n",
    "for i in range(2,N+1):\n",
    "    print(' '*(N-i)+'*'*((2*i)-1))"
   ]
  },
  {
   "cell_type": "code",
   "execution_count": 26,
   "metadata": {},
   "outputs": [
    {
     "name": "stdout",
     "output_type": "stream",
     "text": [
      "  *\n",
      " **\n",
      "***\n",
      " **\n",
      "  *\n"
     ]
    }
   ],
   "source": [
    "#2522\n",
    "N = int(input())\n",
    "for i in range(1,N):\n",
    "    print(' '*(N-i) + '*'*i)\n",
    "for i in range(N,0,-1):\n",
    "    print(' '*(N-i) + '*'*i)"
   ]
  },
  {
   "cell_type": "code",
   "execution_count": 28,
   "metadata": {},
   "outputs": [
    {
     "name": "stdout",
     "output_type": "stream",
     "text": [
      "*\n",
      "**\n",
      "***\n",
      "**\n",
      "*\n"
     ]
    }
   ],
   "source": [
    "#2523\n",
    "N = int(input())\n",
    "for i in range(1,N):\n",
    "    print('*'*i)\n",
    "for i in range(N,0,-1):\n",
    "    print('*'*i)"
   ]
  },
  {
   "cell_type": "code",
   "execution_count": null,
   "metadata": {},
   "outputs": [],
   "source": [
    "#2455\n",
    "import sys\n",
    "train = 0\n",
    "num = []\n",
    "for k in range(4):\n",
    "    o,i = map(int,sys.stdin.readline().split())\n",
    "    train -= o\n",
    "    train += i\n",
    "    num.append(train)\n",
    "print(max(num))"
   ]
  },
  {
   "cell_type": "code",
   "execution_count": null,
   "metadata": {},
   "outputs": [],
   "source": [
    "#2460\n",
    "import sys\n",
    "train = 0\n",
    "num = []\n",
    "for k in range(10):\n",
    "    o,i = map(int,sys.stdin.readline().split())\n",
    "    train -= o\n",
    "    train += i\n",
    "    num.append(train)\n",
    "print(max(num))"
   ]
  },
  {
   "cell_type": "code",
   "execution_count": 10,
   "metadata": {},
   "outputs": [
    {
     "name": "stdout",
     "output_type": "stream",
     "text": [
      "[1, 5, 547, 2735]\n",
      "1\n"
     ]
    }
   ],
   "source": [
    "#2501\n",
    "N,K = map(int,input().split())\n",
    "i = 1\n",
    "e = []\n",
    "while i*i <= N:\n",
    "    if N%i == 0:\n",
    "        e.append(i)\n",
    "        if i == N//i:\n",
    "            break\n",
    "        else:\n",
    "            e.append(N//i)\n",
    "    i += 1\n",
    "e.sort()\n",
    "try:\n",
    "    print(e[K-1])\n",
    "except:\n",
    "    print(0)"
   ]
  },
  {
   "cell_type": "code",
   "execution_count": 13,
   "metadata": {},
   "outputs": [
    {
     "name": "stdout",
     "output_type": "stream",
     "text": [
      "4\n"
     ]
    }
   ],
   "source": [
    "#2506\n",
    "N = int(input())\n",
    "ox = list(map(int,input().split()))\n",
    "score = 0\n",
    "j = 0\n",
    "for i in ox:\n",
    "    if i == 1:\n",
    "        j += 1\n",
    "        score += j\n",
    "    else:\n",
    "        j = 0\n",
    "print(score)"
   ]
  },
  {
   "cell_type": "code",
   "execution_count": 21,
   "metadata": {},
   "outputs": [
    {
     "name": "stdout",
     "output_type": "stream",
     "text": [
      "4\n"
     ]
    }
   ],
   "source": [
    "#23972\n",
    "K,N = map(int,input().split())\n",
    "if N == 1:\n",
    "    print(-1)\n",
    "else:\n",
    "    if (K*N)%(N-1) != 0:\n",
    "        print(int((K*N)//(N-1))+1)\n",
    "    else:\n",
    "        print((K*N)//(N-1))"
   ]
  },
  {
   "cell_type": "code",
   "execution_count": 31,
   "metadata": {},
   "outputs": [
    {
     "name": "stdout",
     "output_type": "stream",
     "text": [
      "12000\n"
     ]
    }
   ],
   "source": [
    "#2476\n",
    "N = int(input())\n",
    "r = []\n",
    "for i in range(N):\n",
    "    dice = []\n",
    "    dice.append(list(map(int,input().split())))\n",
    "    for i in dice:\n",
    "        if len(set(i)) == 1:\n",
    "            r.append(10000 + 1000*i[0])\n",
    "        elif len(set(i)) == 3:\n",
    "            r.append(max(i)*100)\n",
    "        else:\n",
    "            if i[0] == i[1]:\n",
    "                r.append(1000 + i[0]*100)\n",
    "            elif i[0] == i[2]:\n",
    "                r.append(1000 + i[0]*100)\n",
    "            elif i[1] == i[2]:\n",
    "                r.append(1000 + i[1]*100)\n",
    "print(max(r))"
   ]
  },
  {
   "cell_type": "code",
   "execution_count": 4,
   "metadata": {},
   "outputs": [
    {
     "name": "stdout",
     "output_type": "stream",
     "text": [
      "D\n",
      "A\n",
      "C\n"
     ]
    }
   ],
   "source": [
    "#2490\n",
    "e = []\n",
    "for i in range(3):\n",
    "    e.append(sum(list(map(int,input().split()))))\n",
    "for j in e:\n",
    "    if j == 1:\n",
    "        print('C')\n",
    "    elif j == 2:\n",
    "        print('B')\n",
    "    elif j == 3:\n",
    "        print('A')\n",
    "    elif j == 4:\n",
    "        print('E')\n",
    "    else:\n",
    "        print('D')"
   ]
  },
  {
   "cell_type": "code",
   "execution_count": null,
   "metadata": {},
   "outputs": [],
   "source": [
    "#2547\n",
    "import sys\n",
    "input = sys.stdin.readline\n",
    "T = int(input())\n",
    "for i in range(T):\n",
    "    e = input()\n",
    "    N = int(input())\n",
    "    li = [int(input()) for i in range(N)]\n",
    "    print('YES' if sum(li)%N == 0 else 'NO')"
   ]
  },
  {
   "cell_type": "code",
   "execution_count": 26,
   "metadata": {},
   "outputs": [
    {
     "name": "stdout",
     "output_type": "stream",
     "text": [
      "90\n",
      "4 6\n"
     ]
    }
   ],
   "source": [
    "#2566\n",
    "e = [list(map(int,input().split())) for i in range(9)]\n",
    "print(max(list(map(max,e))))\n",
    "for i in range(9):\n",
    "    for j in range(9):\n",
    "        if e[i][j] == max(list(map(max,e))):\n",
    "            print(i+1,j+1)"
   ]
  },
  {
   "cell_type": "code",
   "execution_count": 3,
   "metadata": {},
   "outputs": [
    {
     "name": "stdout",
     "output_type": "stream",
     "text": [
      "-1\n"
     ]
    }
   ],
   "source": [
    "#2576\n",
    "import sys\n",
    "input = sys.stdin.readline\n",
    "e = []\n",
    "for i in range(7):\n",
    "    n = int(input())\n",
    "    if n%2 != 0:\n",
    "        e.append(n)\n",
    "if len(e) == 0:\n",
    "    print(-1)\n",
    "else:\n",
    "    print(sum(e))\n",
    "    print(min(e))"
   ]
  },
  {
   "cell_type": "code",
   "execution_count": 27,
   "metadata": {},
   "outputs": [
    {
     "name": "stdout",
     "output_type": "stream",
     "text": [
      "0.0000 kg\n"
     ]
    }
   ],
   "source": [
    "#2712\n",
    "T = int(input())\n",
    "\n",
    "for _ in range(T):\n",
    "    n, m = input().split()\n",
    "    n = float(n)\n",
    "\n",
    "    if m == \"kg\":\n",
    "        print(f\"{n*2.2046:0.4f} lb\")\n",
    "    elif m == \"lb\":\n",
    "        print(f\"{n*0.4536:0.4f} kg\")\n",
    "    elif m == \"l\":\n",
    "        print(f\"{n*0.2642:0.4f} g\")\n",
    "    else:\n",
    "        print(f\"{n*3.7854:0.4f} l\")"
   ]
  },
  {
   "cell_type": "code",
   "execution_count": 52,
   "metadata": {},
   "outputs": [
    {
     "ename": "TypeError",
     "evalue": "'int' object is not callable",
     "output_type": "error",
     "traceback": [
      "\u001b[1;31m---------------------------------------------------------------------------\u001b[0m",
      "\u001b[1;31mTypeError\u001b[0m                                 Traceback (most recent call last)",
      "Cell \u001b[1;32mIn[52], line 17\u001b[0m\n\u001b[0;32m     15\u001b[0m \u001b[38;5;28;01mfor\u001b[39;00m i \u001b[38;5;129;01min\u001b[39;00m \u001b[38;5;28mrange\u001b[39m(T):\n\u001b[0;32m     16\u001b[0m     n \u001b[38;5;241m=\u001b[39m \u001b[38;5;28mint\u001b[39m(\u001b[38;5;28minput\u001b[39m())\n\u001b[1;32m---> 17\u001b[0m     \u001b[38;5;28mprint\u001b[39m(\u001b[43mW\u001b[49m\u001b[43m(\u001b[49m\u001b[43mn\u001b[49m\u001b[43m)\u001b[49m)\n",
      "Cell \u001b[1;32mIn[52], line 11\u001b[0m, in \u001b[0;36mW\u001b[1;34m(n)\u001b[0m\n\u001b[0;32m      9\u001b[0m result \u001b[38;5;241m=\u001b[39m \u001b[38;5;241m0\u001b[39m\n\u001b[0;32m     10\u001b[0m \u001b[38;5;28;01mfor\u001b[39;00m i \u001b[38;5;129;01min\u001b[39;00m \u001b[38;5;28mrange\u001b[39m(\u001b[38;5;241m1\u001b[39m,n\u001b[38;5;241m+\u001b[39m\u001b[38;5;241m1\u001b[39m):\n\u001b[1;32m---> 11\u001b[0m     result \u001b[38;5;241m+\u001b[39m\u001b[38;5;241m=\u001b[39m (i\u001b[38;5;241m*\u001b[39m\u001b[43mT\u001b[49m\u001b[43m(\u001b[49m\u001b[43mi\u001b[49m\u001b[38;5;241;43m+\u001b[39;49m\u001b[38;5;241;43m1\u001b[39;49m\u001b[43m)\u001b[49m)\n\u001b[0;32m     12\u001b[0m \u001b[38;5;28;01mreturn\u001b[39;00m result\n",
      "\u001b[1;31mTypeError\u001b[0m: 'int' object is not callable"
     ]
    }
   ],
   "source": [
    "#2721\n",
    "def T(n):\n",
    "    tri = 0\n",
    "    for i in range(1,n+1):\n",
    "        tri += i\n",
    "    return tri\n",
    "\n",
    "def W(n):\n",
    "    result = 0\n",
    "    for i in range(1,n+1):\n",
    "        result += (i*T(i+1))\n",
    "    return result\n",
    "\n",
    "T = int(input())\n",
    "for i in range(T):\n",
    "    n = int(input())\n",
    "    print(W(n))"
   ]
  },
  {
   "cell_type": "code",
   "execution_count": 44,
   "metadata": {},
   "outputs": [
    {
     "name": "stdout",
     "output_type": "stream",
     "text": [
      "45\n",
      "105\n",
      "210\n",
      "2145\n"
     ]
    }
   ],
   "source": [
    "def T(n):\n",
    "    tri = 0\n",
    "    for i in range(1,n+1):\n",
    "        tri += i\n",
    "    return tri\n",
    "\n",
    "def W(n):\n",
    "    result = 0\n",
    "    for i in range(1,n+1):\n",
    "        result += (i*T(i+1))\n",
    "    return result\n",
    "\n",
    "for i in range(int(input())):\n",
    "    n = int(input())\n",
    "    print(W(n))"
   ]
  },
  {
   "cell_type": "code",
   "execution_count": null,
   "metadata": {},
   "outputs": [
    {
     "name": "stdout",
     "output_type": "stream",
     "text": [
      "4 2 0 4\n",
      "1 0 0 0\n",
      "7 1 1 4\n"
     ]
    }
   ],
   "source": [
    "#2720\n",
    "T = int(input())\n",
    "for i in range(T):\n",
    "    e = []\n",
    "    C = int(input())\n",
    "    e.append(C//25)\n",
    "    C = C%25\n",
    "    e.append(C//10)\n",
    "    C = C%10\n",
    "    e.append(C//5)\n",
    "    C = C%5\n",
    "    e.append(C//1)\n",
    "    print(' '.join(map(str,e)))"
   ]
  },
  {
   "cell_type": "code",
   "execution_count": null,
   "metadata": {},
   "outputs": [
    {
     "name": "stdout",
     "output_type": "stream",
     "text": [
      "4 2 0 4 "
     ]
    }
   ],
   "source": [
    "#2720\n",
    "T = int(input())\n",
    "for i in range(T):\n",
    "    C = int(input())\n",
    "    for j in [25,10,5,1]:\n",
    "        print(C//j, end = ' ')\n",
    "        C = C%j"
   ]
  },
  {
   "cell_type": "code",
   "execution_count": 12,
   "metadata": {},
   "outputs": [
    {
     "name": "stdout",
     "output_type": "stream",
     "text": [
      "4.0\n"
     ]
    }
   ],
   "source": [
    "#2754\n",
    "score = {'A+':4.3, 'A0':4.0, 'A-':3.7, 'B+':3.3, 'B0':3.0, 'B-':2.7, 'C+':2.3, 'C0':2.0, 'C-':1.7, 'D+':1.3, 'D0':1.0, 'D-':0.7, 'F':0.0}\n",
    "print(score[input()])"
   ]
  },
  {
   "cell_type": "code",
   "execution_count": null,
   "metadata": {},
   "outputs": [
    {
     "name": "stdout",
     "output_type": "stream",
     "text": [
      "Trip #1: 1.29 928.20\n",
      "Trip #2: 1179.86 1415.84\n"
     ]
    }
   ],
   "source": [
    "#2765\n",
    "cnt = 1\n",
    "while True:\n",
    "    d,r,t = input().split()\n",
    "    d,r,t = float(d),int(r),float(t)\n",
    "    if r == 0: break\n",
    "    else:\n",
    "        distance = d*3.1415927*r*1/63360\n",
    "        mph = round(distance*3600/t,2)\n",
    "    print(f'Trip #{cnt}: {round(distance,2):0.2f} {mph:0.2f}')\n",
    "    cnt += 1"
   ]
  },
  {
   "cell_type": "code",
   "execution_count": 32,
   "metadata": {},
   "outputs": [
    {
     "name": "stdout",
     "output_type": "stream",
     "text": [
      "50.00\n"
     ]
    }
   ],
   "source": [
    "#2783\n",
    "x,y = map(int,input().split())\n",
    "e = [round(x*1000/y,2)]\n",
    "for i in range(int(input())):\n",
    "    p,g = map(int,input().split())\n",
    "    e.append(round(p*1000/g,2))\n",
    "print(f'{min(e):0.2f}')"
   ]
  },
  {
   "cell_type": "code",
   "execution_count": null,
   "metadata": {},
   "outputs": [
    {
     "name": "stdout",
     "output_type": "stream",
     "text": [
      "1 3 5 "
     ]
    }
   ],
   "source": [
    "#2857\n",
    "import sys\n",
    "input = sys.stdin.readline\n",
    "cnt = 0\n",
    "for i in range(1,6):\n",
    "    spy = input()\n",
    "    if 'FBI' in spy:\n",
    "        print(i, end = ' ')\n",
    "        cnt += 1\n",
    "if cnt == 0:\n",
    "    print('HE GOT AWAY!')"
   ]
  },
  {
   "cell_type": "code",
   "execution_count": 40,
   "metadata": {},
   "outputs": [
    {
     "name": "stdout",
     "output_type": "stream",
     "text": [
      "1\n"
     ]
    }
   ],
   "source": [
    "#2863\n",
    "l = [list(map(int,input().split())) for i in range(2)]\n",
    "A = l[0][0]\n",
    "B = l[0][1]\n",
    "C = l[1][0]\n",
    "D = l[1][1]\n",
    "e = []\n",
    "e.append(A/C + B/D)\n",
    "e.append(C/D + A/B)\n",
    "e.append(D/B + C/A)\n",
    "e.append(B/A + D/C)\n",
    "print(e.index(max(e)))"
   ]
  },
  {
   "cell_type": "code",
   "execution_count": null,
   "metadata": {},
   "outputs": [],
   "source": [
    "#2863\n",
    "A,B = map(int,input().split())\n",
    "C,D = map(int,input().split())\n",
    "l = [A/C + B/D, C/D + A/B, D/B + C/A, B/A + D/C]\n",
    "print(l.index(max(l)))"
   ]
  },
  {
   "cell_type": "code",
   "execution_count": 68,
   "metadata": {},
   "outputs": [
    {
     "name": "stdout",
     "output_type": "stream",
     "text": [
      "2\n"
     ]
    }
   ],
   "source": [
    "#2875\n",
    "N,M,K = map(int,input().split())\n",
    "T = max(N//2,M)-abs(N//2-M)\n",
    "X = N+M-3*T\n",
    "if X>=K:\n",
    "    print(T)\n",
    "else:\n",
    "    print((3*T-K+X)//3)"
   ]
  },
  {
   "cell_type": "code",
   "execution_count": null,
   "metadata": {},
   "outputs": [
    {
     "name": "stdout",
     "output_type": "stream",
     "text": [
      "1089\n"
     ]
    }
   ],
   "source": [
    "#2903\n",
    "N = int(input())\n",
    "s = 2\n",
    "for i in range(1,N+1):\n",
    "    s = 2*s-1\n",
    "print(s*s)"
   ]
  },
  {
   "cell_type": "code",
   "execution_count": 5,
   "metadata": {},
   "outputs": [
    {
     "name": "stdout",
     "output_type": "stream",
     "text": [
      "91\n"
     ]
    }
   ],
   "source": [
    "#2914\n",
    "A,I = map(int,input().split())\n",
    "print(A*I-A+1)"
   ]
  },
  {
   "cell_type": "code",
   "execution_count": 2,
   "metadata": {},
   "outputs": [
    {
     "name": "stdout",
     "output_type": "stream",
     "text": [
      "100000\n"
     ]
    }
   ],
   "source": [
    "#2935\n",
    "A = int(input())\n",
    "cal = input()\n",
    "B = int(input())\n",
    "if cal == '+':\n",
    "    print(A+B)\n",
    "else:\n",
    "    print(A*B)"
   ]
  },
  {
   "cell_type": "code",
   "execution_count": 4,
   "metadata": {},
   "outputs": [
    {
     "name": "stdout",
     "output_type": "stream",
     "text": [
      "4 19\n"
     ]
    }
   ],
   "source": [
    "#2953\n",
    "score = [sum(list(map(int,input().split()))) for i in range(5)]\n",
    "print(score.index(max(score))+1, max(score))"
   ]
  },
  {
   "cell_type": "code",
   "execution_count": null,
   "metadata": {},
   "outputs": [],
   "source": [
    "#2959\n",
    "import sys\n",
    "input = sys.stdin.readline\n",
    "square = list(map(int,input().split()))\n",
    "square.sort()\n",
    "print(square[0]*square[2])"
   ]
  },
  {
   "cell_type": "code",
   "execution_count": 7,
   "metadata": {},
   "outputs": [
    {
     "name": "stdout",
     "output_type": "stream",
     "text": [
      "3\n"
     ]
    }
   ],
   "source": [
    "#2965\n",
    "A,B,C = map(int,input().split())\n",
    "print(max(C-B-1, B-A-1))"
   ]
  },
  {
   "cell_type": "code",
   "execution_count": 13,
   "metadata": {},
   "outputs": [
    {
     "name": "stdout",
     "output_type": "stream",
     "text": [
      "5=15/3\n"
     ]
    }
   ],
   "source": [
    "#2985\n",
    "a,b,c = map(int,input().split())\n",
    "cnt = 0\n",
    "if a+b == c:\n",
    "    print(f'{a}+{b}={c}')\n",
    "    cnt += 1\n",
    "elif b+c == a:\n",
    "    print(f'{a}={b}+{c}')\n",
    "    cnt += 1\n",
    "\n",
    "if cnt == 0:\n",
    "    if a-b == c:\n",
    "        print(f'{a}-{b}={c}')\n",
    "        cnt += 1\n",
    "    elif b-c == a:\n",
    "        print(f'{a}={b}-{c}')\n",
    "        cnt += 1\n",
    "\n",
    "if cnt == 0:\n",
    "    if a/b == c:\n",
    "        print(f'{a}/{b}={c}')\n",
    "        cnt += 1\n",
    "    elif b/c == a:\n",
    "        print(f'{a}={b}/{c}')\n",
    "        cnt += 1\n",
    "\n",
    "if cnt == 0:\n",
    "    if a*b == c:\n",
    "        print(f'{a}*{b}={c}')\n",
    "    elif b*c == a:\n",
    "        print(f'{a}={b}*{c}')"
   ]
  },
  {
   "cell_type": "code",
   "execution_count": null,
   "metadata": {},
   "outputs": [
    {
     "data": {
      "text/plain": [
       "0"
      ]
     },
     "execution_count": 25,
     "metadata": {},
     "output_type": "execute_result"
    }
   ],
   "source": [
    "#2921\n",
    "import sys\n",
    "sys.setrecursionlimit(10000)\n",
    "def f(n):\n",
    "    if n == 0:\n",
    "        return 0\n",
    "    return f(n-1) + int(3/2*n*(n+1))\n",
    "n = int(input())\n",
    "print(f(n))"
   ]
  },
  {
   "cell_type": "code",
   "execution_count": 40,
   "metadata": {},
   "outputs": [
    {
     "name": "stdout",
     "output_type": "stream",
     "text": [
      "4\n"
     ]
    }
   ],
   "source": [
    "#2997\n",
    "a,b,c = map(int,input().split())\n",
    "d = min(abs(a-b), abs(a-c), abs(b-c))\n",
    "e = [a,b,c]\n",
    "if max(a,b,c)-d == min(a,b,c)+d:\n",
    "    print(max(a,b,c)+d)\n",
    "if min(a,b,c)+d not in e:\n",
    "    print(min(a,b,c)+d)\n",
    "if max(a,b,c)-d not in e:\n",
    "    print(max(a,b,c)-d)"
   ]
  },
  {
   "cell_type": "code",
   "execution_count": 59,
   "metadata": {},
   "outputs": [
    {
     "name": "stdout",
     "output_type": "stream",
     "text": [
      "12\n"
     ]
    }
   ],
   "source": [
    "#3004\n",
    "N = int(input())\n",
    "a,b = 1,1\n",
    "if N%2 == 0:\n",
    "    a += N//2\n",
    "    b += N//2\n",
    "    print(a*b)\n",
    "else:\n",
    "    a += int(N/2+0.5)\n",
    "    b += int(N/2-0.5)\n",
    "    print(a*b)"
   ]
  },
  {
   "cell_type": "code",
   "execution_count": 63,
   "metadata": {},
   "outputs": [
    {
     "name": "stdout",
     "output_type": "stream",
     "text": [
      "30 10\n"
     ]
    }
   ],
   "source": [
    "#3009\n",
    "a,b = map(int,input().split())\n",
    "c,d  =map(int,input().split())\n",
    "e,f = map(int,input().split())\n",
    "\n",
    "x = [a,c,e]\n",
    "y = [b,d,f]\n",
    "\n",
    "if x.count(a) == 1:\n",
    "    X = a\n",
    "elif x.count(c) == 1:\n",
    "    X = c\n",
    "elif x.count(e) == 1:\n",
    "    X = e\n",
    "\n",
    "if y.count(b) == 1:\n",
    "    Y = b\n",
    "elif y.count(d) == 1:\n",
    "    Y = d\n",
    "elif y.count(f) == 1:\n",
    "    Y = f\n",
    "\n",
    "print(X,Y)"
   ]
  },
  {
   "cell_type": "code",
   "execution_count": 67,
   "metadata": {},
   "outputs": [
    {
     "name": "stdout",
     "output_type": "stream",
     "text": [
      "7\n"
     ]
    }
   ],
   "source": [
    "#2475\n",
    "l = list(map(int,input().split()))\n",
    "for i in l:\n",
    "    i = i**2\n",
    "print(sum(l)%10)"
   ]
  },
  {
   "cell_type": "code",
   "execution_count": 79,
   "metadata": {},
   "outputs": [
    {
     "name": "stdout",
     "output_type": "stream",
     "text": [
      "1\n"
     ]
    }
   ],
   "source": [
    "print(sum([x**2 for x in map(int,input().split())])%10)"
   ]
  },
  {
   "cell_type": "code",
   "execution_count": 83,
   "metadata": {},
   "outputs": [
    {
     "name": "stdout",
     "output_type": "stream",
     "text": [
      "1\n",
      "2\n",
      "3\n",
      "4\n",
      "5\n"
     ]
    }
   ],
   "source": [
    "#2741\n",
    "for i in range(1,int(input())+1):\n",
    "    print(i)"
   ]
  },
  {
   "cell_type": "code",
   "execution_count": 86,
   "metadata": {},
   "outputs": [
    {
     "name": "stdout",
     "output_type": "stream",
     "text": [
      "2\n",
      "29\n"
     ]
    }
   ],
   "source": [
    "#3140\n",
    "A = int(input())\n",
    "B = int(input())\n",
    "C = int(input())\n",
    "print(A+B-C)\n",
    "print(int(str(A)+str(B))-C)"
   ]
  },
  {
   "cell_type": "code",
   "execution_count": 91,
   "metadata": {},
   "outputs": [
    {
     "name": "stdout",
     "output_type": "stream",
     "text": [
      "mixed\n"
     ]
    }
   ],
   "source": [
    "#2920\n",
    "a = list(map(int,input().split()))\n",
    "b = sorted(a)\n",
    "c = sorted(a,reverse = True)\n",
    "if a == b:\n",
    "    print('ascending')\n",
    "elif a == c:\n",
    "    print('descending')\n",
    "else:\n",
    "    print('mixed')"
   ]
  },
  {
   "cell_type": "code",
   "execution_count": null,
   "metadata": {},
   "outputs": [
    {
     "name": "stdout",
     "output_type": "stream",
     "text": [
      "2024-11-02\n"
     ]
    }
   ],
   "source": [
    "#10699\n",
    "import datetime\n",
    "today = datetime.date.today()\n",
    "print(today)"
   ]
  },
  {
   "cell_type": "code",
   "execution_count": null,
   "metadata": {},
   "outputs": [],
   "source": [
    "#7287\n",
    "print('168')\n",
    "print('bitbird')"
   ]
  },
  {
   "cell_type": "code",
   "execution_count": 95,
   "metadata": {},
   "outputs": [
    {
     "name": "stdout",
     "output_type": "stream",
     "text": [
      "7\n"
     ]
    }
   ],
   "source": [
    "#2420\n",
    "N,M = map(int,input().split())\n",
    "print(abs(N-M))"
   ]
  },
  {
   "cell_type": "code",
   "execution_count": 97,
   "metadata": {},
   "outputs": [
    {
     "name": "stdout",
     "output_type": "stream",
     "text": [
      "-7\n"
     ]
    }
   ],
   "source": [
    "#15964\n",
    "A,B = map(int,input().split())\n",
    "print((A+B)*(A-B))"
   ]
  },
  {
   "cell_type": "code",
   "execution_count": null,
   "metadata": {},
   "outputs": [
    {
     "name": "stdout",
     "output_type": "stream",
     "text": [
      "i\n",
      "im\n",
      "it\n",
      "no\n",
      "but\n",
      "more\n",
      "wait\n",
      "wont\n",
      "yours\n",
      "cannot\n",
      "hesitate\n"
     ]
    }
   ],
   "source": [
    "#1181\n",
    "import sys\n",
    "input = sys.stdin.readline\n",
    "N = int(input())\n",
    "arr = []\n",
    "for i in range(N):\n",
    "    arr.append(input().strip())\n",
    "arr = list(set(arr))\n",
    "arr = sorted(arr, key=lambda x: (len(x), x))\n",
    "for i in arr:\n",
    "    print(i)"
   ]
  },
  {
   "cell_type": "code",
   "execution_count": null,
   "metadata": {},
   "outputs": [
    {
     "name": "stdout",
     "output_type": "stream",
     "text": [
      "wrong\n",
      "wrong\n"
     ]
    }
   ],
   "source": [
    "#4153\n",
    "while True:\n",
    "    a,b,c = sorted(list(map(int,input().split())))\n",
    "    if a == 0 and b == 0 and c == 0:\n",
    "        break\n",
    "    else:\n",
    "        if a**2 + b**2 == c**2:\n",
    "            print('right')\n",
    "        else:\n",
    "            print('wrong')"
   ]
  },
  {
   "cell_type": "code",
   "execution_count": null,
   "metadata": {},
   "outputs": [
    {
     "name": "stdout",
     "output_type": "stream",
     "text": [
      "00:00:00\n"
     ]
    }
   ],
   "source": [
    "#3029\n",
    "F = input()\n",
    "S = input()\n",
    "\n",
    "f = int(F[:2])*3600 + int(F[3:5])*60 + int(F[6:])\n",
    "s = int(S[:2])*3600 + int(S[3:5])*60 + int(S[6:])\n",
    "\n",
    "def W1(f,s):\n",
    "    w1 = s - f\n",
    "    wh = w1 // 3600\n",
    "    if len(str(wh)) == 1:\n",
    "        wh = '0' + str(wh)\n",
    "    wm = (w1%3600) // 60\n",
    "    if len(str(wm)) == 1:\n",
    "        wm = '0' + str(wm)\n",
    "    ws = (w1%3600) % 60\n",
    "    if len(str(ws)) == 1:\n",
    "        ws = '0' + str(ws)\n",
    "    return print(f'{wh}:{wm}:{ws}')\n",
    "\n",
    "\n",
    "def W2(f,s):\n",
    "    w2 = 86400 - f + s\n",
    "    wh = w2 // 3600\n",
    "    if len(str(wh)) == 1:\n",
    "        wh = '0' + str(wh)\n",
    "    wm = (w2%3600) // 60\n",
    "    if len(str(wm)) == 1:\n",
    "        wm = '0' + str(wm)\n",
    "    ws = (w2%3600) % 60\n",
    "    if len(str(ws)) == 1:\n",
    "        ws = '0' + str(ws)\n",
    "    return print(f'{wh}:{wm}:{ws}')\n",
    "\n",
    "if f < s:\n",
    "    W1(f,s)\n",
    "elif f > s:\n",
    "    W2(f,s)\n",
    "else:\n",
    "    print(':00:00')"
   ]
  },
  {
   "cell_type": "code",
   "execution_count": null,
   "metadata": {},
   "outputs": [
    {
     "name": "stdout",
     "output_type": "stream",
     "text": [
      "DA\n",
      "DA\n",
      "DA\n",
      "NE\n",
      "NE\n"
     ]
    }
   ],
   "source": [
    "#3034\n",
    "import sys\n",
    "input = sys.stdin.readline\n",
    "import math\n",
    "N,W,H = map(int,input().split())\n",
    "for i in range(N):\n",
    "    s = float(input())\n",
    "    if s <= math.sqrt(W**2 + H**2):\n",
    "        print('DA')\n",
    "    else:\n",
    "        print('NE')"
   ]
  },
  {
   "cell_type": "code",
   "execution_count": null,
   "metadata": {},
   "outputs": [
    {
     "name": "stdout",
     "output_type": "stream",
     "text": [
      "6 2 4 "
     ]
    }
   ],
   "source": [
    "#3047\n",
    "A,B,C = sorted(list(map(int,input().split())))\n",
    "y = list(input())\n",
    "for i in y:\n",
    "    if i == 'A':\n",
    "        print(A, end=' ')\n",
    "    elif i == 'B':\n",
    "        print(B, end = ' ')\n",
    "    else:\n",
    "        print(C, end = ' ')"
   ]
  },
  {
   "cell_type": "code",
   "execution_count": 50,
   "metadata": {},
   "outputs": [
    {
     "name": "stdout",
     "output_type": "stream",
     "text": [
      "1 3 5\n"
     ]
    }
   ],
   "source": [
    "nums = sorted(map(int,input().split()))\n",
    "order = {'A':0, 'B':1, 'C':2}\n",
    "print(*[nums[order[i]] for i in input()])"
   ]
  },
  {
   "cell_type": "code",
   "execution_count": null,
   "metadata": {},
   "outputs": [
    {
     "data": {
      "text/plain": [
       "list"
      ]
     },
     "execution_count": 48,
     "metadata": {},
     "output_type": "execute_result"
    }
   ],
   "source": [
    "nums = sorted(map(int,input().split()))\n",
    "print(*[nums(ord(i)-ord('A')) for i in input()])\n"
   ]
  }
 ],
 "metadata": {
  "kernelspec": {
   "display_name": "Python 3",
   "language": "python",
   "name": "python3"
  },
  "language_info": {
   "codemirror_mode": {
    "name": "ipython",
    "version": 3
   },
   "file_extension": ".py",
   "mimetype": "text/x-python",
   "name": "python",
   "nbconvert_exporter": "python",
   "pygments_lexer": "ipython3",
   "version": "3.10.2"
  }
 },
 "nbformat": 4,
 "nbformat_minor": 2
}
