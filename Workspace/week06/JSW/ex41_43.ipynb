{
 "cells": [
  {
   "cell_type": "markdown",
   "metadata": {},
   "source": [
    "# 041\n",
    "동적 계획법을 사용하여 피보나치 수 구하기"
   ]
  },
  {
   "cell_type": "code",
   "execution_count": 7,
   "metadata": {},
   "outputs": [
    {
     "name": "stdout",
     "output_type": "stream",
     "text": [
      "1 1 2 3 5 8 13 21 34 55 89 144 233 377 610 987 1597 2584 4181 6765\n"
     ]
    }
   ],
   "source": [
    "def fibo_DP(N:int)->int:\n",
    "    arr_fibo = [0]*(N+1)\n",
    "    def recurse(n):\n",
    "        if arr_fibo[n]:\n",
    "            return arr_fibo[n]\n",
    "        if n == 0:\n",
    "            return 0\n",
    "        if n == 1:\n",
    "            return 1\n",
    "        \n",
    "        arr_fibo[n] = recurse(n-1) + recurse(n-2)\n",
    "        return arr_fibo[n]\n",
    "    return recurse(N)\n",
    "\n",
    "print(*[fibo_DP(i) for i in range(1, 20+1)])"
   ]
  },
  {
   "cell_type": "markdown",
   "metadata": {},
   "source": [
    "# 042\n",
    "동적 계획법을 사용하여 1부터 N까지의 합 구하기(재귀 호출 사용)"
   ]
  },
  {
   "cell_type": "code",
   "execution_count": 14,
   "metadata": {},
   "outputs": [
    {
     "name": "stdout",
     "output_type": "stream",
     "text": [
      "코드는 이븐하거등요.\n"
     ]
    }
   ],
   "source": [
    "def sum_one_to_N_sol(n):\n",
    "    return n*(n+1)//2\n",
    "def sum_one_to_N_recursive(n):\n",
    "    arr = [0]*(n+1)\n",
    "    def recurse(n):\n",
    "        if n == 1:\n",
    "            return 1\n",
    "        if arr[n]:\n",
    "            return arr[n]\n",
    "        arr[n] = recurse(n-1) + n\n",
    "        return arr[n]\n",
    "    return recurse(n)\n",
    "\n",
    "error_flag = False\n",
    "for i in range(1, 100+1):\n",
    "    if sum_one_to_N_recursive(i) != sum_one_to_N_sol(i):\n",
    "        error_flag = True\n",
    "        print(\"공습 경보!!!\")\n",
    "\n",
    "\n",
    "if not error_flag:\n",
    "    print(\"코드는 이븐하거등요.\")"
   ]
  },
  {
   "cell_type": "markdown",
   "metadata": {},
   "source": [
    "# 043\n",
    "반복문(상향식 설계)을 사용하여 1부터 N까지의 합 구하기"
   ]
  },
  {
   "cell_type": "code",
   "execution_count": 16,
   "metadata": {},
   "outputs": [
    {
     "name": "stdout",
     "output_type": "stream",
     "text": [
      "True\n"
     ]
    }
   ],
   "source": [
    "# N = int(input())\n",
    "N = 100\n",
    "arr = [0]*(N+1)\n",
    "for i in range(1, N+1):\n",
    "    arr[i] = i + arr[i-1]\n",
    "\n",
    "print((N*(N+1)//2) == (arr[N]))"
   ]
  }
 ],
 "metadata": {
  "kernelspec": {
   "display_name": "base",
   "language": "python",
   "name": "python3"
  },
  "language_info": {
   "codemirror_mode": {
    "name": "ipython",
    "version": 3
   },
   "file_extension": ".py",
   "mimetype": "text/x-python",
   "name": "python",
   "nbconvert_exporter": "python",
   "pygments_lexer": "ipython3",
   "version": "3.11.5"
  }
 },
 "nbformat": 4,
 "nbformat_minor": 2
}
