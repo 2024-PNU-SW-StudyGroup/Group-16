{
 "cells": [
  {
   "cell_type": "markdown",
   "metadata": {},
   "source": [
    "# 020\n",
    "재귀 호출을 사용하여 조합 구하기"
   ]
  },
  {
   "cell_type": "code",
   "execution_count": 7,
   "metadata": {},
   "outputs": [],
   "source": [
    "import math\n",
    "\n",
    "def comb_recursive(n, r):\n",
    " if n < r:\n",
    "  return 0\n",
    " if r == 0 or n == 0:\n",
    "  return 1\n",
    " return comb_recursive(n-1, r-1) + comb_recursive(n-1, r)\n",
    "\n",
    "for i, j in zip(range(100, 100)):\n",
    " if math.comb(i, j) != comb_recursive(i, j):\n",
    "  print(\"Failed\")\n",
    "  raise Exception(\"Failed\")"
   ]
  },
  {
   "cell_type": "markdown",
   "metadata": {},
   "source": [
    "# 021\n",
    "최적화한 조합"
   ]
  },
  {
   "cell_type": "code",
   "execution_count": 59,
   "metadata": {},
   "outputs": [],
   "source": [
    "def comb_optimized(n, r):\n",
    " if n < r:\n",
    "  return 0\n",
    " if r == 0 or n == 0:\n",
    "  return 1\n",
    " return comb_optimized(n, r-1) * ((n-r+1) // r)\n",
    "\n",
    "for i, j in zip(range(100, 100)):\n",
    " if math.comb(i, j) != comb_optimized(i, j):\n",
    "  print(\"Failed\")\n",
    "  raise Exception(\"Failed\")"
   ]
  },
  {
   "cell_type": "markdown",
   "metadata": {},
   "source": [
    "# 022\n",
    "대리석 채우기\n"
   ]
  },
  {
   "cell_type": "code",
   "execution_count": 15,
   "metadata": {},
   "outputs": [],
   "source": [
    "def fill_stone(n):\n",
    " if n < 1:\n",
    "  return 0\n",
    " if n == 1:\n",
    "  return 1\n",
    " if n == 2:\n",
    "  return 3\n",
    " return fill_stone(n-1) + fill_stone(n-2) * 2\n",
    "\n",
    "def solution(k, m):\n",
    " if k <= 1:\n",
    "  return 1%m\n",
    " else:\n",
    "  return (solution(k-1, m) + solution(k-2, m) * 2) % m\n",
    "\n",
    "for i in range(100):\n",
    " if fill_stone(i) != solution(i, 2):\n",
    "  raise Exception(\"Failed\")"
   ]
  },
  {
   "cell_type": "markdown",
   "metadata": {},
   "source": [
    "# 023\n",
    "두 숫자간의 차이 구하기"
   ]
  },
  {
   "cell_type": "code",
   "execution_count": 17,
   "metadata": {},
   "outputs": [],
   "source": [
    "def my_abs(a, b):\n",
    " if a < b:\n",
    "  return b - a\n",
    " else:\n",
    "  return a - b\n",
    "\n",
    "for i, j in zip(range(100, 100)):\n",
    " if my_abs(i, j) != abs(i-j):\n",
    "  raise Exception(\"Failed\")"
   ]
  },
  {
   "cell_type": "markdown",
   "metadata": {},
   "source": [
    "# 024\n",
    "점수 분포 출력하기\n",
    "\n",
    "# input\n",
    "a = [75, 25, 6, 73, 43, 46, 31, 13, 60, 90, 5, 43, 35, 65, 100, 28, 83, 95, 35, 45, -1]\n",
    "# output\n",
    "%d 점대 - : %d 명"
   ]
  },
  {
   "cell_type": "code",
   "execution_count": 31,
   "metadata": {},
   "outputs": [
    {
     "name": "stdout",
     "output_type": "stream",
     "text": [
      "75\n",
      "25\n",
      "6\n",
      "73\n",
      "43\n",
      "46\n",
      "31\n",
      "13\n",
      "60\n",
      "90\n",
      "5\n",
      "43\n",
      "35\n",
      "65\n",
      "100\n",
      "28\n",
      "83\n",
      "95\n",
      "35\n",
      "45\n",
      " 0 점대 - : 3명\n",
      "10 점대 - : 1명\n",
      "20 점대 - : 0명\n",
      "30 점대 - : 5명\n",
      "40 점대 - : 0명\n",
      "50 점대 - : 8명\n",
      "60 점대 - : 2명\n",
      "70 점대 - : 0명\n",
      "80 점대 - : 1명\n",
      "90 점대 - : 0명\n"
     ]
    }
   ],
   "source": [
    "from collections import defaultdict\n",
    "\n",
    "def distribution(arr):\n",
    " result = defaultdict(int)\n",
    " i = 0\n",
    " while (temp:=arr[i]) != -1:\n",
    "  result[temp%10] += 1\n",
    "  i += 1\n",
    "\n",
    " return result\n",
    "\n",
    "def print_distribution(arr):\n",
    " for i in range(10):\n",
    "  print(f\"{i*10:2} 점대 - : {arr[i]}명\")\n",
    "\n",
    "\n",
    "a = [75, 25, 6, 73, 43, 46, 31, 13, 60, 90, 5, 43, 35, 65, 100, 28, 83, 95, 35, 45, -1]\n",
    "dist = distribution(a)\n",
    "print_distribution(dist)"
   ]
  },
  {
   "cell_type": "markdown",
   "metadata": {},
   "source": [
    "# 025\n",
    "등수 구하기\n",
    "## input\n",
    "a = [75, 25, 6, 73, 43, 46, 31, 13, 60, 90, 5, 43, 35, 65, 100, 28, 83, 95, 35, 45, -1]\n",
    "## output\n",
    "%d 점 - : %d 등"
   ]
  },
  {
   "cell_type": "code",
   "execution_count": 71,
   "metadata": {},
   "outputs": [
    {
     "name": "stdout",
     "output_type": "stream",
     "text": [
      "100 점 - :  1 등\n",
      " 95 점 - :  2 등\n",
      " 90 점 - :  3 등\n",
      " 83 점 - :  4 등\n",
      " 75 점 - :  5 등\n",
      " 73 점 - :  6 등\n",
      " 65 점 - :  7 등\n",
      " 60 점 - :  8 등\n",
      " 46 점 - :  9 등\n",
      " 45 점 - : 10 등\n",
      " 43 점 - : 11 등\n",
      " 43 점 - : 12 등\n",
      " 35 점 - : 13 등\n",
      " 35 점 - : 14 등\n",
      " 31 점 - : 15 등\n",
      " 28 점 - : 16 등\n",
      " 25 점 - : 17 등\n",
      " 13 점 - : 18 등\n",
      "  6 점 - : 19 등\n",
      "  5 점 - : 20 등\n"
     ]
    }
   ],
   "source": [
    "a = [75, 25, 6, 73, 43, 46, 31, 13, 60, 90, 5, 43, 35, 65, 100, 28, 83, 95, 35, 45, -1]\n",
    "rank = sorted(a[:-1], reverse=True)\n",
    "for i, e in enumerate(rank):\n",
    "    print(f\"{e:3} 점 - : {i+1:2} 등\")"
   ]
  },
  {
   "cell_type": "markdown",
   "metadata": {},
   "source": [
    "# 026\n",
    "배열을 사용하여 16진수 변환하기"
   ]
  },
  {
   "cell_type": "code",
   "execution_count": 58,
   "metadata": {},
   "outputs": [
    {
     "name": "stdout",
     "output_type": "stream",
     "text": [
      "255->16 : FF\n"
     ]
    }
   ],
   "source": [
    "hex_strings = \"0123456789ABCDEF\"\n",
    "def dec_to_hex(n):\n",
    " result = []\n",
    " while n > 0:\n",
    "  result.append(hex_strings[n%16])\n",
    "  n //= 16\n",
    " return \"\".join(result[::-1])\n",
    "\n",
    "print(f\"255->16 : {dec_to_hex(255)}\")"
   ]
  },
  {
   "cell_type": "markdown",
   "metadata": {},
   "source": [
    "# 027\n",
    "반복문을 사용하여 팩토리얼 출력하기"
   ]
  },
  {
   "cell_type": "code",
   "execution_count": 63,
   "metadata": {},
   "outputs": [],
   "source": [
    "def fact_loop(n):\n",
    " result = 1\n",
    " while n > 1:\n",
    "  result *= n\n",
    "  n -= 1\n",
    "\n",
    " return result\n",
    "\n",
    "for i in range(100):\n",
    " if math.factorial(i) != fact_loop(i):\n",
    "  raise Exception(\"Failed\")"
   ]
  },
  {
   "cell_type": "markdown",
   "metadata": {},
   "source": [
    "# 028\n",
    "재귀 호출을 사용하여 팩토리얼 출력하기"
   ]
  },
  {
   "cell_type": "code",
   "execution_count": 65,
   "metadata": {},
   "outputs": [],
   "source": [
    "def fact_recursive(n):\n",
    " if n == 0:\n",
    "  return 1\n",
    " return n * fact_recursive(n-1)\n",
    "\n",
    "for i in range(100):\n",
    " if math.factorial(i) != fact_recursive(i):\n",
    "  raise Exception(\"Failed\")"
   ]
  },
  {
   "cell_type": "markdown",
   "metadata": {},
   "source": [
    "# 029\n",
    "하노이 탑"
   ]
  },
  {
   "cell_type": "code",
   "execution_count": 66,
   "metadata": {},
   "outputs": [
    {
     "name": "stdout",
     "output_type": "stream",
     "text": [
      "A -> C\n",
      "A -> B\n",
      "C -> B\n",
      "A -> C\n",
      "B -> A\n",
      "B -> C\n",
      "A -> C\n"
     ]
    }
   ],
   "source": [
    "def hanoi(n, a, b, c):\n",
    " if n == 1:\n",
    "  print(f\"{a} -> {c}\")\n",
    " else:\n",
    "  hanoi(n-1, a, c, b)\n",
    "  print(f\"{a} -> {c}\")\n",
    "  hanoi(n-1, b, a, c)\n",
    "\n",
    "hanoi(3, \"A\", \"B\", \"C\")"
   ]
  },
  {
   "cell_type": "markdown",
   "metadata": {},
   "source": [
    "# 030\n",
    "이진 트리에서 두 노드 사이의 거리 구하기"
   ]
  },
  {
   "cell_type": "code",
   "execution_count": 68,
   "metadata": {},
   "outputs": [
    {
     "name": "stdout",
     "output_type": "stream",
     "text": [
      "4\n"
     ]
    }
   ],
   "source": [
    "def distance_binary_tree(a, b):\n",
    " if a == b:\n",
    "  return 0\n",
    " if a < b:\n",
    "  return 1 + distance_binary_tree(a, b//2)\n",
    " else:\n",
    "  return 1 + distance_binary_tree(a//2, b)\n",
    " \n",
    "print(distance_binary_tree(4, 7))"
   ]
  },
  {
   "cell_type": "code",
   "execution_count": null,
   "metadata": {},
   "outputs": [],
   "source": []
  }
 ],
 "metadata": {
  "kernelspec": {
   "display_name": "base",
   "language": "python",
   "name": "python3"
  },
  "language_info": {
   "codemirror_mode": {
    "name": "ipython",
    "version": 3
   },
   "file_extension": ".py",
   "mimetype": "text/x-python",
   "name": "python",
   "nbconvert_exporter": "python",
   "pygments_lexer": "ipython3",
   "version": "3.11.5"
  }
 },
 "nbformat": 4,
 "nbformat_minor": 2
}
