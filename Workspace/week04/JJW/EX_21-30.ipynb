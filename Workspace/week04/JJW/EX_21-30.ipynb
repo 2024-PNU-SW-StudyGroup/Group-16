{
 "cells": [
  {
   "cell_type": "markdown",
   "metadata": {},
   "source": [
    "# 21. 최적화한 조합"
   ]
  },
  {
   "cell_type": "code",
   "execution_count": 5,
   "metadata": {},
   "outputs": [
    {
     "name": "stdout",
     "output_type": "stream",
     "text": [
      "6\n"
     ]
    }
   ],
   "source": [
    "'''조건:\n",
    "1. f(n, r) = f(n, r - 1) * (n - r + 1) / r 형태로 재귀 호출 형태의 조합 함수를 작성한다.\n",
    "'''\n",
    "\n",
    "def combination(n, r):\n",
    "    if n == r or r == 0:\n",
    "        return 1\n",
    "    else:\n",
    "        return combination(n, r - 1) * (n - r + 1) // r\n",
    "    \n",
    "print(combination(4, 2))\n",
    "# 재귀함수: 리턴하면서 한번 더 부르는거 드디어 기억났다."
   ]
  },
  {
   "cell_type": "markdown",
   "metadata": {},
   "source": [
    "# 22. 대리석 채우기"
   ]
  },
  {
   "cell_type": "code",
   "execution_count": 29,
   "metadata": {},
   "outputs": [
    {
     "name": "stdout",
     "output_type": "stream",
     "text": [
      "7609\n"
     ]
    }
   ],
   "source": [
    "'''조건:\n",
    "크기가 2 * 1 또는 2 * 2 크기의 대리석 조각을 직사각형 모양의 벽면에 붙이려고 한다.\n",
    "직사각형은 2 * n의 크기를 갖는다고 할 때 대리석 조각으로 직사각형을 모두 커버할 수 있는 가능한 수를 구해보자.\n",
    "여기서 2 * 1과 2 * 2 크기의 대리석 조각은 다음의 3가지 종류가 존재한다.\n",
    "'''\n",
    "\n",
    "size = 2 * 13\n",
    "\n",
    "window_initial = size // 4\n",
    "long_initial = size // 2 // 2\n",
    "\n",
    "def factorial(n):\n",
    "    if n == 1:\n",
    "        return 1\n",
    "    else:\n",
    "        return n * factorial(n - 1)\n",
    "\n",
    "#print(long_initial)\n",
    "\n",
    "def fill_case(window, long, size):\n",
    "    if window == 0:\n",
    "        return 1\n",
    "    else:\n",
    "        return (factorial(window + long) // factorial(window) // factorial(long)) * 2 + fill_case(window - 1, long + 2, size)\n",
    "    \n",
    "print(fill_case(window_initial, long_initial, size))"
   ]
  },
  {
   "cell_type": "markdown",
   "metadata": {},
   "source": [
    "# 23. 두 숫자간의 차이 구하기"
   ]
  },
  {
   "cell_type": "code",
   "execution_count": null,
   "metadata": {},
   "outputs": [],
   "source": [
    "# 그냥 차이 구하는 함수 구현하라는듯\n",
    "\n",
    "def num_diff(a, b):\n",
    "    diff = 0\n",
    "    if a >= b:\n",
    "        diff = a - b\n",
    "    else:\n",
    "        diff = b - a\n",
    "    return diff\n",
    "\n",
    "num_diff(-3, -10)\n",
    "\n",
    "# if __name__ == \"__main__\": 을 이제야 설명해주네.. 이해 참고 사이트: https://medium.com/@chullino/if-name-main-%EC%9D%80-%EC%99%9C-%ED%95%84%EC%9A%94%ED%95%A0%EA%B9%8C-bc48cba7f720\n",
    "\n",
    "# 책보고 만든 코드\n",
    "def abs(a, b):\n",
    "    if a > b:\n",
    "        return a - b\n",
    "    else:\n",
    "        return b - a\n",
    "\n",
    "\n",
    "if __name__ == \"__main__\":\n",
    "    a = -15\n",
    "    b = 77\n",
    "    print(\"|{0} - {1}| = {2}\".format(a, b, abs(a, b)))"
   ]
  },
  {
   "cell_type": "markdown",
   "metadata": {},
   "source": [
    "# 24. 점수 분포 출력하기"
   ]
  },
  {
   "cell_type": "code",
   "execution_count": 32,
   "metadata": {},
   "outputs": [
    {
     "name": "stdout",
     "output_type": "stream",
     "text": [
      "131\n",
      "[8]\n",
      "[11, 11]\n",
      "[21, 22, 22, 23]\n",
      "[31, 35, 38]\n",
      "[41, 47, 45, 49]\n",
      "[56]\n",
      "[65, 65]\n",
      "[75, 75, 70, 72]\n",
      "[88, 83, 82]\n",
      "[95, 94]\n",
      "[100, 102]\n",
      "[111]\n",
      "[121]\n",
      "[131]\n"
     ]
    }
   ],
   "source": [
    "''' 조건:\n",
    "1. 입력된 점수의 끝은 -1로 확인한다. <- 배열 제일 끝으로 확인?\n",
    "2. 점수를 10으로 나누어 저장할 점수대의 인덱스를 구한다.\n",
    "'''\n",
    "'''\n",
    "리스트 끝값 -1로 해서 다시 만들기\n",
    "'''\n",
    "\n",
    "scoreboard = [75, 21, 31, 41, 22, 11, 8, 95, 22, 35, 47, 88, 23, 75, 65, 45, 83, 94, 70, 65, 56, 49, 38, 72, 11, 82, 121, 131, 111, 100, 102]\n",
    "\n",
    "# 최댓값 확인\n",
    "max_score = 0\n",
    "for i in range(len(scoreboard)):\n",
    "    if max_score < scoreboard[i]:\n",
    "        max_score = scoreboard[i]\n",
    "\n",
    "print(max_score)\n",
    "\n",
    "# 배열 반복문으로 만들기\n",
    "for i in range(0, max_score // 10 + 1):\n",
    "    locals()['score_group_' + str(i)] = []\n",
    "\n",
    "# 그룹별로 값 추가하기\n",
    "for i in range(len(scoreboard)):\n",
    "    locals()['score_group_' + str(scoreboard[i] // 10)].append(scoreboard[i])\n",
    "\n",
    "# 출력\n",
    "for i in range(0, max_score // 10 + 1):\n",
    "    temp = locals()['score_group_' + str(i)]\n",
    "    print(temp)"
   ]
  },
  {
   "cell_type": "markdown",
   "metadata": {},
   "source": [
    "# 25. 등수 구하기"
   ]
  },
  {
   "cell_type": "code",
   "execution_count": null,
   "metadata": {},
   "outputs": [],
   "source": [
    "''' 조건:\n",
    "1. 전체 점수의 처음부터 끝까지 반복하여 현재의 점수가 몇 번째의 크기를 갖는지를 계산한다.\n",
    "'''\n",
    "\n",
    "# 푸는 방법이 너무 많아\n",
    "# 몇 번째로 큰지 구해보기\n",
    "# 중복값일 경우에는 어떻게? 일단 귀찮아서 보류..\n",
    "\n",
    "scoreboard = [75, 21, 31, 41, 22, 11, 8, 95, 22, 35, 47, 88, 23, 75, 65, 45, 83, 94, 70, 65, 56, 49, 38, 72, 11, 82, 121, 131, 111, 100, 102]\n",
    "\n",
    "reverse_rank = 0\n",
    "\n",
    "find_value = scoreboard[3]\n",
    "print(find_value)\n",
    "\n",
    "for i in range(len(scoreboard)):\n",
    "    if find_value > scoreboard[i]:\n",
    "        reverse_rank += 1\n",
    "\n",
    "print('찾는 값 {0}은 전체 {1}등입니다.'.format(find_value, len(scoreboard) - reverse_rank))"
   ]
  },
  {
   "cell_type": "markdown",
   "metadata": {},
   "source": [
    "# 26. 배열을 사용하여 16진수 변환하기"
   ]
  },
  {
   "cell_type": "code",
   "execution_count": null,
   "metadata": {},
   "outputs": [],
   "source": [
    "'''조건:\n",
    "1. 16진수 변환배열 생성 후 위치값으로 변환하기\n",
    "'''\n",
    "\n",
    "hexadecimal_conversion_array = '0123456789ABCDEF'\n",
    "#print(hexadecimal_conversion_array[10])\n",
    "\n",
    "scoreboard = [75, 21, 31, 41, 22, 11, 8, 95, 22, 35, 47, 88, 23, 75, 65, 45, 83, 94, 70, 65, 56, 49, 38, 72, 11, 82, 121, 131, 111, 100, 102, 256, 4000]\n",
    "\n",
    "convert_result = []\n",
    "\n",
    "def hexadecimal_converter(n):\n",
    "    temp_quotient = 0\n",
    "    temp_remainder = 0\n",
    "    if n < 16:\n",
    "        temp_remainder = hexadecimal_conversion_array[n]\n",
    "        print(temp_remainder)\n",
    "        return temp_remainder\n",
    "    else:\n",
    "        while True:\n",
    "            if n // 16 < 16:\n",
    "                temp_quotient = hexadecimal_conversion_array[n // 16]\n",
    "            n //= 16\n",
    "\n",
    "for i in range(len(scoreboard)):\n",
    "    convert_result.append(hexadecimal_converter(scoreboard[i]))\n",
    "\n",
    "print(convert_result)"
   ]
  },
  {
   "cell_type": "markdown",
   "metadata": {},
   "source": [
    "# 27. 반복문을 사용하여 팩토리얼 출력하기"
   ]
  },
  {
   "cell_type": "code",
   "execution_count": 6,
   "metadata": {},
   "outputs": [
    {
     "name": "stdout",
     "output_type": "stream",
     "text": [
      "720\n"
     ]
    }
   ],
   "source": [
    "num = 6\n",
    "total = 1\n",
    "\n",
    "for i in range(0, num):\n",
    "    total *= (num - i)\n",
    "    i += 1\n",
    "\n",
    "print(total)"
   ]
  },
  {
   "cell_type": "markdown",
   "metadata": {},
   "source": [
    "# 28. 재귀 호출을 사용하여 팩토리얼 출력하기"
   ]
  },
  {
   "cell_type": "code",
   "execution_count": 7,
   "metadata": {},
   "outputs": [
    {
     "name": "stdout",
     "output_type": "stream",
     "text": [
      "6\n"
     ]
    }
   ],
   "source": [
    "def factorial(n):\n",
    "    if n == 1:\n",
    "        return 1\n",
    "    else:\n",
    "        return n * factorial(n - 1)\n",
    "\n",
    "print(factorial(3))"
   ]
  },
  {
   "cell_type": "markdown",
   "metadata": {},
   "source": [
    "# 29. 하노이의 탑"
   ]
  },
  {
   "cell_type": "code",
   "execution_count": 37,
   "metadata": {},
   "outputs": [
    {
     "name": "stdout",
     "output_type": "stream",
     "text": [
      "7\n"
     ]
    }
   ],
   "source": [
    "'''조건:\n",
    "1. 한번에 하나의 원판만 옮길 수 있다.\n",
    "2. 큰 원판이 작은 원판 위에 있어서는 안된다.\n",
    "'''\n",
    "\n",
    "def hanoi_tower(present_location, destination, accessible_location, tower_level):\n",
    "    if tower_level == 0:\n",
    "        return 1\n",
    "    elif tower_level // 2 == 0:\n",
    "        return hanoi_tower(destination, accessible_location, present_location, tower_level - 1) + 1\n",
    "    elif tower_level // 2 == 1:\n",
    "        return hanoi_tower(destination, present_location, accessible_location, tower_level - 1) + 1\n",
    "\n",
    "print(hanoi_tower(1, 2, 3, 3) * 2 - 1)"
   ]
  },
  {
   "cell_type": "markdown",
   "metadata": {},
   "source": [
    "# 30. 이진 트리에서 두 노드사이의 거리 구하기"
   ]
  },
  {
   "cell_type": "code",
   "execution_count": 12,
   "metadata": {},
   "outputs": [
    {
     "name": "stdout",
     "output_type": "stream",
     "text": [
      "6\n"
     ]
    }
   ],
   "source": [
    "'''조건:\n",
    "1. 전체 점수의 처음부터 끝까지 반복하여 현재의 점수가 몇 번째의 크기를 갖는지를 계산한다.\n",
    "2. 이진트리에서 두 노드의 거리는 두 노드가 루트 노드가 될 때까지 부모 노드를 구하면 된다.\n",
    "참고자료: https://blog.naver.com/ndb796/220662673753\n",
    "두 노드 간의 거리는 한 노드에서 다른 노드로 이동할 때 거치는 간선의 수의 합을 의미.\n",
    "'''\n",
    "\n",
    "first_node = 15\n",
    "second_node = 9\n",
    "\n",
    "def node_distance(a, b):\n",
    "    if a > b:\n",
    "        a //= 2기\n",
    "        return node_distance(a, b) + 1\n",
    "    elif a < b:\n",
    "        b //= 2\n",
    "        return node_distance(a, b) + 1\n",
    "    return 0\n",
    "\n",
    "print(node_distance(first_node, second_node))\n"
   ]
  }
 ],
 "metadata": {
  "kernelspec": {
   "display_name": "Python 3",
   "language": "python",
   "name": "python3"
  },
  "language_info": {
   "codemirror_mode": {
    "name": "ipython",
    "version": 3
   },
   "file_extension": ".py",
   "mimetype": "text/x-python",
   "name": "python",
   "nbconvert_exporter": "python",
   "pygments_lexer": "ipython3",
   "version": "3.12.1"
  }
 },
 "nbformat": 4,
 "nbformat_minor": 2
}
