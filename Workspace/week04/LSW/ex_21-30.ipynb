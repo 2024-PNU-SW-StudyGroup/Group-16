{
 "cells": [
  {
   "cell_type": "markdown",
   "metadata": {},
   "source": [
    "# 21\n",
    "최적화한 조합"
   ]
  },
  {
   "cell_type": "code",
   "execution_count": 10,
   "metadata": {},
   "outputs": [
    {
     "name": "stdout",
     "output_type": "stream",
     "text": [
      "45\n"
     ]
    }
   ],
   "source": [
    "def comb(n,r):\n",
    "    if r==1:\n",
    "        return n\n",
    "    else:\n",
    "        return comb(n,r-1)*(n-r+1)/r\n",
    "\n",
    "n1, r1 = map(int,input().split())\n",
    "print(int(comb(n1,r1)))"
   ]
  },
  {
   "cell_type": "markdown",
   "metadata": {},
   "source": [
    "# 22\n",
    "대리석 채우기"
   ]
  },
  {
   "cell_type": "code",
   "execution_count": 20,
   "metadata": {},
   "outputs": [
    {
     "name": "stdout",
     "output_type": "stream",
     "text": [
      "1\n",
      "2\n",
      "1\n",
      "2\n",
      "2\n",
      "1\n"
     ]
    }
   ],
   "source": [
    "from math import factorial as fa\n",
    "m = 4\n",
    "n = int(m/2)\n",
    "sum = 0\n",
    "for i in range(n + 1):\n",
    "    for j in range(n - i + 1):\n",
    "        sum += fa(n)//(fa(i)*fa(j)*fa(n-i-j))\n",
    "        print(fa(n)//(fa(i)*fa(j)*fa(n-i-j)))\n",
    "        #print(sum)\n",
    "#print(sum)"
   ]
  },
  {
   "cell_type": "code",
   "execution_count": 18,
   "metadata": {},
   "outputs": [
    {
     "name": "stdout",
     "output_type": "stream",
     "text": [
      "0\n",
      "1\n"
     ]
    }
   ],
   "source": [
    "for i in range(2):\n",
    "    print(i)"
   ]
  }
 ],
 "metadata": {
  "kernelspec": {
   "display_name": "Python 3",
   "language": "python",
   "name": "python3"
  },
  "language_info": {
   "codemirror_mode": {
    "name": "ipython",
    "version": 3
   },
   "file_extension": ".py",
   "mimetype": "text/x-python",
   "name": "python",
   "nbconvert_exporter": "python",
   "pygments_lexer": "ipython3",
   "version": "3.12.2"
  }
 },
 "nbformat": 4,
 "nbformat_minor": 2
}
