{
 "cells": [
  {
   "cell_type": "code",
   "execution_count": 38,
   "metadata": {},
   "outputs": [
    {
     "name": "stdout",
     "output_type": "stream",
     "text": [
      "78.539816\n",
      "50.000000\n"
     ]
    }
   ],
   "source": [
    "#3053\n",
    "import math\n",
    "R = int(input())\n",
    "print(f'{round(math.pi*R**2,6):0.6f}')\n",
    "print(f'{2*R**2:0.6f}')"
   ]
  },
  {
   "cell_type": "code",
   "execution_count": null,
   "metadata": {},
   "outputs": [],
   "source": [
    "#3058\n",
    "import sys\n",
    "input = sys.stdin.readline\n",
    "T = int(input())\n",
    "for i in range(T):\n",
    "    l = sorted(list(map(int,input().split())))\n",
    "    e = []\n",
    "    for j in l:\n",
    "        if j%2 == 0:\n",
    "            e.append(j)\n",
    "    print(sum(e), e[0])"
   ]
  },
  {
   "cell_type": "code",
   "execution_count": null,
   "metadata": {},
   "outputs": [],
   "source": [
    "#3058\n",
    "import sys\n",
    "input = sys.stdin.readline\n",
    "\n",
    "for i in range(int(input())):\n",
    "    l = [j for j in map(int,input().split()) if j%2 == 0]\n",
    "    print(sum(l), min(l))"
   ]
  },
  {
   "cell_type": "code",
   "execution_count": null,
   "metadata": {},
   "outputs": [
    {
     "name": "stdout",
     "output_type": "stream",
     "text": [
      "1950\n"
     ]
    }
   ],
   "source": [
    "#3059\n",
    "#import sys\n",
    "#input = sys.stdin.readline\n",
    "\n",
    "for i in range(int(input())):\n",
    "    S = set(input())\n",
    "    result = 2015\n",
    "    for j in S:\n",
    "        if j in 'ABCDEFGHIJKLMNOPQRSTUVWXYZ':\n",
    "            result -= ord(j)\n",
    "    print(result)"
   ]
  },
  {
   "cell_type": "code",
   "execution_count": null,
   "metadata": {},
   "outputs": [
    {
     "name": "stdout",
     "output_type": "stream",
     "text": [
      "2\n",
      "b\n",
      "o\n"
     ]
    }
   ],
   "source": [
    "#1764\n",
    "import sys\n",
    "input = lambda: sys.stdin.readline().rstrip()\n",
    "\n",
    "N,M = map(int,input().split())\n",
    "n = set([input() for i in range(N)])\n",
    "m = set([input() for j in range(M)])\n",
    "\n",
    "I = sorted(list(n&m))\n",
    "print(len(I))\n",
    "for k in I:\n",
    "    print(k)"
   ]
  },
  {
   "cell_type": "code",
   "execution_count": null,
   "metadata": {},
   "outputs": [
    {
     "name": "stdout",
     "output_type": "stream",
     "text": [
      "Hamming distance is 16.\n"
     ]
    }
   ],
   "source": [
    "#3449\n",
    "import sys\n",
    "input = lambda: sys.stdin.readline().rstrip()\n",
    "\n",
    "T = int(input())\n",
    "for i in range(T):\n",
    "    h1 = input()\n",
    "    h2 = input()\n",
    "    hd = 0\n",
    "    for j in range(len(h1)):\n",
    "        if h1[j] !=h2[j]:\n",
    "            hd += 1\n",
    "    print(f'Hamming distance is {hd}.')"
   ]
  },
  {
   "cell_type": "code",
   "execution_count": null,
   "metadata": {},
   "outputs": [
    {
     "name": "stdout",
     "output_type": "stream",
     "text": [
      "0 2 3 "
     ]
    }
   ],
   "source": [
    "#3460\n",
    "import sys\n",
    "input = lambda: sys.stdin.readline().rstrip()\n",
    "\n",
    "for i in range(int(input())):\n",
    "    b = bin(int(input()))\n",
    "    for j in range(len(b)-1, 0, -1):\n",
    "        if b[j] == '1':\n",
    "            print(len(b)-1-j, end=' ')"
   ]
  },
  {
   "cell_type": "code",
   "execution_count": null,
   "metadata": {},
   "outputs": [
    {
     "name": "stdout",
     "output_type": "stream",
     "text": [
      "1\n",
      "1\n",
      "1\n"
     ]
    }
   ],
   "source": [
    "#import sys\n",
    "#input = lambda: sys.stdin.readline().rstrip()\n",
    "\n",
    "while True:\n",
    "    a,b = input().split()\n",
    "    if a=='0' and b=='0':\n",
    "        break\n",
    "    else:\n",
    "        cnt = 0\n",
    "        a = a[::-1]\n",
    "        b = b[::-1]\n",
    "        for i in range(min(len(a), len(b))):\n",
    "            if int(a[i]) + int(b[i]) >= 10:\n",
    "                cnt += 1\n",
    "        print(cnt)"
   ]
  },
  {
   "cell_type": "code",
   "execution_count": null,
   "metadata": {},
   "outputs": [
    {
     "name": "stdout",
     "output_type": "stream",
     "text": [
      "0\n",
      "3\n",
      "1\n"
     ]
    },
    {
     "ename": "IndexError",
     "evalue": "string index out of range",
     "output_type": "error",
     "traceback": [
      "\u001b[1;31m---------------------------------------------------------------------------\u001b[0m",
      "\u001b[1;31mIndexError\u001b[0m                                Traceback (most recent call last)",
      "Cell \u001b[1;32mIn[6], line 12\u001b[0m\n\u001b[0;32m     10\u001b[0m cnt \u001b[38;5;241m=\u001b[39m \u001b[38;5;241m0\u001b[39m\n\u001b[0;32m     11\u001b[0m \u001b[38;5;28;01mfor\u001b[39;00m i \u001b[38;5;129;01min\u001b[39;00m \u001b[38;5;28mrange\u001b[39m(\u001b[38;5;28mmax\u001b[39m(\u001b[38;5;28mlen\u001b[39m(a), \u001b[38;5;28mlen\u001b[39m(b))):\n\u001b[1;32m---> 12\u001b[0m     \u001b[38;5;28;01mif\u001b[39;00m \u001b[38;5;28mint\u001b[39m(a[i]) \u001b[38;5;241m>\u001b[39m \u001b[38;5;28mint\u001b[39m(c[i]) \u001b[38;5;129;01mand\u001b[39;00m \u001b[38;5;28mint\u001b[39m(\u001b[43mb\u001b[49m\u001b[43m[\u001b[49m\u001b[43mi\u001b[49m\u001b[43m]\u001b[49m) \u001b[38;5;241m>\u001b[39m \u001b[38;5;28mint\u001b[39m(c[i]):\n\u001b[0;32m     13\u001b[0m         cnt \u001b[38;5;241m+\u001b[39m\u001b[38;5;241m=\u001b[39m \u001b[38;5;241m1\u001b[39m\n\u001b[0;32m     14\u001b[0m \u001b[38;5;28mprint\u001b[39m(cnt)\n",
      "\u001b[1;31mIndexError\u001b[0m: string index out of range"
     ]
    }
   ],
   "source": [
    "while True:\n",
    "    a,b = map(int,input().split())\n",
    "    if a==0 and b==0:\n",
    "        break\n",
    "    else:\n",
    "        c = a+b\n",
    "        a = str(a)[::-1]\n",
    "        b = str(b)[::-1]\n",
    "        c = str(c)[::-1]\n",
    "        cnt = 0\n",
    "        if len(a) == len(b):\n",
    "            for i in range(min(len(a), len(b))):\n",
    "                if int(a[i]) > int(c[i]) and int(b[i]) > int(c[i]):\n",
    "                    cnt += 1\n",
    "                    if len(c) > max(len(a), len(b)):\n",
    "                        cnt += 1\n",
    "        else:\n",
    "            for i in range(max(len(a), len(b))):\n",
    "                if int(a[i]) > int(c[i]) and int(b[i]) > int(c[i]):\n",
    "                    cnt += 1\n",
    "        print(cnt)"
   ]
  },
  {
   "cell_type": "code",
   "execution_count": null,
   "metadata": {},
   "outputs": [
    {
     "name": "stdout",
     "output_type": "stream",
     "text": [
      "0\n",
      "0\n",
      "1\n",
      "2\n",
      "1\n",
      "0\n"
     ]
    }
   ],
   "source": [
    "#import sys\n",
    "#input = lambda: sys.stdin.readline().rstrip()\n",
    "\n",
    "while True:\n",
    "    a,b = map(int,input().split())\n",
    "    if a==0 and b==0:\n",
    "        break\n",
    "    else:\n",
    "        c = a+b\n",
    "        m = str(max(a,b))[::-1]\n",
    "        c = str(c)[::-1]\n",
    "        cnt = 0\n",
    "    for i in range(min(len(c), len(m))):\n",
    "        if int(m[i]) > int(c[i]):\n",
    "            cnt += 1\n",
    "    print(cnt)"
   ]
  },
  {
   "cell_type": "code",
   "execution_count": null,
   "metadata": {},
   "outputs": [
    {
     "name": "stdout",
     "output_type": "stream",
     "text": [
      "Battle 1: Evil eradicates all trace of Good\n",
      "Battle 2: Good triumphs over Evil\n",
      "Battle 3: No victor on this battle field\n"
     ]
    }
   ],
   "source": [
    "#4435\n",
    "import sys\n",
    "input = lambda: sys.stdin.readline().rstrip()\n",
    "\n",
    "for x in range(1,int(input())+1):\n",
    "    g = list(map(int, input().split()))\n",
    "    e = list(map(int, input().split()))\n",
    "    gs = [1,2,3,3,4,10]\n",
    "    es = [1,2,2,2,3,5,10]\n",
    "\n",
    "    for i in range(len(g)):\n",
    "        g[i] = g[i]*gs[i]\n",
    "    for j in range(len(e)):\n",
    "        e[j] = e[j]*es[j]\n",
    "\n",
    "    if sum(g) > sum(e):\n",
    "        print(f'Battle {x}: Good triumphs over Evil')\n",
    "    elif sum(g) < sum(e):\n",
    "        print(f'Battle {x}: Evil eradicates all trace of Good')\n",
    "    else:\n",
    "        print(f'Battle {x}: No victor on this battle field')"
   ]
  },
  {
   "cell_type": "code",
   "execution_count": null,
   "metadata": {},
   "outputs": [
    {
     "name": "stdout",
     "output_type": "stream",
     "text": [
      "Powdered Toast Man\n",
      "Skeletor\n",
      "Electra Woman and Dyna Girl\n",
      "She-Ra Princess of Power\n",
      "Darth Vader\n"
     ]
    }
   ],
   "source": [
    "#4458\n",
    "#import sys\n",
    "#input = lambda: sys.stdin.readline().rstrip()\n",
    "\n",
    "for i in range(int(input())):\n",
    "    a = input()\n",
    "    a = a[0].upper() + a[1:]\n",
    "    print(a)"
   ]
  },
  {
   "cell_type": "code",
   "execution_count": null,
   "metadata": {},
   "outputs": [
    {
     "name": "stdout",
     "output_type": "stream",
     "text": [
      "TIE\n"
     ]
    }
   ],
   "source": [
    "#4493\n",
    "#import sys\n",
    "#input = lambda: sys.stdin.readline().rstrip()\n",
    "\n",
    "for T in range(int(input())):\n",
    "    cnt1 = 0\n",
    "    cnt2 = 0\n",
    "    for t in range(int(input())):\n",
    "        \n",
    "        p1,p2 = input().split()\n",
    "        if p1 == 'R':\n",
    "            if p2 == 'P':\n",
    "                cnt2 += 1\n",
    "            elif p2 == 'S':\n",
    "                cnt1 += 1\n",
    "        if p1 == 'S':\n",
    "            if p2 == 'R':\n",
    "                cnt2 += 1\n",
    "            elif p2 == 'P':\n",
    "                cnt1 += 1\n",
    "        if p1 == 'P':\n",
    "            if p2 == 'R':\n",
    "                cnt1 += 1\n",
    "            elif p2 == 'S':\n",
    "                cnt2 += 1\n",
    "    if cnt1 > cnt2:\n",
    "        print('Player 1')\n",
    "    elif cnt1 < cnt2:\n",
    "        print('Player 2')\n",
    "    else:\n",
    "        print('TIE')"
   ]
  },
  {
   "cell_type": "code",
   "execution_count": null,
   "metadata": {},
   "outputs": [
    {
     "name": "stdout",
     "output_type": "stream",
     "text": [
      "1 is NOT a multiple of 3\n",
      "7 is NOT a multiple of 3\n",
      "99 is a multiple of 3\n",
      "321 is a multiple of 3\n",
      "777 is a multiple of 3\n"
     ]
    }
   ],
   "source": [
    "#4504\n",
    "#import sys\n",
    "#input = lambda: sys.stdin.readline().rstrip()\n",
    "\n",
    "n = int(input())\n",
    "while True:\n",
    "    a = int(input())\n",
    "    if a == 0:\n",
    "        break\n",
    "    else:\n",
    "        if a%n == 0:\n",
    "            print(f'{a} is a multiple of {n}.')\n",
    "        else:\n",
    "            print(f'{a} is NOT a multiple of {n}.')"
   ]
  },
  {
   "cell_type": "code",
   "execution_count": null,
   "metadata": {},
   "outputs": [
    {
     "name": "stdout",
     "output_type": "stream",
     "text": [
      "5\n"
     ]
    }
   ],
   "source": [
    "#4619\n",
    "#import sys\n",
    "#input = lambda: sys.stdin.readline().rstrip()\n",
    "\n",
    "while True:\n",
    "    B,N = map(int,input().split())\n",
    "    if B == 0 and N == 0:\n",
    "        break\n",
    "    else:\n",
    "        A = 1\n",
    "        while A**N <= B:\n",
    "            if A**N < B:\n",
    "                A += 1\n",
    "            else:\n",
    "                break\n",
    "        if abs(B-(A**N)) > abs(B-((A-1)**N)):\n",
    "            print(A-1)\n",
    "        else:\n",
    "            print(A)"
   ]
  },
  {
   "cell_type": "code",
   "execution_count": null,
   "metadata": {},
   "outputs": [],
   "source": [
    "#import sys\n",
    "#input = lambda: sys.stdin.readline().rstrip()\n",
    "\n",
    "a,b,c,d = 2,1,1,1\n",
    "while a <= 100:\n",
    "    while a > b and a > c and a > d:\n",
    "        if a**3 ==  b**3 + c**3 + d**3:\n",
    "            print(f'Cube = {a}, Triple = ({b},{c},{d})')\n",
    "        else:\n",
    "            "
   ]
  },
  {
   "cell_type": "code",
   "execution_count": null,
   "metadata": {},
   "outputs": [],
   "source": [
    "a,b,c,d = 2,1,1,1\n",
    "while a <= 100:\n",
    "    while b <= a:\n",
    "        while c <= a:\n",
    "            while d <= a:\n",
    "                if a**3 ==  b**3 + c**3 + d**3:\n",
    "                    print(f'Cube = {a}, Triple = ({b},{c},{d})')\n",
    "                else:\n",
    "                    d += 1\n",
    "            if a**3 ==  b**3 + c**3 + d**3:\n",
    "                print(f'Cube = {a}, Triple = ({b},{c},{d})')        \n",
    "            else:\n",
    "                c += 1\n",
    "        if a**3 ==  b**3 + c**3 + d**3:\n",
    "            print(f'Cube = {a}, Triple = ({b},{c},{d})')\n",
    "        else:\n",
    "            b += 1\n",
    "    if a**3 ==  b**3 + c**3 + d**3:\n",
    "            print(f'Cube = {a}, Triple = ({b},{c},{d})')\n",
    "    else:\n",
    "        a += 1"
   ]
  },
  {
   "cell_type": "code",
   "execution_count": null,
   "metadata": {},
   "outputs": [
    {
     "name": "stdout",
     "output_type": "stream",
     "text": [
      "ECNALUBMA\n",
      "naivE\n",
      "mada m'i ,madam\n"
     ]
    }
   ],
   "source": [
    "#4740\n",
    "while True:\n",
    "    a = input()\n",
    "    if a == '***':\n",
    "        break\n",
    "    else:\n",
    "        print(a[::-1])"
   ]
  },
  {
   "cell_type": "code",
   "execution_count": null,
   "metadata": {},
   "outputs": [
    {
     "name": "stdout",
     "output_type": "stream",
     "text": [
      "2.05\n",
      "18.20\n",
      "-10.25\n"
     ]
    }
   ],
   "source": [
    "#4766\n",
    "f = float(input())\n",
    "while True:\n",
    "    s = float(input())\n",
    "    if s == 999:\n",
    "        break\n",
    "    else:\n",
    "        print(f'{s-f:0.2f}')\n",
    "        f = s"
   ]
  },
  {
   "cell_type": "code",
   "execution_count": null,
   "metadata": {},
   "outputs": [
    {
     "data": {
      "text/plain": [
       "\"''' AA asdf asdf  '''\""
      ]
     },
     "execution_count": 23,
     "metadata": {},
     "output_type": "execute_result"
    }
   ],
   "source": [
    "#4806\n",
    "cnt = 0\n",
    "while True:\n",
    "    try:\n",
    "        a = input()\n",
    "        cnt += 1\n",
    "    except:\n",
    "        break\n",
    "print(cnt)"
   ]
  },
  {
   "cell_type": "code",
   "execution_count": null,
   "metadata": {},
   "outputs": [
    {
     "name": "stdout",
     "output_type": "stream",
     "text": [
      "AP 13\n",
      "GP 54.0\n"
     ]
    }
   ],
   "source": [
    "#4880\n",
    "while True:\n",
    "    a,b,c = map(int,input().split())\n",
    "    if a==b==c==0:\n",
    "        break\n",
    "    else:\n",
    "        if (a+c)/2 == b:\n",
    "            print('AP', c+c-b)\n",
    "        else:\n",
    "            print('GP', int(c*(c/b)))"
   ]
  },
  {
   "cell_type": "code",
   "execution_count": null,
   "metadata": {},
   "outputs": [
    {
     "name": "stdout",
     "output_type": "stream",
     "text": [
      "5\n",
      "3 2\n"
     ]
    }
   ],
   "source": [
    "#30802\n",
    "N = int(input())\n",
    "S = list(map(int,input().split()))\n",
    "T,P = map(int,input().split())\n",
    "\n",
    "s_num = 0\n",
    "for s in S:\n",
    "    if s != 0:\n",
    "        if T < s:\n",
    "            if s%T != 0:\n",
    "                s_num = s_num + (s//T) + 1\n",
    "            else:\n",
    "                s_num = s_num + (s//T)\n",
    "        else:\n",
    "            s_num += 1\n",
    "    else:\n",
    "        s_num += 0\n",
    "\n",
    "print(s_num)\n",
    "print(N//P, N%P)"
   ]
  },
  {
   "cell_type": "code",
   "execution_count": null,
   "metadata": {},
   "outputs": [
    {
     "name": "stdout",
     "output_type": "stream",
     "text": [
      "0\n"
     ]
    }
   ],
   "source": [
    "#1978\n",
    "N = int(input())\n",
    "S = list(map(int,input().split()))\n",
    "cnt = 0\n",
    "for s in S:\n",
    "    i = 2\n",
    "    while i <= s:\n",
    "        if s%i == 0:\n",
    "            break\n",
    "        else:\n",
    "            i += 1\n",
    "    if i == s:\n",
    "        cnt += 1\n",
    "print(cnt)"
   ]
  },
  {
   "cell_type": "code",
   "execution_count": null,
   "metadata": {},
   "outputs": [
    {
     "name": "stdout",
     "output_type": "stream",
     "text": [
      "198\n"
     ]
    }
   ],
   "source": [
    "#2231\n",
    "#import sys\n",
    "#input = lambda: sys.stdin.readline().rstrip()\n",
    "\n",
    "N = int(input())\n",
    "i = 1\n",
    "for i in range(1,N+1):\n",
    "    num = sum(list(map(int,str(i))))\n",
    "    result = i + num\n",
    "    if result == N:\n",
    "        break\n",
    "\n",
    "if i == N:\n",
    "    print(0)\n",
    "else:\n",
    "    print(i)"
   ]
  },
  {
   "cell_type": "code",
   "execution_count": null,
   "metadata": {},
   "outputs": [
    {
     "name": "stdout",
     "output_type": "stream",
     "text": [
      "497\n"
     ]
    }
   ],
   "source": [
    "#2798\n",
    "N,M = map(int,input().split())\n",
    "C = list(map(int,input().split()))\n",
    "result = 0\n",
    "e = []\n",
    "for i in range(0, len(C)-2):\n",
    "    for j in range(i+1, len(C)-1):\n",
    "        for k in range(j+1, len(C)):\n",
    "            result = C[i] + C[j] + C[k]\n",
    "            if result <= M:\n",
    "                e.append(result)\n",
    "print(max(e))"
   ]
  },
  {
   "cell_type": "code",
   "execution_count": null,
   "metadata": {},
   "outputs": [
    {
     "name": "stdout",
     "output_type": "stream",
     "text": [
      "yes\n",
      "no\n",
      "yes\n"
     ]
    }
   ],
   "source": [
    "#1259\n",
    "while True:\n",
    "    n = input()\n",
    "    if n == '0':\n",
    "        break\n",
    "    else:\n",
    "        if str(n) == str(n)[::-1]:\n",
    "            print('yes')\n",
    "        else:\n",
    "            print('no')"
   ]
  },
  {
   "cell_type": "code",
   "execution_count": null,
   "metadata": {},
   "outputs": [
    {
     "name": "stdout",
     "output_type": "stream",
     "text": [
      "1\n",
      "1\n",
      "2\n",
      "2\n",
      "3\n",
      "3\n",
      "4\n",
      "5\n",
      "5\n",
      "7\n"
     ]
    }
   ],
   "source": [
    "n = int(input())\n",
    "l = sorted([int(input()) for i in range(n)])\n",
    "for j in l:\n",
    "    print(j)"
   ]
  },
  {
   "cell_type": "code",
   "execution_count": null,
   "metadata": {},
   "outputs": [
    {
     "name": "stdout",
     "output_type": "stream",
     "text": [
      "0\n",
      "1\n",
      "2\n",
      "5\n",
      "5\n",
      "6\n",
      "7\n",
      "9\n",
      "10\n",
      "10\n"
     ]
    }
   ],
   "source": [
    "#import sys\n",
    "#input = sys.stdin.readline\n",
    "\n",
    "n = int(input())\n",
    "l = sorted([int(input()) for i in range(n)])\n",
    "for j in l:\n",
    "    print(j)"
   ]
  },
  {
   "cell_type": "code",
   "execution_count": null,
   "metadata": {},
   "outputs": [
    {
     "name": "stdout",
     "output_type": "stream",
     "text": [
      "1\n",
      "1\n",
      "2\n",
      "2\n",
      "5\n"
     ]
    }
   ],
   "source": [
    "#10989\n",
    "#import sys\n",
    "#input = sys.stdin.readline\n",
    "\n",
    "n = int(input())\n",
    "c = [0]*10001\n",
    "for j in range(n):\n",
    "    c[int(input())] += 1\n",
    "for k in range(len(c)):\n",
    "    if c[k] != 0:\n",
    "        for x in range(c[k]):\n",
    "            print(k)"
   ]
  },
  {
   "cell_type": "code",
   "execution_count": null,
   "metadata": {},
   "outputs": [
    {
     "name": "stdout",
     "output_type": "stream",
     "text": [
      "9\n"
     ]
    }
   ],
   "source": [
    "#15829\n",
    "L = int(input())\n",
    "h = input()\n",
    "sum = 0\n",
    "for i in range(L):\n",
    "    sum += (ord(h[i])-96)*31**i\n",
    "print(sum%1234567891)"
   ]
  },
  {
   "cell_type": "code",
   "execution_count": null,
   "metadata": {},
   "outputs": [
    {
     "name": "stdout",
     "output_type": "stream",
     "text": [
      "1\n"
     ]
    }
   ],
   "source": [
    "#27433\n",
    "N = int(input())\n",
    "sum = 1\n",
    "if N == 0:\n",
    "    print(1)\n",
    "else:\n",
    "    for i in range(1,N+1):\n",
    "        sum *= i\n",
    "    print(sum)"
   ]
  },
  {
   "cell_type": "code",
   "execution_count": null,
   "metadata": {},
   "outputs": [
    {
     "name": "stdout",
     "output_type": "stream",
     "text": [
      "55\n"
     ]
    }
   ],
   "source": [
    "#10870\n",
    "def r(n):\n",
    "    if n == 0:\n",
    "        return 0\n",
    "    elif n == 1:\n",
    "        return 1\n",
    "    else:\n",
    "        return r(n-1) + r(n-2)\n",
    "    \n",
    "n = int(input())\n",
    "print(r(n))"
   ]
  },
  {
   "cell_type": "code",
   "execution_count": null,
   "metadata": {},
   "outputs": [
    {
     "name": "stdout",
     "output_type": "stream",
     "text": [
      "1 0 0 1 1 0 0 1 "
     ]
    }
   ],
   "source": [
    "#10815\n",
    "N = int(input())\n",
    "C = set((map(int,input().split())))\n",
    "M = int(input())\n",
    "num = list(map(int,input().split()))\n",
    "\n",
    "for i in num:\n",
    "    if i in C:\n",
    "        print(1, end=' ')\n",
    "    else:\n",
    "        print(0, end=' ')"
   ]
  },
  {
   "cell_type": "code",
   "execution_count": 6,
   "metadata": {},
   "outputs": [
    {
     "data": {
      "text/plain": [
       "'Baha'"
      ]
     },
     "execution_count": 6,
     "metadata": {},
     "output_type": "execute_result"
    }
   ],
   "source": [
    "'Baha enter'.split()[0]"
   ]
  },
  {
   "cell_type": "code",
   "execution_count": null,
   "metadata": {},
   "outputs": [
    {
     "name": "stdout",
     "output_type": "stream",
     "text": [
      "Baha\n",
      "Askar\n"
     ]
    }
   ],
   "source": [
    "#import sys\n",
    "#input = sys.stdin.readline\n",
    "\n",
    "se = set()\n",
    "sl = set()\n",
    "for i in range(int(input())):\n",
    "    a = input().split()\n",
    "    if a[1] == 'enter':\n",
    "        se.add(a[0])\n",
    "    else:\n",
    "        sl.add(a[0])\n",
    "l = sorted(list(se-sl), reverse = True)\n",
    "for i in l:\n",
    "    print(i)"
   ]
  },
  {
   "cell_type": "code",
   "execution_count": null,
   "metadata": {},
   "outputs": [
    {
     "name": "stdout",
     "output_type": "stream",
     "text": [
      "Baha\n"
     ]
    }
   ],
   "source": [
    "#import sys\n",
    "#input = sys.stdin.readline\n",
    "\n",
    "s = set()\n",
    "for i in range(int(input())):\n",
    "    a = input().split()\n",
    "    if a[1] == 'enter':\n",
    "        s.add(a[0])\n",
    "    else:\n",
    "        s.remove(a[0])\n",
    "print(*sorted(s, reverse = True), sep='\\n')"
   ]
  },
  {
   "cell_type": "code",
   "execution_count": null,
   "metadata": {},
   "outputs": [],
   "source": [
    "#14425\n",
    "#import sys\n",
    "#input = sys.stdin.readline\n",
    "\n",
    "N,M = map(int,input().split())\n",
    "s = set()\n",
    "cnt = 0\n",
    "for i in range(N):\n",
    "    s.add(input())\n",
    "l = [input() for j in range(M)]\n",
    "\n",
    "for k in l:\n",
    "    if k in s:\n",
    "        cnt += 1\n",
    "print(cnt)"
   ]
  }
 ],
 "metadata": {
  "kernelspec": {
   "display_name": "Python 3",
   "language": "python",
   "name": "python3"
  },
  "language_info": {
   "codemirror_mode": {
    "name": "ipython",
    "version": 3
   },
   "file_extension": ".py",
   "mimetype": "text/x-python",
   "name": "python",
   "nbconvert_exporter": "python",
   "pygments_lexer": "ipython3",
   "version": "3.10.2"
  }
 },
 "nbformat": 4,
 "nbformat_minor": 2
}
