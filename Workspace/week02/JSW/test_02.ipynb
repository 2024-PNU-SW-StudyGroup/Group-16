{
 "cells": [
  {
   "cell_type": "markdown",
   "metadata": {},
   "source": [
    "# 1. 실력 테스트"
   ]
  },
  {
   "cell_type": "markdown",
   "metadata": {},
   "source": [
    "## 브론즈 5"
   ]
  },
  {
   "cell_type": "markdown",
   "metadata": {},
   "source": [
    "### [1330](https://www.acmicpc.net/problem/1330)"
   ]
  },
  {
   "cell_type": "code",
   "execution_count": 3,
   "metadata": {},
   "outputs": [
    {
     "name": "stdout",
     "output_type": "stream",
     "text": [
      "<\n"
     ]
    }
   ],
   "source": [
    "A, B = map(int, input().split())\n",
    "result_message = \">\" if A > B else \"==\" if A == B else \"<\"\n",
    "print(result_message)"
   ]
  },
  {
   "cell_type": "markdown",
   "metadata": {},
   "source": [
    "### [2744](https://www.acmicpc.net/problem/2744)"
   ]
  },
  {
   "cell_type": "code",
   "execution_count": 4,
   "metadata": {},
   "outputs": [
    {
     "name": "stdout",
     "output_type": "stream",
     "text": [
      "hELLO"
     ]
    }
   ],
   "source": [
    "for c in input():\n",
    "    print(c.upper () if c.islower () else c.lower (), end='')"
   ]
  },
  {
   "cell_type": "markdown",
   "metadata": {},
   "source": [
    "### [10807](https://www.acmicpc.net/problem/10807)"
   ]
  },
  {
   "cell_type": "code",
   "execution_count": 5,
   "metadata": {},
   "outputs": [
    {
     "name": "stdout",
     "output_type": "stream",
     "text": [
      "1\n"
     ]
    }
   ],
   "source": [
    "N = int(input())\n",
    "nums = list(map(int, input().split()))\n",
    "v = int(input())\n",
    "\n",
    "result = [e for e in nums if e == v]\n",
    "# result = filter(lambda x: x == v, nums)\n",
    "print(len(list(result)))"
   ]
  },
  {
   "cell_type": "markdown",
   "metadata": {},
   "source": [
    "## 브론즈 1"
   ]
  },
  {
   "cell_type": "markdown",
   "metadata": {},
   "source": [
    "### [1145](https://www.acmicpc.net/problem/1145)"
   ]
  },
  {
   "cell_type": "code",
   "execution_count": 6,
   "metadata": {},
   "outputs": [
    {
     "name": "stdout",
     "output_type": "stream",
     "text": [
      "1170\n"
     ]
    }
   ],
   "source": [
    "def GCD(a:int, b:int)->int:\n",
    "    if a < b:\n",
    "        return GCD(b, a)\n",
    "    if b == 0:\n",
    "        return a\n",
    "    return GCD(b, a%b)\n",
    "\n",
    "def LCM(a:int, b:int)->int:\n",
    "    return int(a*b/GCD(a,b))\n",
    "\n",
    "def LCM_list(args:list)->int:\n",
    "    result = args[0]\n",
    "    for i in range(1, len(args)):\n",
    "        result = LCM(result, args[i])\n",
    "    return result\n",
    "\n",
    "nums = list(map(int, input().split()))\n",
    "result = nums[0]*nums[1]*nums[2]\n",
    "for i in range(0, 5):\n",
    "    for j in range(i+1, 5):\n",
    "        for k in range(j+1, 5):\n",
    "            result = min(result, LCM_list([nums[i], nums[j], nums[k]]))\n",
    "\n",
    "print(result)"
   ]
  }
 ],
 "metadata": {
  "kernelspec": {
   "display_name": "base",
   "language": "python",
   "name": "python3"
  },
  "language_info": {
   "codemirror_mode": {
    "name": "ipython",
    "version": 3
   },
   "file_extension": ".py",
   "mimetype": "text/x-python",
   "name": "python",
   "nbconvert_exporter": "python",
   "pygments_lexer": "ipython3",
   "version": "3.11.5"
  }
 },
 "nbformat": 4,
 "nbformat_minor": 2
}
