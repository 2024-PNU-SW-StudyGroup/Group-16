{
 "cells": [
  {
   "cell_type": "markdown",
   "metadata": {},
   "source": [
    "# 001\n",
    "반복문을 사용하여 0부터 n까지의 합 출력하기"
   ]
  },
  {
   "cell_type": "code",
   "execution_count": 3,
   "metadata": {},
   "outputs": [
    {
     "name": "stdout",
     "output_type": "stream",
     "text": [
      "5050\n"
     ]
    }
   ],
   "source": [
    "def func001(n):\n",
    "    return sum([i for i in range(n + 1)])\n",
    "\n",
    "print(func001(100))"
   ]
  },
  {
   "cell_type": "markdown",
   "metadata": {},
   "source": [
    "# 002\n",
    "재귀 호출을 사용하여 1부터 20까지 출력하기"
   ]
  },
  {
   "cell_type": "code",
   "execution_count": 5,
   "metadata": {},
   "outputs": [
    {
     "name": "stdout",
     "output_type": "stream",
     "text": [
      "20\n",
      "19\n",
      "18\n",
      "17\n",
      "16\n",
      "15\n",
      "14\n",
      "13\n",
      "12\n",
      "11\n",
      "10\n",
      "9\n",
      "8\n",
      "7\n",
      "6\n",
      "5\n",
      "4\n",
      "3\n",
      "2\n",
      "1\n"
     ]
    }
   ],
   "source": [
    "def func002(n):\n",
    "    if n == 0:\n",
    "        return\n",
    "    \n",
    "    print(n)\n",
    "    return func002(n-1)\n",
    "\n",
    "func002(20)"
   ]
  },
  {
   "cell_type": "markdown",
   "metadata": {},
   "source": [
    "# 003\n",
    "반복문을 사용하여 1부터 n까지 출력하기"
   ]
  },
  {
   "cell_type": "code",
   "execution_count": 9,
   "metadata": {},
   "outputs": [
    {
     "name": "stdout",
     "output_type": "stream",
     "text": [
      "1\n",
      "2\n",
      "3\n",
      "4\n",
      "5\n",
      "6\n",
      "7\n",
      "8\n",
      "9\n",
      "10\n",
      "11\n",
      "12\n",
      "13\n",
      "14\n",
      "15\n",
      "16\n",
      "17\n",
      "18\n",
      "19\n",
      "20\n"
     ]
    }
   ],
   "source": [
    "def func003(n):\n",
    "    for i in range(n):\n",
    "        print(i+1)\n",
    "\n",
    "func003(20)"
   ]
  },
  {
   "cell_type": "markdown",
   "metadata": {},
   "source": [
    "# 004\n",
    "재귀 호출을 사용하여 n부터 1까지 출력하기"
   ]
  },
  {
   "cell_type": "code",
   "execution_count": 10,
   "metadata": {},
   "outputs": [
    {
     "name": "stdout",
     "output_type": "stream",
     "text": [
      "20\n",
      "19\n",
      "18\n",
      "17\n",
      "16\n",
      "15\n",
      "14\n",
      "13\n",
      "12\n",
      "11\n",
      "10\n",
      "9\n",
      "8\n",
      "7\n",
      "6\n",
      "5\n",
      "4\n",
      "3\n",
      "2\n",
      "1\n"
     ]
    }
   ],
   "source": [
    "def func004(n):\n",
    "    if n == 0:\n",
    "        return\n",
    "    print(n)\n",
    "    return func004(n-1)\n",
    "\n",
    "func004(20)"
   ]
  },
  {
   "cell_type": "markdown",
   "metadata": {},
   "source": [
    "# 005\n",
    "3과 5의 배수 계산하기"
   ]
  },
  {
   "cell_type": "code",
   "execution_count": 13,
   "metadata": {},
   "outputs": [
    {
     "name": "stdout",
     "output_type": "stream",
     "text": [
      "0 True\n",
      "1 False\n",
      "2 False\n",
      "3 False\n",
      "4 False\n",
      "5 False\n",
      "6 False\n",
      "7 False\n",
      "8 False\n",
      "9 False\n",
      "10 False\n",
      "11 False\n",
      "12 False\n",
      "13 False\n",
      "14 False\n",
      "15 True\n",
      "16 False\n",
      "17 False\n",
      "18 False\n",
      "19 False\n"
     ]
    }
   ],
   "source": [
    "def func005(n):\n",
    "    return n%3 == 0 and n%5 == 0\n",
    "\n",
    "for i in range(20):\n",
    "    print(i, func005(i))"
   ]
  },
  {
   "cell_type": "markdown",
   "metadata": {},
   "source": [
    "# 006\n",
    "숫자 뒤집기"
   ]
  },
  {
   "cell_type": "code",
   "execution_count": 15,
   "metadata": {},
   "outputs": [
    {
     "name": "stdout",
     "output_type": "stream",
     "text": [
      "olleH\n"
     ]
    }
   ],
   "source": [
    "user_input = input()\n",
    "print(str(user_input)[::-1])"
   ]
  },
  {
   "cell_type": "markdown",
   "metadata": {},
   "source": [
    "# 007\n",
    "369 게임 만들기"
   ]
  },
  {
   "cell_type": "code",
   "execution_count": 16,
   "metadata": {},
   "outputs": [
    {
     "name": "stdout",
     "output_type": "stream",
     "text": [
      "1 침묵\n",
      "2 침묵\n",
      "3 짝\n",
      "4 침묵\n",
      "5 침묵\n",
      "6 짝\n",
      "7 침묵\n",
      "8 침묵\n",
      "9 짝\n",
      "10 침묵\n",
      "11 침묵\n",
      "12 짝\n",
      "13 침묵\n",
      "14 침묵\n",
      "15 짝\n",
      "16 침묵\n",
      "17 침묵\n",
      "18 짝\n",
      "19 침묵\n"
     ]
    }
   ],
   "source": [
    "def func007(n):\n",
    "    if n%3 == 0:\n",
    "        return \"짝\"\n",
    "    else:\n",
    "        return \"침묵\"\n",
    "    \n",
    "for i in range(1, 20):\n",
    "    print(i, func007(i))"
   ]
  },
  {
   "cell_type": "markdown",
   "metadata": {},
   "source": [
    "# 008\n",
    "자연수 n이 소수인지 아닌지를 출력하기"
   ]
  },
  {
   "cell_type": "code",
   "execution_count": 18,
   "metadata": {},
   "outputs": [
    {
     "name": "stdout",
     "output_type": "stream",
     "text": [
      "1 False\n",
      "2 True\n",
      "3 True\n",
      "4 False\n",
      "5 True\n",
      "6 False\n",
      "7 True\n",
      "8 False\n",
      "9 False\n",
      "10 False\n",
      "11 True\n",
      "12 False\n",
      "13 True\n",
      "14 False\n",
      "15 False\n",
      "16 False\n",
      "17 True\n",
      "18 False\n",
      "19 True\n"
     ]
    }
   ],
   "source": [
    "def func008(n):\n",
    "    if n < 2:\n",
    "        return False\n",
    "    elif n == 2:\n",
    "        return True\n",
    "    elif n == 3:\n",
    "        return True\n",
    "    else:\n",
    "        for i in range(2, int(n**0.5) + 1):\n",
    "            if n%i == 0:\n",
    "                return False\n",
    "        return True\n",
    "\n",
    "for i in range(1, 20):\n",
    "    print(i, func008(i))"
   ]
  },
  {
   "cell_type": "markdown",
   "metadata": {},
   "source": [
    "# 009\n",
    "2~N 사이의 모든 소수를 추출하기"
   ]
  },
  {
   "cell_type": "code",
   "execution_count": 29,
   "metadata": {},
   "outputs": [
    {
     "name": "stdout",
     "output_type": "stream",
     "text": [
      "[2, 3, 5, 7, 11, 13, 17, 19]\n"
     ]
    }
   ],
   "source": [
    "def isPrime(n):\n",
    "    if n < 2:\n",
    "        return False\n",
    "    elif n == 2:\n",
    "        return True\n",
    "    elif n == 3:\n",
    "        return True\n",
    "    else:\n",
    "        for i in range(2, int(n**0.5) + 1):\n",
    "            if n%i == 0:\n",
    "                return False\n",
    "        return True\n",
    "    \n",
    "def func009(n):\n",
    "    result = []\n",
    "    for i in range(2, n + 1):\n",
    "        if isPrime(i):\n",
    "            result.append(i)\n",
    "\n",
    "    return result\n",
    "\n",
    "print(func009(20))"
   ]
  },
  {
   "cell_type": "markdown",
   "metadata": {},
   "source": [
    "# 010\n",
    "약수 구하기"
   ]
  },
  {
   "cell_type": "code",
   "execution_count": 33,
   "metadata": {},
   "outputs": [
    {
     "name": "stdout",
     "output_type": "stream",
     "text": [
      "[1, 2, 4, 5, 10, 20]\n"
     ]
    }
   ],
   "source": [
    "def func010(n):\n",
    "    result = []\n",
    "    for i in range(1, n + 1):\n",
    "        if n%i == 0:\n",
    "            result.append(i)\n",
    "    return result\n",
    "\n",
    "print(func010(20))"
   ]
  },
  {
   "cell_type": "code",
   "execution_count": null,
   "metadata": {},
   "outputs": [],
   "source": []
  }
 ],
 "metadata": {
  "kernelspec": {
   "display_name": "base",
   "language": "python",
   "name": "python3"
  },
  "language_info": {
   "codemirror_mode": {
    "name": "ipython",
    "version": 3
   },
   "file_extension": ".py",
   "mimetype": "text/x-python",
   "name": "python",
   "nbconvert_exporter": "python",
   "pygments_lexer": "ipython3",
   "version": "3.11.5"
  }
 },
 "nbformat": 4,
 "nbformat_minor": 2
}
