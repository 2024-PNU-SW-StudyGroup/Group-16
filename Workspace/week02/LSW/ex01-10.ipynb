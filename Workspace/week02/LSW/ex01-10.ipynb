{
 "cells": [
  {
   "cell_type": "code",
   "execution_count": 11,
   "metadata": {},
   "outputs": [
    {
     "name": "stdout",
     "output_type": "stream",
     "text": [
      "21\n"
     ]
    }
   ],
   "source": [
    "#1 반복문을 사용하여 0부터 n까지의 합 풀어보기\n",
    "n = int(input())\n",
    "result = 0\n",
    "for i in range(n):\n",
    "    result+=(i+1)\n",
    "print(result)"
   ]
  },
  {
   "cell_type": "code",
   "execution_count": 12,
   "metadata": {},
   "outputs": [
    {
     "name": "stdout",
     "output_type": "stream",
     "text": [
      "1\n",
      "2\n",
      "3\n",
      "4\n",
      "5\n",
      "6\n",
      "7\n",
      "8\n",
      "9\n",
      "10\n",
      "11\n",
      "12\n",
      "13\n",
      "14\n",
      "15\n",
      "16\n",
      "17\n",
      "18\n",
      "19\n",
      "20\n"
     ]
    },
    {
     "data": {
      "text/plain": [
       "0"
      ]
     },
     "execution_count": 12,
     "metadata": {},
     "output_type": "execute_result"
    }
   ],
   "source": [
    "#2 재귀 호출을 사용하여 1부터 20까지 출력하기\n",
    "def calc(n) :\n",
    "    if n<=20:\n",
    "        print(n)\n",
    "        n+=1\n",
    "        return calc(n)\n",
    "    else :\n",
    "        return 0\n",
    "calc(1)"
   ]
  },
  {
   "cell_type": "code",
   "execution_count": 13,
   "metadata": {},
   "outputs": [
    {
     "name": "stdout",
     "output_type": "stream",
     "text": [
      "1\n",
      "2\n",
      "3\n",
      "4\n",
      "5\n",
      "6\n",
      "7\n",
      "8\n",
      "9\n",
      "10\n",
      "11\n",
      "12\n",
      "13\n",
      "14\n",
      "15\n",
      "16\n",
      "17\n",
      "18\n",
      "19\n",
      "20\n"
     ]
    }
   ],
   "source": [
    "#3 반복문을 사용하여 1부터 n까지 출력하기\n",
    "n=20\n",
    "c=1\n",
    "while c<=n:\n",
    "    print(c)\n",
    "    c+=1"
   ]
  },
  {
   "cell_type": "code",
   "execution_count": 14,
   "metadata": {},
   "outputs": [
    {
     "name": "stdout",
     "output_type": "stream",
     "text": [
      "6\n",
      "5\n",
      "4\n",
      "3\n",
      "2\n",
      "1\n"
     ]
    },
    {
     "data": {
      "text/plain": [
       "0"
      ]
     },
     "execution_count": 14,
     "metadata": {},
     "output_type": "execute_result"
    }
   ],
   "source": [
    "#4 재귀 호출을 사용하여 n부터 1까지 출력하기\n",
    "def reverseCalc(n):\n",
    "    if n>=1:\n",
    "        print(n)\n",
    "        n-=1\n",
    "        return reverseCalc(n)\n",
    "    else : return 0\n",
    "\n",
    "reverseCalc(int(input('n을 입력하시오 : ')))"
   ]
  },
  {
   "cell_type": "code",
   "execution_count": 15,
   "metadata": {},
   "outputs": [
    {
     "name": "stdout",
     "output_type": "stream",
     "text": [
      "1 은 3의 배수이면서 5의 배수가 아닙니다.\n",
      "2 은 3의 배수이면서 5의 배수가 아닙니다.\n",
      "3 은 3의 배수이면서 5의 배수가 아닙니다.\n",
      "4 은 3의 배수이면서 5의 배수가 아닙니다.\n",
      "5 은 3의 배수이면서 5의 배수가 아닙니다.\n",
      "6 은 3의 배수이면서 5의 배수가 아닙니다.\n"
     ]
    }
   ],
   "source": [
    "#5 3과 5의 배수 계산하기\n",
    "n = int(input())\n",
    "lists = []\n",
    "def calc3and5(user_input):\n",
    "    if (user_input%5==0 and user_input%3==0) :\n",
    "        print(user_input,\"은 3의 배수이면서 5의 배수입니다.\")\n",
    "        lists.append(user_input)\n",
    "    else:\n",
    "        print(user_input, \"은 3의 배수이면서 5의 배수가 아닙니다.\")\n",
    "for i in range(n):\n",
    "    calc3and5(i+1)\n",
    "\n",
    "for i in lists:\n",
    "    print(i)"
   ]
  },
  {
   "cell_type": "code",
   "execution_count": 16,
   "metadata": {},
   "outputs": [
    {
     "name": "stdout",
     "output_type": "stream",
     "text": [
      "6\n"
     ]
    }
   ],
   "source": [
    "#6 숫자 뒤집기\n",
    "userInput = int(input(\"양의 정수를 입력하시오 : \"))\n",
    "\n",
    "\"\"\"\n",
    "사기꾼 방식\n",
    "\n",
    "tempstr = list(str(userInput))\n",
    "result = []\n",
    "for i in range(len(tempstr)):\n",
    "    result.append(tempstr.pop())\n",
    "print(\"\".join(result))\n",
    "\"\"\"\n",
    "digits =[]\n",
    "digit = userInput%10\n",
    "temp = userInput\n",
    "result = 0\n",
    "while digit != 0 :\n",
    "    digits.append(digit)\n",
    "    temp //= 10\n",
    "    digit = temp%10\n",
    "for i in range(len(digits)):\n",
    "    result+=digits[i]*10**(len(digits)-i-1)\n",
    "print(result)"
   ]
  },
  {
   "cell_type": "code",
   "execution_count": 17,
   "metadata": {},
   "outputs": [
    {
     "name": "stdout",
     "output_type": "stream",
     "text": [
      "0 X\n",
      "1 X\n",
      "2 X\n",
      "3 O\n",
      "4 X\n",
      "5 X\n"
     ]
    }
   ],
   "source": [
    "#7 369 게임 만들기 : 숫자 3,6,9가 들어가는 경우, 3의배수는 아님\n",
    "n = int(input(\"양의 정수를 입력하시오 : \"))\n",
    "\n",
    "def samyukgoo(n):\n",
    "    temp = n\n",
    "    digits = []\n",
    "    digit = temp%10\n",
    "    while digit != 0 :\n",
    "        digits.append(digit)\n",
    "        temp //= 10\n",
    "        digit = temp%10\n",
    "    if any(i in digits for i in [3,6,9]):\n",
    "        print(n, \"O\")\n",
    "    else :\n",
    "        print(n, \"X\")\n",
    "\n",
    "for i in range(n):\n",
    "    samyukgoo(i)"
   ]
  },
  {
   "cell_type": "code",
   "execution_count": 18,
   "metadata": {},
   "outputs": [
    {
     "name": "stdout",
     "output_type": "stream",
     "text": [
      "0 X\n",
      "1 X\n",
      "2 X\n",
      "3 O\n",
      "4 X\n",
      "5 X\n"
     ]
    }
   ],
   "source": [
    "#7 369 게임 만들기 : 숫자 3,6,9가 들어가는 경우, 3의배수는 아님\n",
    "n = int(input(\"양의 정수를 입력하시오 : \"))\n",
    "\n",
    "def samyukgoo(n):\n",
    "    temp = n\n",
    "    digits = []\n",
    "    digit = temp%10\n",
    "    while digit != 0 :\n",
    "        digits.append(digit)\n",
    "        temp //= 10\n",
    "        digit = temp%10\n",
    "    if any(i in digits for i in [3,6,9]):\n",
    "        print(n, \"O\")\n",
    "    else :\n",
    "        print(n, \"X\")\n",
    "\n",
    "for i in range(n):\n",
    "    samyukgoo(i)"
   ]
  },
  {
   "cell_type": "code",
   "execution_count": 19,
   "metadata": {},
   "outputs": [
    {
     "name": "stdout",
     "output_type": "stream",
     "text": [
      "2\n",
      "3\n",
      "5\n"
     ]
    }
   ],
   "source": [
    "#9  2~N 사이의 모든 소수를 추출하기\n",
    "import math\n",
    "def isPrime(m) :\n",
    "    c = 2\n",
    "    while c <= math.sqrt(m):\n",
    "        if m%c==0 :\n",
    "            return 0\n",
    "        c+=1\n",
    "    return 1\n",
    "\n",
    "n = int(input(\"1 이상의 정수를 입력하시오 : \"))\n",
    "\n",
    "for i in range(2,n+1):\n",
    "    if isPrime(i):\n",
    "        print(i)"
   ]
  },
  {
   "cell_type": "code",
   "execution_count": 20,
   "metadata": {},
   "outputs": [
    {
     "name": "stdout",
     "output_type": "stream",
     "text": [
      "[1, 2, 3, 6]\n"
     ]
    }
   ],
   "source": [
    "#10 약수 구하기\n",
    "import math\n",
    "n = int(input(\"양의 정수를 입력하시오 : \"))\n",
    "mlist = []\n",
    "c = 2\n",
    "\n",
    "while c <= math.sqrt(n):\n",
    "    if n%c==0 :\n",
    "        mlist.append(c)\n",
    "        if not(c**2==n):\n",
    "            mlist.append(n//c)\n",
    "    c+=1\n",
    "\n",
    "if len(mlist)==0 :\n",
    "    print(\"소수입니다\")\n",
    "else:\n",
    "    mlist.append(n)\n",
    "    mlist.append(1)\n",
    "    mlist.sort()\n",
    "    print(mlist)"
   ]
  }
 ],
 "metadata": {
  "kernelspec": {
   "display_name": "Python 3",
   "language": "python",
   "name": "python3"
  },
  "language_info": {
   "codemirror_mode": {
    "name": "ipython",
    "version": 3
   },
   "file_extension": ".py",
   "mimetype": "text/x-python",
   "name": "python",
   "nbconvert_exporter": "python",
   "pygments_lexer": "ipython3",
   "version": "3.12.2"
  }
 },
 "nbformat": 4,
 "nbformat_minor": 2
}
