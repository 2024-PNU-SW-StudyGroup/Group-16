{
 "cells": [
  {
   "cell_type": "code",
   "execution_count": 12,
   "metadata": {},
   "outputs": [
    {
     "ename": "KeyboardInterrupt",
     "evalue": "Interrupted by user",
     "output_type": "error",
     "traceback": [
      "\u001b[0;31m---------------------------------------------------------------------------\u001b[0m",
      "\u001b[0;31mKeyboardInterrupt\u001b[0m                         Traceback (most recent call last)",
      "Cell \u001b[0;32mIn[12], line 2\u001b[0m\n\u001b[1;32m      1\u001b[0m \u001b[38;5;66;03m#1 반복문을 사용하여 0부터 n까지의 합 풀어보기\u001b[39;00m\n\u001b[0;32m----> 2\u001b[0m n \u001b[38;5;241m=\u001b[39m \u001b[38;5;28mint\u001b[39m(\u001b[38;5;28;43minput\u001b[39;49m\u001b[43m(\u001b[49m\u001b[43m)\u001b[49m)\n\u001b[1;32m      3\u001b[0m result \u001b[38;5;241m=\u001b[39m \u001b[38;5;241m0\u001b[39m\n\u001b[1;32m      4\u001b[0m \u001b[38;5;28;01mfor\u001b[39;00m i \u001b[38;5;129;01min\u001b[39;00m \u001b[38;5;28mrange\u001b[39m(n):\n",
      "File \u001b[0;32m~/Library/Python/3.12/lib/python/site-packages/ipykernel/kernelbase.py:1282\u001b[0m, in \u001b[0;36mKernel.raw_input\u001b[0;34m(self, prompt)\u001b[0m\n\u001b[1;32m   1280\u001b[0m     msg \u001b[38;5;241m=\u001b[39m \u001b[38;5;124m\"\u001b[39m\u001b[38;5;124mraw_input was called, but this frontend does not support input requests.\u001b[39m\u001b[38;5;124m\"\u001b[39m\n\u001b[1;32m   1281\u001b[0m     \u001b[38;5;28;01mraise\u001b[39;00m StdinNotImplementedError(msg)\n\u001b[0;32m-> 1282\u001b[0m \u001b[38;5;28;01mreturn\u001b[39;00m \u001b[38;5;28;43mself\u001b[39;49m\u001b[38;5;241;43m.\u001b[39;49m\u001b[43m_input_request\u001b[49m\u001b[43m(\u001b[49m\n\u001b[1;32m   1283\u001b[0m \u001b[43m    \u001b[49m\u001b[38;5;28;43mstr\u001b[39;49m\u001b[43m(\u001b[49m\u001b[43mprompt\u001b[49m\u001b[43m)\u001b[49m\u001b[43m,\u001b[49m\n\u001b[1;32m   1284\u001b[0m \u001b[43m    \u001b[49m\u001b[38;5;28;43mself\u001b[39;49m\u001b[38;5;241;43m.\u001b[39;49m\u001b[43m_parent_ident\u001b[49m\u001b[43m[\u001b[49m\u001b[38;5;124;43m\"\u001b[39;49m\u001b[38;5;124;43mshell\u001b[39;49m\u001b[38;5;124;43m\"\u001b[39;49m\u001b[43m]\u001b[49m\u001b[43m,\u001b[49m\n\u001b[1;32m   1285\u001b[0m \u001b[43m    \u001b[49m\u001b[38;5;28;43mself\u001b[39;49m\u001b[38;5;241;43m.\u001b[39;49m\u001b[43mget_parent\u001b[49m\u001b[43m(\u001b[49m\u001b[38;5;124;43m\"\u001b[39;49m\u001b[38;5;124;43mshell\u001b[39;49m\u001b[38;5;124;43m\"\u001b[39;49m\u001b[43m)\u001b[49m\u001b[43m,\u001b[49m\n\u001b[1;32m   1286\u001b[0m \u001b[43m    \u001b[49m\u001b[43mpassword\u001b[49m\u001b[38;5;241;43m=\u001b[39;49m\u001b[38;5;28;43;01mFalse\u001b[39;49;00m\u001b[43m,\u001b[49m\n\u001b[1;32m   1287\u001b[0m \u001b[43m\u001b[49m\u001b[43m)\u001b[49m\n",
      "File \u001b[0;32m~/Library/Python/3.12/lib/python/site-packages/ipykernel/kernelbase.py:1325\u001b[0m, in \u001b[0;36mKernel._input_request\u001b[0;34m(self, prompt, ident, parent, password)\u001b[0m\n\u001b[1;32m   1322\u001b[0m \u001b[38;5;28;01mexcept\u001b[39;00m \u001b[38;5;167;01mKeyboardInterrupt\u001b[39;00m:\n\u001b[1;32m   1323\u001b[0m     \u001b[38;5;66;03m# re-raise KeyboardInterrupt, to truncate traceback\u001b[39;00m\n\u001b[1;32m   1324\u001b[0m     msg \u001b[38;5;241m=\u001b[39m \u001b[38;5;124m\"\u001b[39m\u001b[38;5;124mInterrupted by user\u001b[39m\u001b[38;5;124m\"\u001b[39m\n\u001b[0;32m-> 1325\u001b[0m     \u001b[38;5;28;01mraise\u001b[39;00m \u001b[38;5;167;01mKeyboardInterrupt\u001b[39;00m(msg) \u001b[38;5;28;01mfrom\u001b[39;00m \u001b[38;5;28;01mNone\u001b[39;00m\n\u001b[1;32m   1326\u001b[0m \u001b[38;5;28;01mexcept\u001b[39;00m \u001b[38;5;167;01mException\u001b[39;00m:\n\u001b[1;32m   1327\u001b[0m     \u001b[38;5;28mself\u001b[39m\u001b[38;5;241m.\u001b[39mlog\u001b[38;5;241m.\u001b[39mwarning(\u001b[38;5;124m\"\u001b[39m\u001b[38;5;124mInvalid Message:\u001b[39m\u001b[38;5;124m\"\u001b[39m, exc_info\u001b[38;5;241m=\u001b[39m\u001b[38;5;28;01mTrue\u001b[39;00m)\n",
      "\u001b[0;31mKeyboardInterrupt\u001b[0m: Interrupted by user"
     ]
    }
   ],
   "source": [
    "#1 반복문을 사용하여 0부터 n까지의 합 풀어보기\n",
    "n = int(input())\n",
    "result = 0\n",
    "for i in range(n):\n",
    "    result+=(i+1)\n",
    "print(result)"
   ]
  },
  {
   "cell_type": "code",
   "execution_count": 13,
   "metadata": {},
   "outputs": [
    {
     "name": "stdout",
     "output_type": "stream",
     "text": [
      "1\n",
      "2\n",
      "3\n",
      "4\n",
      "5\n",
      "6\n",
      "7\n",
      "8\n",
      "9\n",
      "10\n",
      "11\n",
      "12\n",
      "13\n",
      "14\n",
      "15\n",
      "16\n",
      "17\n",
      "18\n",
      "19\n",
      "20\n"
     ]
    },
    {
     "data": {
      "text/plain": [
       "0"
      ]
     },
     "execution_count": 13,
     "metadata": {},
     "output_type": "execute_result"
    }
   ],
   "source": [
    "#2 재귀 호출을 사용하여 1부터 20까지 출력하기\n",
    "def calc(n) :\n",
    "    if n<=20:\n",
    "        print(n)\n",
    "        n+=1\n",
    "        return calc(n)\n",
    "    else :\n",
    "        return 0\n",
    "calc(1)"
   ]
  },
  {
   "cell_type": "code",
   "execution_count": null,
   "metadata": {},
   "outputs": [],
   "source": [
    "#3 반복문을 사용하여 1부터 n까지 출력하기\n",
    "n=20\n",
    "c=1\n",
    "while c<=n:\n",
    "    print(c)\n",
    "    c+=1"
   ]
  },
  {
   "cell_type": "code",
   "execution_count": null,
   "metadata": {},
   "outputs": [],
   "source": [
    "#4 재귀 호출을 사용하여 n부터 1까지 출력하기\n",
    "def reverseCalc(n):\n",
    "    if n>=1:\n",
    "        print(n)\n",
    "        n-=1\n",
    "        return reverseCalc(n)\n",
    "    else : return 0\n",
    "\n",
    "reverseCalc(int(input('n을 입력하시오 : ')))"
   ]
  },
  {
   "cell_type": "code",
   "execution_count": null,
   "metadata": {},
   "outputs": [],
   "source": [
    "#5 3과 5의 배수 계산하기\n",
    "n = int(input())\n",
    "lists = []\n",
    "def calc3and5(user_input):\n",
    "    if (user_input%5==0 and user_input%3==0) :\n",
    "        print(user_input,\"은 3의 배수이면서 5의 배수입니다.\")\n",
    "        lists.append(user_input)\n",
    "    else:\n",
    "        print(user_input, \"은 3의 배수이면서 5의 배수가 아닙니다.\")\n",
    "for i in range(n):\n",
    "    calc3and5(i+1)\n",
    "\n",
    "for i in lists:\n",
    "    print(i)"
   ]
  },
  {
   "cell_type": "code",
   "execution_count": null,
   "metadata": {},
   "outputs": [],
   "source": [
    "#6 숫자 뒤집기\n",
    "userInput = int(input(\"양의 정수를 입력하시오 : \"))\n",
    "\n",
    "\"\"\"\n",
    "사기꾼 방식\n",
    "\n",
    "tempstr = list(str(userInput))\n",
    "result = []\n",
    "for i in range(len(tempstr)):\n",
    "    result.append(tempstr.pop())\n",
    "print(\"\".join(result))\n",
    "\"\"\"\n",
    "digits =[]\n",
    "digit = userInput%10\n",
    "temp = userInput\n",
    "result = 0\n",
    "while digit != 0 :\n",
    "    digits.append(digit)\n",
    "    temp //= 10\n",
    "    digit = temp%10\n",
    "for i in range(len(digits)):\n",
    "    result+=digits[i]*10**(len(digits)-i-1)\n",
    "print(result)"
   ]
  },
  {
   "cell_type": "code",
   "execution_count": null,
   "metadata": {},
   "outputs": [],
   "source": [
    "#7 369 게임 만들기 : 숫자 3,6,9가 들어가는 경우, 3의배수는 아님\n",
    "n = int(input(\"양의 정수를 입력하시오 : \"))\n",
    "\n",
    "def samyukgoo(n):\n",
    "    temp = n\n",
    "    digits = []\n",
    "    digit = temp%10\n",
    "    while digit != 0 :\n",
    "        digits.append(digit)\n",
    "        temp //= 10\n",
    "        digit = temp%10\n",
    "    if any(i in digits for i in [3,6,9]):\n",
    "        print(n, \"O\")\n",
    "    else :\n",
    "        print(n, \"X\")\n",
    "\n",
    "for i in range(n):\n",
    "    samyukgoo(i)"
   ]
  },
  {
   "cell_type": "code",
   "execution_count": null,
   "metadata": {},
   "outputs": [],
   "source": [
    "#7 369 게임 만들기 : 숫자 3,6,9가 들어가는 경우, 3의배수는 아님\n",
    "n = int(input(\"양의 정수를 입력하시오 : \"))\n",
    "\n",
    "def samyukgoo(n):\n",
    "    temp = n\n",
    "    digits = []\n",
    "    digit = temp%10\n",
    "    while digit != 0 :\n",
    "        digits.append(digit)\n",
    "        temp //= 10\n",
    "        digit = temp%10\n",
    "    if any(i in digits for i in [3,6,9]):\n",
    "        print(n, \"O\")\n",
    "    else :\n",
    "        print(n, \"X\")\n",
    "\n",
    "for i in range(n):\n",
    "    samyukgoo(i)"
   ]
  },
  {
   "cell_type": "code",
   "execution_count": 6,
   "metadata": {},
   "outputs": [
    {
     "name": "stdout",
     "output_type": "stream",
     "text": [
      "2\n",
      "3\n",
      "5\n",
      "7\n",
      "11\n",
      "13\n",
      "17\n",
      "19\n",
      "23\n",
      "29\n",
      "31\n",
      "37\n",
      "41\n",
      "43\n",
      "47\n",
      "53\n",
      "59\n",
      "61\n",
      "67\n",
      "71\n",
      "73\n",
      "79\n",
      "83\n",
      "89\n",
      "97\n"
     ]
    }
   ],
   "source": [
    "#9  2~N 사이의 모든 소수를 추출하기\n",
    "import math\n",
    "def isPrime(m) :\n",
    "    c = 2\n",
    "    while c <= math.sqrt(m):\n",
    "        if m%c==0 :\n",
    "            return 0\n",
    "        c+=1\n",
    "    return 1\n",
    "\n",
    "n = int(input(\"1 이상의 정수를 입력하시오 : \"))\n",
    "\n",
    "for i in range(2,n+1):\n",
    "    if isPrime(i):\n",
    "        print(i)"
   ]
  },
  {
   "cell_type": "code",
   "execution_count": 11,
   "metadata": {},
   "outputs": [
    {
     "name": "stdout",
     "output_type": "stream",
     "text": [
      "[1, 2, 5, 10]\n"
     ]
    }
   ],
   "source": [
    "#10 약수 구하기\n",
    "import math\n",
    "n = int(input(\"양의 정수를 입력하시오 : \"))\n",
    "mlist = []\n",
    "c = 2\n",
    "\n",
    "while c <= math.sqrt(n):\n",
    "    if n%c==0 :\n",
    "        mlist.append(c)\n",
    "        if not(c**2==n):\n",
    "            mlist.append(n//c)\n",
    "    c+=1\n",
    "\n",
    "if len(mlist)==0 :\n",
    "    print(\"소수입니다\")\n",
    "else:\n",
    "    mlist.append(n)\n",
    "    mlist.append(1)\n",
    "    mlist.sort()\n",
    "    print(mlist)"
   ]
  }
 ],
 "metadata": {
  "kernelspec": {
   "display_name": "Python 3",
   "language": "python",
   "name": "python3"
  },
  "language_info": {
   "codemirror_mode": {
    "name": "ipython",
    "version": 3
   },
   "file_extension": ".py",
   "mimetype": "text/x-python",
   "name": "python",
   "nbconvert_exporter": "python",
   "pygments_lexer": "ipython3",
   "version": "3.12.2"
  }
 },
 "nbformat": 4,
 "nbformat_minor": 2
}
