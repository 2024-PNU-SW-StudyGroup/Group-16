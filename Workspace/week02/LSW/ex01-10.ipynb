{
 "cells": [
  {
   "cell_type": "code",
   "execution_count": null,
   "metadata": {},
   "outputs": [],
   "source": [
    "#1 반복문을 사용하여 0부터 n까지의 합 풀어보기\n",
    "n = int(input())\n",
    "result = 0\n",
    "for i in range(n):\n",
    "    result+=(i+1)\n",
    "print(result)"
   ]
  },
  {
   "cell_type": "code",
   "execution_count": null,
   "metadata": {},
   "outputs": [],
   "source": [
    "#2 재귀 호출을 사용하여 1부터 20까지 출력하기\n",
    "def calc(n) :\n",
    "    if n<=20:\n",
    "        print(n)\n",
    "        n+=1\n",
    "        return calc(n)\n",
    "    else :\n",
    "        return 0\n",
    "calc(1)"
   ]
  },
  {
   "cell_type": "code",
   "execution_count": null,
   "metadata": {},
   "outputs": [],
   "source": [
    "#3 반복문을 사용하여 1부터 n까지 출력하기\n",
    "n=20\n",
    "c=1\n",
    "while c<=n:\n",
    "    print(c)\n",
    "    c+=1"
   ]
  },
  {
   "cell_type": "code",
   "execution_count": null,
   "metadata": {},
   "outputs": [],
   "source": [
    "#4 재귀 호출을 사용하여 n부터 1까지 출력하기\n",
    "def reverseCalc(n):\n",
    "    if n>=1:\n",
    "        print(n)\n",
    "        n-=1\n",
    "        return reverseCalc(n)\n",
    "    else : return 0\n",
    "\n",
    "reverseCalc(int(input('n을 입력하시오 : ')))"
   ]
  },
  {
   "cell_type": "code",
   "execution_count": null,
   "metadata": {},
   "outputs": [],
   "source": [
    "#5 3과 5의 배수 계산하기\n",
    "n = int(input())\n",
    "lists = []\n",
    "def calc3and5(user_input):\n",
    "    if (user_input%5==0 and user_input%3==0) :\n",
    "        print(user_input,\"은 3의 배수이면서 5의 배수입니다.\")\n",
    "        lists.append(user_input)\n",
    "    else:\n",
    "        print(user_input, \"은 3의 배수이면서 5의 배수가 아닙니다.\")\n",
    "for i in range(n):\n",
    "    calc3and5(i+1)\n",
    "\n",
    "for i in lists:\n",
    "    print(i)"
   ]
  },
  {
   "cell_type": "code",
   "execution_count": null,
   "metadata": {},
   "outputs": [],
   "source": [
    "#6 숫자 뒤집기\n",
    "userInput = int(input(\"양의 정수를 입력하시오 : \"))\n",
    "\n",
    "\"\"\"\n",
    "사기꾼 방식\n",
    "\n",
    "tempstr = list(str(userInput))\n",
    "result = []\n",
    "for i in range(len(tempstr)):\n",
    "    result.append(tempstr.pop())\n",
    "print(\"\".join(result))\n",
    "\"\"\"\n",
    "digits =[]\n",
    "digit = userInput%10\n",
    "temp = userInput\n",
    "result = 0\n",
    "while digit != 0 :\n",
    "    digits.append(digit)\n",
    "    temp //= 10\n",
    "    digit = temp%10\n",
    "for i in range(len(digits)):\n",
    "    result+=digits[i]*10**(len(digits)-i-1)\n",
    "print(result)"
   ]
  },
  {
   "cell_type": "code",
   "execution_count": null,
   "metadata": {},
   "outputs": [],
   "source": [
    "#7 369 게임 만들기 : 숫자 3,6,9가 들어가는 경우, 3의배수는 아님\n",
    "n = int(input(\"양의 정수를 입력하시오 : \"))\n",
    "\n",
    "def samyukgoo(n):\n",
    "    temp = n\n",
    "    digits = []\n",
    "    digit = temp%10\n",
    "    while digit != 0 :\n",
    "        digits.append(digit)\n",
    "        temp //= 10\n",
    "        digit = temp%10\n",
    "    if any(i in digits for i in [3,6,9]):\n",
    "        print(n, \"O\")\n",
    "    else :\n",
    "        print(n, \"X\")\n",
    "\n",
    "for i in range(n):\n",
    "    samyukgoo(i)"
   ]
  },
  {
   "cell_type": "code",
   "execution_count": null,
   "metadata": {},
   "outputs": [],
   "source": [
    "#7 369 게임 만들기 : 숫자 3,6,9가 들어가는 경우, 3의배수는 아님\n",
    "n = int(input(\"양의 정수를 입력하시오 : \"))\n",
    "\n",
    "def samyukgoo(n):\n",
    "    temp = n\n",
    "    digits = []\n",
    "    digit = temp%10\n",
    "    while digit != 0 :\n",
    "        digits.append(digit)\n",
    "        temp //= 10\n",
    "        digit = temp%10\n",
    "    if any(i in digits for i in [3,6,9]):\n",
    "        print(n, \"O\")\n",
    "    else :\n",
    "        print(n, \"X\")\n",
    "\n",
    "for i in range(n):\n",
    "    samyukgoo(i)"
   ]
  },
  {
   "cell_type": "code",
   "execution_count": null,
   "metadata": {},
   "outputs": [],
   "source": [
    "#9  2~N 사이의 모든 소수를 추출하기\n",
    "import math\n",
    "def isPrime(m) :\n",
    "    c = 2\n",
    "    while c <= math.sqrt(m):\n",
    "        if m%c==0 :\n",
    "            return 0\n",
    "        c+=1\n",
    "    return 1\n",
    "\n",
    "n = int(input(\"1 이상의 정수를 입력하시오 : \"))\n",
    "\n",
    "for i in range(2,n+1):\n",
    "    if isPrime(i):\n",
    "        print(i)"
   ]
  },
  {
   "cell_type": "code",
   "execution_count": null,
   "metadata": {},
   "outputs": [],
   "source": [
    "#10 약수 구하기\n"
   ]
  }
 ],
 "metadata": {
  "language_info": {
   "name": "python"
  }
 },
 "nbformat": 4,
 "nbformat_minor": 2
}
