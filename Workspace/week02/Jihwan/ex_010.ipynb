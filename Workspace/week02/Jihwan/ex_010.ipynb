{
  "nbformat": 4,
  "nbformat_minor": 0,
  "metadata": {
    "colab": {
      "provenance": []
    },
    "kernelspec": {
      "name": "python3",
      "display_name": "Python 3"
    },
    "language_info": {
      "name": "python"
    }
  },
  "cells": [
    {
      "cell_type": "code",
      "execution_count": 8,
      "metadata": {
        "colab": {
          "base_uri": "https://localhost:8080/"
        },
        "id": "OCDWkr-6oPkx",
        "outputId": "8845db84-4849-4d37-d92e-cc3dbaf4c9e8"
      },
      "outputs": [
        {
          "output_type": "stream",
          "name": "stdout",
          "text": [
            "9\n",
            "[1, 3, 9]\n"
          ]
        }
      ],
      "source": [
        "ylist = []\n",
        "def yakssu(n):\n",
        "  c = 2\n",
        "  while c*c <= n:\n",
        "    if n%c == 0:\n",
        "      ylist.append(c)\n",
        "      if c*c == n:\n",
        "        break\n",
        "      ylist.append(n//c)\n",
        "    c += 1\n",
        "  ylist.append(1)\n",
        "  ylist.append(n)\n",
        "  ylist.sort()\n",
        "  print(ylist)\n",
        "n = int(input())\n",
        "yakssu(n)"
      ]
    }
  ]
}