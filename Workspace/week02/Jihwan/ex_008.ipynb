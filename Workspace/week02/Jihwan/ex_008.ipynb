{
 "cells": [
  {
   "cell_type": "code",
   "execution_count": null,
   "metadata": {},
   "outputs": [],
   "source": [
    "def sotssu(n):\n",
    "    p = 2\n",
    "    while p < n:\n",
    "        if n%p == 0:\n",
    "            break\n",
    "        p += 1\n",
    "\n",
    "    if p == n:\n",
    "        print(f'{n} is sotssu')\n",
    "    else:\n",
    "        print(f'{n} is not sotssu')\n",
    "\n",
    "\n",
    "n = 2\n",
    "while n <= 20:\n",
    "    sotssu(n)\n",
    "    n += 1"
   ]
  }
 ],
 "metadata": {
  "language_info": {
   "name": "python"
  }
 },
 "nbformat": 4,
 "nbformat_minor": 2
}
