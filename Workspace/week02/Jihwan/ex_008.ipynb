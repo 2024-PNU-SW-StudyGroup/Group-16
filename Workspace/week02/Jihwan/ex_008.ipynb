{
 "cells": [
  {
   "cell_type": "code",
   "execution_count": 9,
   "metadata": {},
   "outputs": [
    {
     "name": "stdout",
     "output_type": "stream",
     "text": [
      "10 is hapsungsu\n"
     ]
    }
   ],
   "source": [
    "def sotssu(n):\n",
    "    c = 2\n",
    "    while c <= n:\n",
    "        if n%c == 0:\n",
    "            break\n",
    "        else:\n",
    "            c += 1\n",
    "        \n",
    "    if c != n:\n",
    "        print(f'{n} is hapsungsu')\n",
    "    else:\n",
    "        print(f'{n} is sotssu')\n",
    "\n",
    "n = int(input())\n",
    "sotssu(n)"
   ]
  }
 ],
 "metadata": {
  "kernelspec": {
   "display_name": "Python 3",
   "language": "python",
   "name": "python3"
  },
  "language_info": {
   "codemirror_mode": {
    "name": "ipython",
    "version": 3
   },
   "file_extension": ".py",
   "mimetype": "text/x-python",
   "name": "python",
   "nbconvert_exporter": "python",
   "pygments_lexer": "ipython3",
   "version": "3.10.2"
  }
 },
 "nbformat": 4,
 "nbformat_minor": 2
}
