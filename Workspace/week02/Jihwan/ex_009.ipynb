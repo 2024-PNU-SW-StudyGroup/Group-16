{
 "cells": [
  {
   "cell_type": "code",
   "execution_count": 1,
   "metadata": {},
   "outputs": [
    {
     "name": "stdout",
     "output_type": "stream",
     "text": [
      "2 is sotssu\n",
      "3 is sotssu\n",
      "4 is not sotssu\n",
      "5 is sotssu\n",
      "6 is not sotssu\n",
      "7 is sotssu\n",
      "8 is not sotssu\n",
      "9 is not sotssu\n",
      "10 is not sotssu\n",
      "11 is sotssu\n",
      "12 is not sotssu\n",
      "13 is sotssu\n",
      "14 is not sotssu\n",
      "15 is not sotssu\n",
      "16 is not sotssu\n",
      "17 is sotssu\n",
      "18 is not sotssu\n",
      "19 is sotssu\n",
      "20 is not sotssu\n"
     ]
    }
   ],
   "source": [
    "def sotssu(n):\n",
    "    p = 2\n",
    "    while p < n:\n",
    "        if n%p == 0:\n",
    "            break\n",
    "        p += 1\n",
    "\n",
    "    if p == n:\n",
    "        print(f'{n} is sotssu')\n",
    "    else:\n",
    "        print(f'{n} is not sotssu')\n",
    "\n",
    "\n",
    "n = 2\n",
    "while n <= 20:\n",
    "    sotssu(n)\n",
    "    n += 1"
   ]
  }
 ],
 "metadata": {
  "kernelspec": {
   "display_name": "Python 3",
   "language": "python",
   "name": "python3"
  },
  "language_info": {
   "codemirror_mode": {
    "name": "ipython",
    "version": 3
   },
   "file_extension": ".py",
   "mimetype": "text/x-python",
   "name": "python",
   "nbconvert_exporter": "python",
   "pygments_lexer": "ipython3",
   "version": "3.10.2"
  }
 },
 "nbformat": 4,
 "nbformat_minor": 2
}
