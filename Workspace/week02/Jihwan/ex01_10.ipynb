{
 "cells": [
  {
   "cell_type": "code",
   "execution_count": null,
   "metadata": {
    "id": "L4dQhedmudhn"
   },
   "outputs": [],
   "source": [
    "#ex_001\n",
    "sum = 0\n",
    "for i in range(101):\n",
    "    sum += i\n",
    "print(sum)"
   ]
  },
  {
   "cell_type": "code",
   "execution_count": null,
   "metadata": {
    "id": "umbyn33Yumwk"
   },
   "outputs": [],
   "source": [
    "#ex_002\n",
    "def jegui(n):\n",
    "    if n>0:\n",
    "        jegui(n-1)\n",
    "    print(n)\n",
    "\n",
    "jegui(20)"
   ]
  },
  {
   "cell_type": "code",
   "execution_count": null,
   "metadata": {
    "id": "vYGcIcsFuvBt"
   },
   "outputs": [],
   "source": [
    "#ex_003\n",
    "for i in range(1,21):\n",
    "    print(i)"
   ]
  },
  {
   "cell_type": "code",
   "execution_count": null,
   "metadata": {
    "id": "HxxNohg7uu_t"
   },
   "outputs": [],
   "source": [
    "#ex_004\n",
    "def jegui(n):\n",
    "    if n >= 1:\n",
    "        print(n)\n",
    "        jegui(n-1)\n",
    "jegui(20)"
   ]
  },
  {
   "cell_type": "code",
   "execution_count": null,
   "metadata": {
    "id": "mQkdkxlquu-l"
   },
   "outputs": [],
   "source": [
    "#ex_005\n",
    "n = int(input())\n",
    "for i in range(1,n+1):\n",
    "    if i%3 == 0 and i%5 == 0:\n",
    "        print(i)\n",
    "        i += 1"
   ]
  },
  {
   "cell_type": "code",
   "execution_count": null,
   "metadata": {
    "id": "rywE2VxJuu8-"
   },
   "outputs": [],
   "source": [
    "#ex_006\n",
    "n = list(input())\n",
    "e = []\n",
    "for i in range(len(n)):\n",
    "    e.append(n.pop())\n",
    "e= \"\".join(e)\n",
    "print(e)"
   ]
  },
  {
   "cell_type": "code",
   "execution_count": null,
   "metadata": {
    "id": "fc3DAEGUuu7k"
   },
   "outputs": [],
   "source": [
    "#ex_007\n",
    "def game(n):\n",
    "    for i in range(1,n+1):\n",
    "        if i%3 != 0:\n",
    "            print(i)\n",
    "        else:\n",
    "            print(\"JJak\")\n",
    "\n",
    "n = int(input())\n",
    "game(n)"
   ]
  },
  {
   "cell_type": "code",
   "execution_count": null,
   "metadata": {
    "id": "mt3U20-huu57"
   },
   "outputs": [],
   "source": [
    "#ex_008\n",
    "def sotssu(n):\n",
    "    c = 2\n",
    "    while c <= n:\n",
    "        if n%c == 0:\n",
    "            break\n",
    "        else:\n",
    "            c += 1\n",
    "\n",
    "    if c != n:\n",
    "        print(f'{n} is hapsungsu')\n",
    "    else:\n",
    "        print(f'{n} is sotssu')\n",
    "\n",
    "n = int(input())\n",
    "sotssu(n)"
   ]
  },
  {
   "cell_type": "code",
   "execution_count": 3,
   "metadata": {
    "id": "hbIDdmhNuu30"
   },
   "outputs": [
    {
     "name": "stdout",
     "output_type": "stream",
     "text": [
      "2 is sotssu\n",
      "3 is sotssu\n",
      "4 is not sotssu\n",
      "5 is sotssu\n",
      "6 is not sotssu\n",
      "7 is sotssu\n",
      "8 is not sotssu\n",
      "9 is not sotssu\n",
      "10 is not sotssu\n",
      "11 is sotssu\n",
      "12 is not sotssu\n",
      "13 is sotssu\n",
      "14 is not sotssu\n",
      "15 is not sotssu\n",
      "16 is not sotssu\n",
      "17 is sotssu\n",
      "18 is not sotssu\n",
      "19 is sotssu\n",
      "20 is not sotssu\n"
     ]
    }
   ],
   "source": [
    "#ex_009\n",
    "def sotssu(n):\n",
    "    p = 2\n",
    "    while p < n:\n",
    "        if n%p == 0:\n",
    "            break\n",
    "        else:\n",
    "            p += 1\n",
    "\n",
    "    if p == n:\n",
    "        print(f'{n} is sotssu')\n",
    "    else:\n",
    "        print(f'{n} is not sotssu')\n",
    "\n",
    "\n",
    "n = 2\n",
    "while n <= 20:\n",
    "    sotssu(n)\n",
    "    n += 1"
   ]
  },
  {
   "cell_type": "code",
   "execution_count": null,
   "metadata": {
    "id": "cChDt851vMaf"
   },
   "outputs": [],
   "source": [
    "#ex_010\n",
    "ylist = []\n",
    "def yakssu(n):\n",
    "  c = 2\n",
    "  while c*c <= n:\n",
    "    if n%c == 0:\n",
    "      ylist.append(c)\n",
    "      if c*c == n:\n",
    "        break\n",
    "      ylist.append(n//c)\n",
    "    c += 1\n",
    "  ylist.append(1)\n",
    "  ylist.append(n)\n",
    "  ylist.sort()\n",
    "  print(ylist)\n",
    "n = int(input())\n",
    "yakssu(n)"
   ]
  }
 ],
 "metadata": {
  "colab": {
   "provenance": []
  },
  "kernelspec": {
   "display_name": "Python 3",
   "name": "python3"
  },
  "language_info": {
   "codemirror_mode": {
    "name": "ipython",
    "version": 3
   },
   "file_extension": ".py",
   "mimetype": "text/x-python",
   "name": "python",
   "nbconvert_exporter": "python",
   "pygments_lexer": "ipython3",
   "version": "3.10.2"
  }
 },
 "nbformat": 4,
 "nbformat_minor": 0
}
