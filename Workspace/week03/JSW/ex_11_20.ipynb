{
 "cells": [
  {
   "cell_type": "markdown",
   "metadata": {},
   "source": [
    "# 011 소수구하기"
   ]
  },
  {
   "cell_type": "code",
   "execution_count": 32,
   "metadata": {},
   "outputs": [
    {
     "name": "stdout",
     "output_type": "stream",
     "text": [
      "[2, 3, 5, 7, 11, 13, 17, 19, 23, 29, 31, 37, 41, 43, 47, 53, 59, 61, 67, 71, 73, 79, 83, 89, 97]\n"
     ]
    }
   ],
   "source": [
    "def SieveofEratosthenes(n:int)->list:\n",
    "    prime_list = [True] * (n+1)\n",
    "    prime_list[0] = False\n",
    "    prime_list[1] = False\n",
    "\n",
    "    for i in range(2, n+1):\n",
    "        if prime_list[i]:\n",
    "            j = 2\n",
    "            while i*j <= n:\n",
    "                prime_list[i*j] = False\n",
    "                j += 1\n",
    "    return [i for i in range(len(prime_list)) if prime_list[i]]\n",
    "\n",
    "print(SieveofEratosthenes(100))"
   ]
  },
  {
   "cell_type": "markdown",
   "metadata": {},
   "source": [
    "# 012 약수의 합 구하기"
   ]
  },
  {
   "cell_type": "code",
   "execution_count": 33,
   "metadata": {},
   "outputs": [
    {
     "name": "stdout",
     "output_type": "stream",
     "text": [
      "15\n"
     ]
    }
   ],
   "source": [
    "def SumOfDivisors(n:int)->int:\n",
    "    result = 0\n",
    "    for i in range(1, n+1):\n",
    "        if n % i == 0:\n",
    "            result += i\n",
    "    return result\n",
    "\n",
    "print(SumOfDivisors(8))"
   ]
  },
  {
   "cell_type": "markdown",
   "metadata": {},
   "source": [
    "# 013 반복문을 사용하여 최대공약수 구하기"
   ]
  },
  {
   "cell_type": "code",
   "execution_count": 34,
   "metadata": {},
   "outputs": [
    {
     "name": "stdout",
     "output_type": "stream",
     "text": [
      "8\n"
     ]
    }
   ],
   "source": [
    "def GCD_loop(a:int, b:int)->int:\n",
    "    if a < b:\n",
    "        a, b = b, a\n",
    "    while b != 0:\n",
    "        a, b = b, a%b\n",
    "    \n",
    "    return a\n",
    "\n",
    "print(GCD_loop(24, 64))"
   ]
  },
  {
   "cell_type": "markdown",
   "metadata": {},
   "source": [
    "# 014 재귀 호출을 사용하여 최대공약수 구하기"
   ]
  },
  {
   "cell_type": "code",
   "execution_count": 35,
   "metadata": {},
   "outputs": [
    {
     "name": "stdout",
     "output_type": "stream",
     "text": [
      "8\n"
     ]
    }
   ],
   "source": [
    "def GCD_recursive(a:int, b:int)->int:\n",
    "    if a < b:\n",
    "        return GCD_recursive(b, a)\n",
    "    if b == 0:\n",
    "        return a\n",
    "    return GCD_recursive(b, a%b)\n",
    "\n",
    "print(GCD_recursive(24, 64))"
   ]
  },
  {
   "cell_type": "markdown",
   "metadata": {},
   "source": [
    "# 015 소인수분해 구하기"
   ]
  },
  {
   "cell_type": "code",
   "execution_count": 46,
   "metadata": {},
   "outputs": [
    {
     "name": "stdout",
     "output_type": "stream",
     "text": [
      "[2, 2, 2, 2, 3]\n"
     ]
    }
   ],
   "source": [
    "def GetDivisors(n:int)->list:\n",
    "    divisors = []\n",
    "    \n",
    "    divisor = 2\n",
    "    while n != 1:\n",
    "        if n%divisor == 0:\n",
    "            divisors.append(divisor)\n",
    "            n /= divisor\n",
    "        else:\n",
    "            divisor += 1\n",
    "\n",
    "    return divisors\n",
    "\n",
    "print(GetDivisors(48))"
   ]
  },
  {
   "cell_type": "markdown",
   "metadata": {},
   "source": [
    "# 016 최소공배수 구하기"
   ]
  },
  {
   "cell_type": "code",
   "execution_count": 48,
   "metadata": {},
   "outputs": [
    {
     "name": "stdout",
     "output_type": "stream",
     "text": [
      "6\n",
      "30\n"
     ]
    }
   ],
   "source": [
    "def LCM(a:int, b:int)->int:\n",
    "    return a*b // GCD_loop(a, b)\n",
    "\n",
    "def LCM_list(nums:list)->int:\n",
    "    lcm = 1\n",
    "    for num in nums:\n",
    "        lcm = LCM(lcm, num)\n",
    "\n",
    "    return lcm\n",
    "\n",
    "print(LCM(2, 6))\n",
    "print(LCM_list([2, 3, 5]))"
   ]
  },
  {
   "cell_type": "markdown",
   "metadata": {},
   "source": [
    "# 017 배열 채우기(1)"
   ]
  },
  {
   "cell_type": "code",
   "execution_count": 49,
   "metadata": {},
   "outputs": [
    {
     "name": "stdout",
     "output_type": "stream",
     "text": [
      "[0, 1, 1, 2, 3, 5, 8, 13, 21, 34]\n"
     ]
    }
   ],
   "source": [
    "def fibonacci(n:int)->list:\n",
    "    fib = [0, 1]\n",
    "    for i in range(2, n):\n",
    "        fib.append(fib[i-1] + fib[i-2])\n",
    "    return fib\n",
    "\n",
    "print(fibonacci(10))"
   ]
  },
  {
   "cell_type": "markdown",
   "metadata": {},
   "source": [
    "# 018 배열 채우기(2)"
   ]
  },
  {
   "cell_type": "code",
   "execution_count": 50,
   "metadata": {},
   "outputs": [
    {
     "name": "stdout",
     "output_type": "stream",
     "text": [
      "[1, 2, 3, 3, 4, 4, 4, 4, 5, 5]\n"
     ]
    }
   ],
   "source": [
    "def array_access(n:int)->int:\n",
    "    a = [0] * n\n",
    "    for i in range(n):\n",
    "        a[i] = a[i//2] + 1\n",
    "\n",
    "    return a\n",
    "\n",
    "print(array_access(10))"
   ]
  },
  {
   "cell_type": "markdown",
   "metadata": {},
   "source": [
    "# 019 반복문을 사용하여 조합 구하기"
   ]
  },
  {
   "cell_type": "code",
   "execution_count": 60,
   "metadata": {},
   "outputs": [
    {
     "name": "stdout",
     "output_type": "stream",
     "text": [
      "1 \n",
      "1 1 \n",
      "1 2 1 \n",
      "1 3 3 1 \n",
      "1 4 6 4 1 \n",
      "1 5 10 10 5 1 \n"
     ]
    }
   ],
   "source": [
    "def comb_loop(n:int, r:int)->int:\n",
    "    if n == 0 or r == 0 or n == r:\n",
    "        return 1\n",
    "    \n",
    "    result = 1\n",
    "    for i in range(1, r+1):\n",
    "        result *= (n-i+1) / i\n",
    "    return int(result)\n",
    "    \n",
    "for i in range(0, 6):\n",
    "    for j in range(0, i+1):\n",
    "        print(comb_loop(i, j), end=\" \")\n",
    "    print()"
   ]
  },
  {
   "cell_type": "markdown",
   "metadata": {},
   "source": [
    "# 020 재귀 호출을 사용하여 조합 구하기"
   ]
  },
  {
   "cell_type": "code",
   "execution_count": 55,
   "metadata": {},
   "outputs": [
    {
     "name": "stdout",
     "output_type": "stream",
     "text": [
      "1 \n",
      "1 1 \n",
      "1 2 1 \n",
      "1 3 3 1 \n",
      "1 4 6 4 1 \n",
      "1 5 10 10 5 1 \n"
     ]
    }
   ],
   "source": [
    "def comb_recursive(n:int, r:int)->int:\n",
    "    if n == 0 or r == 0 or n == r:\n",
    "        return 1\n",
    "    return comb_recursive(n-1, r-1) + comb_recursive(n-1, r)\n",
    "\n",
    "for i in range(0, 6):\n",
    "    for j in range(0, i+1):\n",
    "        print(comb_recursive(i, j), end=' ')\n",
    "    print()"
   ]
  },
  {
   "cell_type": "code",
   "execution_count": null,
   "metadata": {},
   "outputs": [],
   "source": []
  }
 ],
 "metadata": {
  "kernelspec": {
   "display_name": "base",
   "language": "python",
   "name": "python3"
  },
  "language_info": {
   "codemirror_mode": {
    "name": "ipython",
    "version": 3
   },
   "file_extension": ".py",
   "mimetype": "text/x-python",
   "name": "python",
   "nbconvert_exporter": "python",
   "pygments_lexer": "ipython3",
   "version": "3.11.5"
  }
 },
 "nbformat": 4,
 "nbformat_minor": 2
}
