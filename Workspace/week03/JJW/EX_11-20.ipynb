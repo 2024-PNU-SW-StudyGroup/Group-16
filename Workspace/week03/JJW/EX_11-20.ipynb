{
 "cells": [
  {
   "cell_type": "markdown",
   "metadata": {},
   "source": [
    "예제 11"
   ]
  },
  {
   "cell_type": "code",
   "execution_count": null,
   "metadata": {},
   "outputs": [],
   "source": [
    "'''소수 구하기(에라토스테네스의 체)\n",
    "조건:\n",
    "1. 시작은 1부터 했지만 1은 소수가 아니므로 제외하고, 그 다음 수인 2는 소수이므로 100까지의 숫자들 중에서 2의 배수인 숫자들은 전부 제거한다.\n",
    "2. 남아있는 숫자들 중에서 그 다음으로 가장 작은 소수는 3이며, 1단계와 마찬가지로 3의 배수를 모두 제거한다. 이 작업을 100이 될 때까지 반복한다.\n",
    "3. 지워지지 않은 모든 수는 소수이며, 지워진 수는 합성수이다.'''\n",
    "\n",
    "'''끄적끄적:\n",
    "시키는 대로 하기\n",
    "리스트 전체로 만들기\n",
    "전체 리스트에서 나눠지는 애들 다 지우기\n",
    "'''\n",
    "\n",
    "# 직접 만든 버전\n",
    "#strnum = input(\"소수를 찾을 가장 큰 숫자를 입력하세요: \")\n",
    "#num = int(strnum)\n",
    "num = 100\n",
    "result = []\n",
    "prime_dector = 2\n",
    "\n",
    "# 모든 숫자 리스트\n",
    "for i in range(0, num + 1):\n",
    "    result.append(i)\n",
    "\n",
    "result[0] = 0\n",
    "result[1] = 0\n",
    "\n",
    "while prime_dector < 100:\n",
    "    for i in range(3, num + 1):\n",
    "        if i % prime_dector == 0:\n",
    "            if result[i] > 0:\n",
    "                if i == prime_dector:\n",
    "                    pass\n",
    "                else:\n",
    "                    result[i] = 0\n",
    "                print(i)\n",
    "    prime_dector += 1\n",
    "\n",
    "\n",
    "for i in result:\n",
    "    if result[i] > 0:\n",
    "        print(i, end = \" \")"
   ]
  },
  {
   "cell_type": "markdown",
   "metadata": {},
   "source": [
    "예제 12"
   ]
  },
  {
   "cell_type": "code",
   "execution_count": null,
   "metadata": {},
   "outputs": [],
   "source": [
    "'''약수의 합 출력하기\n",
    "조건:\n",
    "1. 주어진 숫자 n의 약수에는 1과 자기자신도 포함된다.\n",
    "2. 약수를 구할 때마다 하나의 변수에 더하여 저장한다.\n",
    "'''\n",
    "\n",
    "'''끄적끄적:\n",
    "\n",
    "'''\n",
    "\n",
    "# 직접 만든 버전\n",
    "num = 20\n",
    "i = 1\n",
    "total = 0\n",
    "\n",
    "while (i <= num):\n",
    "    if num % i == 0:\n",
    "        total = total + i\n",
    "        i += 1\n",
    "    else:\n",
    "        i += 1\n",
    "\n",
    "print(total)"
   ]
  },
  {
   "cell_type": "markdown",
   "metadata": {},
   "source": [
    "예제 13"
   ]
  },
  {
   "cell_type": "code",
   "execution_count": null,
   "metadata": {},
   "outputs": [],
   "source": [
    "'''반복문을 사용하여 최대공약수 구하기\n",
    "조건:\n",
    "1. 2개의 수 a와 b에서 큰 수를 a라 하고, 작은 수를 b라고 했을 때 a%b가 0이 될 때까지 반복한다.\n",
    "'''\n",
    "\n",
    "'''끄적끄적:\n",
    "큰놈이랑 작은놈을 지정하고 번갈아서 나눠보기\n",
    "'''\n",
    "\n",
    "# 직접 만든 버전\n",
    "num_big = 80\n",
    "num_small = 12\n",
    "temp = 0\n",
    "\n",
    "while True:\n",
    "    if num_big % num_small == 0:\n",
    "        break\n",
    "    elif num_big > num_big % num_small:\n",
    "        temp = num_small\n",
    "        num_small = num_big % num_small\n",
    "        num_big = temp\n",
    "    elif num_big < num_big % num_small:\n",
    "        temp = num_big\n",
    "        num_big = num_big % num_small\n",
    "        num_small = temp\n",
    "\n",
    "print(num_small)"
   ]
  },
  {
   "cell_type": "markdown",
   "metadata": {},
   "source": [
    "예제 14"
   ]
  },
  {
   "cell_type": "code",
   "execution_count": null,
   "metadata": {},
   "outputs": [],
   "source": [
    "'''재귀 호출을 사용하여 최대공약수 구하기\n",
    "조건:\n",
    "1. 반복문의 코드 대신 재귀 호출로 작성한다.\n",
    "2. 재귀 호출의 종료 조건은 작은 수가 0이 될 때 종료한다.\n",
    "'''\n",
    "\n",
    "'''끄적끄적:\n",
    "'''\n",
    "\n",
    "# 직접 만든 버전\n",
    "def greatest_common_finder(a, b):\n",
    "    if a < b:\n",
    "        num_big = b\n",
    "        num_small = a\n",
    "    elif a >= b:\n",
    "        num_big = a\n",
    "        num_small = b\n",
    "    if num_small == 0:\n",
    "        print(num_big)\n",
    "        return num_big\n",
    "    else:\n",
    "        greatest_common_finder(num_small, num_big % num_small)\n",
    "\n",
    "greatest_common_finder(33,22)"
   ]
  },
  {
   "cell_type": "markdown",
   "metadata": {},
   "source": [
    "예제 15"
   ]
  },
  {
   "cell_type": "code",
   "execution_count": null,
   "metadata": {},
   "outputs": [],
   "source": [
    "'''소인수분해 구하기\n",
    "조건:\n",
    "1. 주어진 숫자 n이 i로 나누어지면 해당 i는 n의 인수에 해당하며 n = n / i로 저장하여 이 과정을 반복한다.\n",
    "2. 반복문을 간단하게 하기 위해 무한루프를 사용한다.\n",
    "'''\n",
    "\n",
    "'''끄적끄적:\n",
    "'''\n",
    "\n",
    "# 직접 만든 버전\n",
    "result_list = []\n",
    "n = 200\n",
    "i = 2\n",
    "while True:\n",
    "    if n % i == 0:\n",
    "        n = n // i\n",
    "        result_list.append(i)\n",
    "        if n == i:\n",
    "            result_list.append(i)\n",
    "            break\n",
    "    else:\n",
    "        i += 1\n",
    "\n",
    "print(result_list)"
   ]
  },
  {
   "cell_type": "markdown",
   "metadata": {},
   "source": [
    "예제 16"
   ]
  },
  {
   "cell_type": "code",
   "execution_count": null,
   "metadata": {},
   "outputs": [],
   "source": [
    "'''최소공배수 구하기\n",
    "조건:\n",
    "1. 반복문을 사용하여 2개의 숫자가 모두 나눠질 수 있는 첫 번재 나오는 수를 구한다.\n",
    "2. 반복문의 끝을 어떤 수로 설정할지 고민해야 한다.\n",
    "'''\n",
    "\n",
    "'''끄적끄적:\n",
    "'''\n",
    "\n",
    "# 직접 만든 버전\n",
    "num_small = 200\n",
    "num_big = 100\n",
    "for i in range(1, num_small + 1):\n",
    "    if num_small % (num_small - i) == 0 and num_big % num_small - i == 0:\n",
    "        break\n",
    "\n",
    "print(i)"
   ]
  },
  {
   "cell_type": "markdown",
   "metadata": {},
   "source": [
    "예제 17"
   ]
  },
  {
   "cell_type": "code",
   "execution_count": null,
   "metadata": {},
   "outputs": [],
   "source": [
    "'''배열 채우기(1)\n",
    "조건:\n",
    "1. 배열을 사용할 때 인덱스 + 1개의 배열을 선언해야 한다.\n",
    "2. 이전 2개의 항목을 더하여 현재 배열의 값으로 저장한다.\n",
    "'''\n",
    "\n",
    "'''끄적끄적:\n",
    "이전 2개의 항목을 더하여 현재 배열의 값으로 하는데 1, 2번 변수의 값은 뭐로 해야할까.\n",
    "'''\n",
    "\n",
    "# 직접 만든 \n",
    "# 배열 크기 설정\n",
    "str_size = input(\"배열 크기 설정해주세요\")\n",
    "size = int(str_size)\n",
    "\n",
    "result_list = []\n",
    "\n",
    "# 깡통 리스트 만드는 반복문\n",
    "for i in range(0, size + 1):\n",
    "    result_list.append(1)\n",
    "\n",
    "# 앞에거 2개 더해주는 반복문\n",
    "for i in range(0, size + 1):\n",
    "    if i < 3:\n",
    "        pass\n",
    "    result_list[i] = result_list[i - 1] + result_list[i - 2]\n",
    "\n",
    "print(*result_list)"
   ]
  },
  {
   "cell_type": "markdown",
   "metadata": {},
   "source": [
    "예제 18"
   ]
  },
  {
   "cell_type": "code",
   "execution_count": null,
   "metadata": {},
   "outputs": [],
   "source": [
    "'''배열 채우기(2)\n",
    "조건:\n",
    "1. 배열 a를 1부터 100까지 액세스할 때 a의 선언은 100 + 1개로 해야 한다.\n",
    "2. 배열 a[0]의 초기값에 대해 고민해야 한다.\n",
    "'''\n",
    "\n",
    "'''끄적끄적:\n",
    "파이썬 리스트가 한번에 크기 선언이 되던가..\n",
    "'''\n",
    "\n",
    "# 직접 만든 버전\n",
    "\n",
    "\n",
    "# 책보고 만든 버전\n",
    "a = [0] * 101\n",
    "def calc_array(n):\n",
    "    a[1] = 1\n",
    "\n",
    "    i = 2\n",
    "    while i <= n:\n",
    "        a[i] = a[i // 2] + 1\n",
    "        i = i + 1\n",
    "\n",
    "'''if__name__ == \"__main__\":'''\n",
    "calc_array(100)\n",
    "i = 0\n",
    "while i <= 100:\n",
    "    print(a[i])\n",
    "    i = i + 1"
   ]
  },
  {
   "cell_type": "markdown",
   "metadata": {},
   "source": [
    "예제 19"
   ]
  },
  {
   "cell_type": "code",
   "execution_count": null,
   "metadata": {},
   "outputs": [],
   "source": [
    "'''반복문을 사용하여 조합(nCr) 구하기\n",
    "조건:\n",
    "'''\n",
    "\n",
    "'''끄적끄적:\n",
    "n 반복문, r 반복문 하나씩 쓰거나 리턴값으로 받기\n",
    "'''\n",
    "\n",
    "# 직접 만든 버전\n",
    "def factorial(n):\n",
    "    result = 1\n",
    "    while n > 0:\n",
    "        result = result * n\n",
    "        n -= 1\n",
    "    return result\n",
    "\n",
    "def combination(n , r):\n",
    "    result = 0\n",
    "    result = factorial(n) // (factorial(r) * factorial(n - r))\n",
    "    print(result)\n",
    "n = 20\n",
    "r = 2\n",
    "combination(n, r)"
   ]
  },
  {
   "cell_type": "markdown",
   "metadata": {},
   "source": [
    "예제 20"
   ]
  },
  {
   "cell_type": "code",
   "execution_count": null,
   "metadata": {},
   "outputs": [],
   "source": [
    "'''재귀 호출을 사용하여 조합(nCr) 구하기\n",
    "조건:\n",
    "1. f(n, r) = 마지막 물건을 고른 경우의 수 + 마지막 물건을 고르지 않은 경우의 수\n",
    "'''\n",
    "\n",
    "'''끄적끄적:\n",
    "분할하고 다시 호출하기\n",
    "리스트 총합으로 계산하기\n",
    "3개가 빠지면 끝난다.\n",
    "n개중에 3개 고른다.\n",
    "제일 끝에 하나 고른 경우의 수를 확인한다.\n",
    "걔 고정하고 나머지 잡기\n",
    "'''\n",
    "\n",
    "# 직접 만든 버전\n",
    "\n",
    "# 책보고 만든 버전\n",
    "def combination(n, r):\n",
    "    if r == 0 or r == n:\n",
    "        return 1\n",
    "    else:\n",
    "        return combination(n - 1, r - 1) + combination(n - 1, r)\n",
    "\n",
    "combination(3, 2)\n",
    "print(combination(3, 2))"
   ]
  }
 ],
 "metadata": {
  "language_info": {
   "name": "python"
  }
 },
 "nbformat": 4,
 "nbformat_minor": 2
}
