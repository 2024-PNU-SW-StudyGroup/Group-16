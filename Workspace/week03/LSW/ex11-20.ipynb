{
 "cells": [
  {
   "cell_type": "markdown",
   "metadata": {},
   "source": [
    "# 11\n",
    "소수 구하기 (에라토스테네스의 체)"
   ]
  },
  {
   "cell_type": "code",
   "execution_count": 4,
   "metadata": {},
   "outputs": [
    {
     "name": "stdout",
     "output_type": "stream",
     "text": [
      "[2, 3, 5, 7, 11, 13, 17, 19, 23, 29, 31, 37, 41, 43, 47, 53, 59, 61, 67, 71, 73, 79, 83, 89, 97]\n"
     ]
    }
   ],
   "source": [
    "# 내맘대로 만든 코드\n",
    "numList = [i for i in range(2,101)]\n",
    "def delComp(n):\n",
    "    c = 2\n",
    "    while n*c <= 100:\n",
    "        if n*c in numList:\n",
    "            numList.remove(n*c)\n",
    "        c+=1\n",
    "for j in numList:\n",
    "    delComp(j)\n",
    "print(numList)"
   ]
  },
  {
   "cell_type": "markdown",
   "metadata": {},
   "source": [
    "# 12\n",
    "약수의 합 출력하기"
   ]
  },
  {
   "cell_type": "code",
   "execution_count": 17,
   "metadata": {},
   "outputs": [
    {
     "name": "stdout",
     "output_type": "stream",
     "text": [
      "13\n"
     ]
    }
   ],
   "source": [
    "# 조건 1 : 주어진 숫자 n의 약수에는 1과 자기자신을 포함\n",
    "# 조건 2 : 약수를 구할 때마다 하나의 변수에 더하여 저장\n",
    "import math as m\n",
    "n = int(input())\n",
    "result = 0\n",
    "c = 1\n",
    "while c <= m.sqrt(n):\n",
    "    if c**2==n:\n",
    "        result += c\n",
    "    elif n%c==0:\n",
    "        result += c+(n//c)\n",
    "    c+=1\n",
    "print(result)\n",
    "\n"
   ]
  },
  {
   "cell_type": "markdown",
   "metadata": {},
   "source": [
    "# 13\n",
    "반복문을 사용하여 최대공약수 구하기"
   ]
  },
  {
   "cell_type": "code",
   "execution_count": null,
   "metadata": {},
   "outputs": [],
   "source": [
    "# 유클리드 호제법 사용할 것.\n",
    "# a = b * q + r\n",
    "#     b =     r * q' + r'\n",
    "n1, n2 = map(int, input().split())"
   ]
  }
 ],
 "metadata": {
  "kernelspec": {
   "display_name": "Python 3",
   "language": "python",
   "name": "python3"
  },
  "language_info": {
   "codemirror_mode": {
    "name": "ipython",
    "version": 3
   },
   "file_extension": ".py",
   "mimetype": "text/x-python",
   "name": "python",
   "nbconvert_exporter": "python",
   "pygments_lexer": "ipython3",
   "version": "3.12.0"
  }
 },
 "nbformat": 4,
 "nbformat_minor": 2
}
