{
 "cells": [
  {
   "cell_type": "markdown",
   "metadata": {},
   "source": [
    "# 11\n",
    "소수 구하기 (에라토스테네스의 체)"
   ]
  },
  {
   "cell_type": "code",
   "execution_count": null,
   "metadata": {},
   "outputs": [],
   "source": [
    "# 내맘대로 만든 코드\n",
    "numList = []\n",
    "for i in range(2, 101):\n",
    "    numList.append(i)\n",
    "def delComp(n):\n",
    "    c = 2\n",
    "    while n < 100:\n",
    "        if n*c in numList:\n",
    "            "
   ]
  }
 ],
 "metadata": {
  "language_info": {
   "name": "python"
  }
 },
 "nbformat": 4,
 "nbformat_minor": 2
}
