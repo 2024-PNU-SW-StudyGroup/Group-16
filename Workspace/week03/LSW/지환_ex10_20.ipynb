{
  "nbformat": 4,
  "nbformat_minor": 0,
  "metadata": {
    "colab": {
      "provenance": []
    },
    "kernelspec": {
      "name": "python3",
      "display_name": "Python 3"
    },
    "language_info": {
      "name": "python"
    }
  },
  "cells": [
    {
      "cell_type": "code",
      "execution_count": null,
      "metadata": {
        "colab": {
          "base_uri": "https://localhost:8080/"
        },
        "id": "wPhanBGD7Dbz",
        "outputId": "c003613e-de11-43f9-e446-0d67ce62e7ec"
      },
      "outputs": [
        {
          "output_type": "stream",
          "name": "stdout",
          "text": [
            "2\n",
            "3\n",
            "5\n",
            "7\n",
            "11\n",
            "13\n",
            "17\n",
            "19\n",
            "23\n",
            "29\n",
            "31\n",
            "37\n",
            "41\n",
            "43\n",
            "47\n",
            "53\n",
            "59\n",
            "61\n",
            "67\n",
            "71\n",
            "73\n",
            "79\n",
            "83\n",
            "89\n",
            "97\n"
          ]
        }
      ],
      "source": [
        "#ex_011\n",
        "N = 100\n",
        "import math\n",
        "sotssu = [True for i in range(N+1)]\n",
        "sotssu[0] = False\n",
        "\n",
        "for i in range(2, int(math.sqrt(N)+1)):\n",
        "  if sotssu[i] == True:\n",
        "    j = 2\n",
        "    while i*j <= N:\n",
        "      sotssu[i*j] = False\n",
        "      j += 1\n",
        "for i in range(2, N):\n",
        "  if sotssu[i]:\n",
        "    print(i)"
      ]
    },
    {
      "cell_type": "code",
      "source": [
        "#ex_012\n",
        "ylist = []\n",
        "a = 0\n",
        "def yakssu(n):\n",
        "  global a\n",
        "  c = 2\n",
        "  while c*c <= n:\n",
        "    if n%c == 0:\n",
        "      ylist.append(c)\n",
        "      if c*c == n:\n",
        "        break\n",
        "      ylist.append(n//c)\n",
        "    c += 1\n",
        "  ylist.append(1)\n",
        "  ylist.append(n)\n",
        "  for i in ylist:\n",
        "    a += i\n",
        "  print(a)\n",
        "n = int(input())\n",
        "yakssu(n)"
      ],
      "metadata": {
        "colab": {
          "base_uri": "https://localhost:8080/"
        },
        "id": "cPPp2GxpEW2n",
        "outputId": "03041ef8-bfee-48b1-829d-46944af24edc"
      },
      "execution_count": null,
      "outputs": [
        {
          "output_type": "stream",
          "name": "stdout",
          "text": [
            "8\n",
            "15\n"
          ]
        }
      ]
    },
    {
      "cell_type": "code",
      "source": [
        "#ex_013\n",
        "def yakssu(a,b):\n",
        "  while b >0:\n",
        "    c = a%b\n",
        "    if c != 0:\n",
        "      a = b\n",
        "      b = c\n",
        "    else:\n",
        "      break\n",
        "  print(b)\n",
        "\n",
        "a,b = map(int,input().split())\n",
        "yakssu(a,b)\n"
      ],
      "metadata": {
        "colab": {
          "base_uri": "https://localhost:8080/"
        },
        "id": "71d2iMPxEW1T",
        "outputId": "f1b840d5-e9e0-4422-a3fa-e6d0cedd3ffa"
      },
      "execution_count": null,
      "outputs": [
        {
          "output_type": "stream",
          "name": "stdout",
          "text": [
            "192 72\n",
            "24\n"
          ]
        }
      ]
    },
    {
      "cell_type": "code",
      "source": [
        "#ex_014\n",
        "def yakssu(a,b):\n",
        "  if a%b != 0:\n",
        "    yakssu(b,a%b)\n",
        "  else:\n",
        "    return print(b)\n",
        "\n",
        "a,b = map(int,input().split())\n",
        "yakssu(a,b)"
      ],
      "metadata": {
        "colab": {
          "base_uri": "https://localhost:8080/"
        },
        "id": "7xuPpva8EWyK",
        "outputId": "41c6f0b6-a0fd-44d0-f6fb-61c6e8dcc6e1"
      },
      "execution_count": null,
      "outputs": [
        {
          "output_type": "stream",
          "name": "stdout",
          "text": [
            "192 72\n",
            "24\n"
          ]
        }
      ]
    },
    {
      "cell_type": "code",
      "source": [
        "#ex_015\n",
        "n = int(input())\n",
        "while True:\n",
        "  i = 2\n",
        "  if n/i == 0:\n",
        "    (n//i)/i\n",
        "  else:\n",
        "    i += 1"
      ],
      "metadata": {
        "colab": {
          "base_uri": "https://localhost:8080/",
          "height": 239
        },
        "id": "ODG42RJAEWwl",
        "outputId": "646fb1f0-e802-4a20-986a-ffd6505fe5f6"
      },
      "execution_count": null,
      "outputs": [
        {
          "name": "stdout",
          "output_type": "stream",
          "text": [
            "24\n"
          ]
        },
        {
          "output_type": "error",
          "ename": "KeyboardInterrupt",
          "evalue": "",
          "traceback": [
            "\u001b[0;31m---------------------------------------------------------------------------\u001b[0m",
            "\u001b[0;31mKeyboardInterrupt\u001b[0m                         Traceback (most recent call last)",
            "\u001b[0;32m<ipython-input-71-6c2fc184a3d1>\u001b[0m in \u001b[0;36m<cell line: 3>\u001b[0;34m()\u001b[0m\n\u001b[1;32m      3\u001b[0m \u001b[0;32mwhile\u001b[0m \u001b[0;32mTrue\u001b[0m\u001b[0;34m:\u001b[0m\u001b[0;34m\u001b[0m\u001b[0;34m\u001b[0m\u001b[0m\n\u001b[1;32m      4\u001b[0m   \u001b[0mi\u001b[0m \u001b[0;34m=\u001b[0m \u001b[0;36m2\u001b[0m\u001b[0;34m\u001b[0m\u001b[0;34m\u001b[0m\u001b[0m\n\u001b[0;32m----> 5\u001b[0;31m   \u001b[0;32mif\u001b[0m \u001b[0mn\u001b[0m\u001b[0;34m/\u001b[0m\u001b[0mi\u001b[0m \u001b[0;34m==\u001b[0m \u001b[0;36m0\u001b[0m\u001b[0;34m:\u001b[0m\u001b[0;34m\u001b[0m\u001b[0;34m\u001b[0m\u001b[0m\n\u001b[0m\u001b[1;32m      6\u001b[0m     \u001b[0;34m(\u001b[0m\u001b[0mn\u001b[0m\u001b[0;34m//\u001b[0m\u001b[0mi\u001b[0m\u001b[0;34m)\u001b[0m\u001b[0;34m/\u001b[0m\u001b[0mi\u001b[0m\u001b[0;34m\u001b[0m\u001b[0;34m\u001b[0m\u001b[0m\n\u001b[1;32m      7\u001b[0m   \u001b[0;32melse\u001b[0m\u001b[0;34m:\u001b[0m\u001b[0;34m\u001b[0m\u001b[0;34m\u001b[0m\u001b[0m\n",
            "\u001b[0;31mKeyboardInterrupt\u001b[0m: "
          ]
        }
      ]
    },
    {
      "cell_type": "code",
      "source": [
        "i = 2\n",
        "def soinsu(n):\n",
        "  global i\n",
        "  while 1:\n",
        "    if n%i == 0:\n",
        "      print(i)\n",
        "      n = n//i\n",
        "    elif n%i != 0:\n",
        "      i += 1\n",
        "    else:\n",
        "      break\n",
        "\n",
        "n = int(input())\n",
        "soinsu(n)"
      ],
      "metadata": {
        "colab": {
          "base_uri": "https://localhost:8080/",
          "height": 404
        },
        "id": "eG8hiLAvEWuz",
        "outputId": "edd85b10-22ee-4331-bdc7-2e860b6ed030"
      },
      "execution_count": null,
      "outputs": [
        {
          "output_type": "stream",
          "name": "stdout",
          "text": [
            "24\n",
            "2\n",
            "2\n",
            "2\n",
            "3\n"
          ]
        },
        {
          "output_type": "error",
          "ename": "KeyboardInterrupt",
          "evalue": "",
          "traceback": [
            "\u001b[0;31m---------------------------------------------------------------------------\u001b[0m",
            "\u001b[0;31mKeyboardInterrupt\u001b[0m                         Traceback (most recent call last)",
            "\u001b[0;32m<ipython-input-64-558a8fef5b0f>\u001b[0m in \u001b[0;36m<cell line: 14>\u001b[0;34m()\u001b[0m\n\u001b[1;32m     12\u001b[0m \u001b[0;34m\u001b[0m\u001b[0m\n\u001b[1;32m     13\u001b[0m \u001b[0mn\u001b[0m \u001b[0;34m=\u001b[0m \u001b[0mint\u001b[0m\u001b[0;34m(\u001b[0m\u001b[0minput\u001b[0m\u001b[0;34m(\u001b[0m\u001b[0;34m)\u001b[0m\u001b[0;34m)\u001b[0m\u001b[0;34m\u001b[0m\u001b[0;34m\u001b[0m\u001b[0m\n\u001b[0;32m---> 14\u001b[0;31m \u001b[0msoinsu\u001b[0m\u001b[0;34m(\u001b[0m\u001b[0mn\u001b[0m\u001b[0;34m)\u001b[0m\u001b[0;34m\u001b[0m\u001b[0;34m\u001b[0m\u001b[0m\n\u001b[0m",
            "\u001b[0;32m<ipython-input-64-558a8fef5b0f>\u001b[0m in \u001b[0;36msoinsu\u001b[0;34m(n)\u001b[0m\n\u001b[1;32m      2\u001b[0m \u001b[0;32mdef\u001b[0m \u001b[0msoinsu\u001b[0m\u001b[0;34m(\u001b[0m\u001b[0mn\u001b[0m\u001b[0;34m)\u001b[0m\u001b[0;34m:\u001b[0m\u001b[0;34m\u001b[0m\u001b[0;34m\u001b[0m\u001b[0m\n\u001b[1;32m      3\u001b[0m   \u001b[0;32mglobal\u001b[0m \u001b[0mi\u001b[0m\u001b[0;34m\u001b[0m\u001b[0;34m\u001b[0m\u001b[0m\n\u001b[0;32m----> 4\u001b[0;31m   \u001b[0;32mwhile\u001b[0m \u001b[0;36m1\u001b[0m\u001b[0;34m:\u001b[0m\u001b[0;34m\u001b[0m\u001b[0;34m\u001b[0m\u001b[0m\n\u001b[0m\u001b[1;32m      5\u001b[0m     \u001b[0;32mif\u001b[0m \u001b[0mn\u001b[0m\u001b[0;34m%\u001b[0m\u001b[0mi\u001b[0m \u001b[0;34m==\u001b[0m \u001b[0;36m0\u001b[0m\u001b[0;34m:\u001b[0m\u001b[0;34m\u001b[0m\u001b[0;34m\u001b[0m\u001b[0m\n\u001b[1;32m      6\u001b[0m       \u001b[0mprint\u001b[0m\u001b[0;34m(\u001b[0m\u001b[0mi\u001b[0m\u001b[0;34m)\u001b[0m\u001b[0;34m\u001b[0m\u001b[0;34m\u001b[0m\u001b[0m\n",
            "\u001b[0;31mKeyboardInterrupt\u001b[0m: "
          ]
        }
      ]
    },
    {
      "cell_type": "code",
      "source": [
        "def soinsu(n):\n",
        "  i = 2\n",
        "  if n%i == 0:\n",
        "    print(i)\n",
        "    soinsu(n//i)\n",
        "  elif n%i != 0:\n",
        "    i += 1\n",
        "\n",
        "n = int(input())\n",
        "soinsu(n)"
      ],
      "metadata": {
        "colab": {
          "base_uri": "https://localhost:8080/"
        },
        "id": "MM6CsO4SEWti",
        "outputId": "b7d72d94-8724-4f71-92ae-aebb464f2be5"
      },
      "execution_count": null,
      "outputs": [
        {
          "name": "stdout",
          "output_type": "stream",
          "text": [
            "45\n"
          ]
        }
      ]
    },
    {
      "cell_type": "code",
      "source": [
        "#ex_017\n",
        "a =[1]*11\n",
        "for i in range(3,11):\n",
        "  a[i] = a[i-1] + a[i-2]\n",
        "  i += 1\n",
        "\n",
        "a"
      ],
      "metadata": {
        "colab": {
          "base_uri": "https://localhost:8080/"
        },
        "id": "6iacBVcPEWp6",
        "outputId": "31d2bbea-4620-4f56-a73d-0d05c934ab88"
      },
      "execution_count": null,
      "outputs": [
        {
          "output_type": "execute_result",
          "data": {
            "text/plain": [
              "[1, 1, 1, 2, 3, 5, 8, 13, 21, 34, 55]"
            ]
          },
          "metadata": {},
          "execution_count": 83
        }
      ]
    },
    {
      "cell_type": "code",
      "source": [
        "#ex_018\n",
        "a = [1]*11\n",
        "for i in range(2,11):\n",
        "  a[i] = a[i//2]+1\n",
        "  i += 1\n",
        "a"
      ],
      "metadata": {
        "colab": {
          "base_uri": "https://localhost:8080/"
        },
        "id": "iYt7_5RFEWmr",
        "outputId": "533185e1-d711-426d-bb4c-b5ec7bb8817c"
      },
      "execution_count": null,
      "outputs": [
        {
          "output_type": "execute_result",
          "data": {
            "text/plain": [
              "[1, 1, 2, 2, 3, 3, 3, 3, 4, 4, 4]"
            ]
          },
          "metadata": {},
          "execution_count": 85
        }
      ]
    },
    {
      "cell_type": "code",
      "source": [
        "#ex_019\n",
        "n,r = map(int,input().split())\n",
        "n_result = 1\n",
        "r_result = 1\n",
        "nr_result = 1\n",
        "for i in range(1,n+1):\n",
        "  n_result *= i\n",
        "for i in range(1, r+1):\n",
        "  r_result *= i\n",
        "for i in range(1, n-r+1):\n",
        "  nr_result *= i\n",
        "\n",
        "outcome = n_result/(r_result * nr_result)\n",
        "outcome"
      ],
      "metadata": {
        "colab": {
          "base_uri": "https://localhost:8080/"
        },
        "id": "L1YZnVwak-ov",
        "outputId": "3e91b137-ee33-41dd-87a4-7377eaa4a2f2"
      },
      "execution_count": null,
      "outputs": [
        {
          "output_type": "stream",
          "name": "stdout",
          "text": [
            "10 3\n",
            "120.0\n"
          ]
        }
      ]
    },
    {
      "cell_type": "code",
      "source": [
        "#ex_020\n",
        "def combi(n,r):\n",
        "  if r ==0 or r == n:\n",
        "    return 1\n",
        "  else:\n",
        "    return combi(n-1,r) + combi(n-1, r-1)\n",
        "\n",
        "n,r = map(int,input().split())\n",
        "combi(n,r)"
      ],
      "metadata": {
        "colab": {
          "base_uri": "https://localhost:8080/"
        },
        "id": "-ojTwNbkk-nG",
        "outputId": "6123c10b-0a4a-4e42-f6e3-2e49325db28b"
      },
      "execution_count": null,
      "outputs": [
        {
          "name": "stdout",
          "output_type": "stream",
          "text": [
            "10 3\n"
          ]
        }
      ]
    }
  ]
}