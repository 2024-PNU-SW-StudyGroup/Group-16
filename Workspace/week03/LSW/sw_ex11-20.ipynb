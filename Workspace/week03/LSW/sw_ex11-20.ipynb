{
 "cells": [
  {
   "cell_type": "markdown",
   "metadata": {},
   "source": [
    "# 11\n",
    "소수 구하기 (에라토스테네스의 체)"
   ]
  },
  {
   "cell_type": "code",
   "execution_count": 28,
   "metadata": {},
   "outputs": [
    {
     "name": "stdout",
     "output_type": "stream",
     "text": [
      "[2, 3, 5, 7, 11, 13, 17, 19, 23, 29, 31, 37, 41, 43, 47, 53, 59, 61, 67, 71, 73, 79, 83, 89, 97]\n"
     ]
    }
   ],
   "source": [
    "# 내맘대로 만든 코드\n",
    "numList = [i for i in range(2,101)]\n",
    "def delComp(n):\n",
    "    c = 2\n",
    "    while n*c <= 100:\n",
    "        if n*c in numList:\n",
    "            numList.remove(n*c)\n",
    "        c+=1\n",
    "for j in numList:\n",
    "    delComp(j)\n",
    "print(numList)"
   ]
  },
  {
   "cell_type": "markdown",
   "metadata": {},
   "source": [
    "# 12\n",
    "약수의 합 출력하기"
   ]
  },
  {
   "cell_type": "code",
   "execution_count": 30,
   "metadata": {},
   "outputs": [
    {
     "name": "stdout",
     "output_type": "stream",
     "text": [
      "15\n"
     ]
    }
   ],
   "source": [
    "# 조건 1 : 주어진 숫자 n의 약수에는 1과 자기자신을 포함\n",
    "# 조건 2 : 약수를 구할 때마다 하나의 변수에 더하여 저장\n",
    "import math as m\n",
    "n = int(input())\n",
    "result = 0\n",
    "c = 1\n",
    "while c <= m.sqrt(n):\n",
    "    if c**2==n:\n",
    "        result += c\n",
    "    elif n%c==0:\n",
    "        result += c+(n//c)\n",
    "    c+=1\n",
    "print(result)\n",
    "\n"
   ]
  },
  {
   "cell_type": "markdown",
   "metadata": {},
   "source": [
    "# 13\n",
    "반복문을 사용하여 최대공약수 구하기"
   ]
  },
  {
   "cell_type": "code",
   "execution_count": 26,
   "metadata": {},
   "outputs": [
    {
     "name": "stdout",
     "output_type": "stream",
     "text": [
      "48\n"
     ]
    }
   ],
   "source": [
    "# 유클리드 호제법 사용할 것.\n",
    "# a = b * q + r\n",
    "#     b =     r * q' + r'\n",
    "n1, n2 = map(int, input().split())          # 교재 예시 입력값은 192 72\n",
    "a = max(n1, n2)\n",
    "b = min(n1, n2)\n",
    "while a % b != 0:\n",
    "    v = a           # v 는 임시변수\n",
    "    a = b\n",
    "    b = v % b\n",
    "\n",
    "print(a)"
   ]
  },
  {
   "cell_type": "markdown",
   "metadata": {},
   "source": [
    "# 14\n",
    "재귀 호출을 사용하여 최대공약수 구하기"
   ]
  },
  {
   "cell_type": "code",
   "execution_count": 27,
   "metadata": {},
   "outputs": [
    {
     "name": "stdout",
     "output_type": "stream",
     "text": [
      "48\n"
     ]
    }
   ],
   "source": [
    "def recursiveGCD(a, b):\n",
    "    v = a           # v 는 임시변수\n",
    "    if a % b == 0:\n",
    "        print(a)\n",
    "        return\n",
    "    else:\n",
    "        a = b\n",
    "        b = v % b\n",
    "        recursiveGCD(a,b)\n",
    "\n",
    "inp1, inp2 = map(int, input().split())\n",
    "recursiveGCD(inp1, inp2)          # 교재 예시 입력값은 192 72"
   ]
  },
  {
   "cell_type": "markdown",
   "metadata": {},
   "source": [
    "# 15\n",
    "소인수분해 구하기"
   ]
  },
  {
   "cell_type": "code",
   "execution_count": 5,
   "metadata": {},
   "outputs": [
    {
     "name": "stdout",
     "output_type": "stream",
     "text": [
      "[2, 2, 2, 3]\n"
     ]
    }
   ],
   "source": [
    "# 조건 1 : 주어진 숫자 n이 i로 나누어지면 해당 i는 n의 인수에 해당하면 n/=i 로 저장하여 이 과정을 반복\n",
    "# 조건 2 : 반복문을 간단하게 하기 위해 무한루프를 사용\n",
    "pfs = []           # 소인수 리스트\n",
    "n = int(input())\n",
    "c = 2\n",
    "while 1:\n",
    "    if n == c:\n",
    "        pfs.append(c)\n",
    "        break\n",
    "    elif n%c==0:\n",
    "        pfs.append(c)\n",
    "        n//=c\n",
    "    else:\n",
    "        c+=1\n",
    "print(pfs)"
   ]
  },
  {
   "cell_type": "markdown",
   "metadata": {},
   "source": [
    "# 16\n",
    "최소공배수 구하기"
   ]
  },
  {
   "cell_type": "code",
   "execution_count": 7,
   "metadata": {},
   "outputs": [
    {
     "name": "stdout",
     "output_type": "stream",
     "text": [
      "576\n"
     ]
    }
   ],
   "source": [
    "n1, n2 = map(int,input().split())\n",
    "i=1\n",
    "while not((i%n1==0)and(i%n2==0)):\n",
    "    i +=1\n",
    "print(i)"
   ]
  },
  {
   "cell_type": "markdown",
   "metadata": {},
   "source": [
    "# 17\n",
    "배열 채우기(1)"
   ]
  },
  {
   "cell_type": "code",
   "execution_count": 17,
   "metadata": {},
   "outputs": [
    {
     "name": "stdout",
     "output_type": "stream",
     "text": [
      "[1, 1, 2, 3, 5, 8, 13, 21, 34, 55, 89, 144, 233, 377, 610, 987, 1597, 2584, 4181, 6765, 10946, 17711, 28657, 46368, 75025, 121393, 196418, 317811, 514229, 832040, 1346269, 2178309, 3524578, 5702887, 9227465, 14930352, 24157817, 39088169, 63245986, 102334155, 165580141, 267914296, 433494437, 701408733, 1134903170, 1836311903, 2971215073, 4807526976, 7778742049, 12586269025, 20365011074, 32951280099, 53316291173, 86267571272, 139583862445, 225851433717, 365435296162, 591286729879, 956722026041, 1548008755920, 2504730781961, 4052739537881, 6557470319842, 10610209857723, 17167680177565, 27777890035288, 44945570212853, 72723460248141, 117669030460994, 190392490709135, 308061521170129, 498454011879264, 806515533049393, 1304969544928657, 2111485077978050, 3416454622906707, 5527939700884757, 8944394323791464, 14472334024676221, 23416728348467685, 37889062373143906, 61305790721611591, 99194853094755497, 160500643816367088, 259695496911122585, 420196140727489673, 679891637638612258, 1100087778366101931, 1779979416004714189, 2880067194370816120, 4660046610375530309, 7540113804746346429, 12200160415121876738, 19740274219868223167, 31940434634990099905, 51680708854858323072, 83621143489848422977, 135301852344706746049, 218922995834555169026, 354224848179261915075]\n"
     ]
    }
   ],
   "source": [
    "add = [1] * 100\n",
    "for i in range(98):\n",
    "    add[i+2] = add[i] + add[i+1]\n",
    "print(add)"
   ]
  },
  {
   "cell_type": "markdown",
   "metadata": {},
   "source": [
    "# 18\n",
    "배열 채우기(2)"
   ]
  },
  {
   "cell_type": "code",
   "execution_count": 18,
   "metadata": {},
   "outputs": [
    {
     "name": "stdout",
     "output_type": "stream",
     "text": [
      "0\n",
      "1\n",
      "2\n",
      "2\n",
      "3\n",
      "3\n",
      "3\n",
      "3\n",
      "4\n",
      "4\n",
      "4\n",
      "4\n",
      "4\n",
      "4\n",
      "4\n",
      "4\n",
      "5\n",
      "5\n",
      "5\n",
      "5\n",
      "5\n",
      "5\n",
      "5\n",
      "5\n",
      "5\n",
      "5\n",
      "5\n",
      "5\n",
      "5\n",
      "5\n",
      "5\n",
      "5\n",
      "6\n",
      "6\n",
      "6\n",
      "6\n",
      "6\n",
      "6\n",
      "6\n",
      "6\n",
      "6\n",
      "6\n",
      "6\n",
      "6\n",
      "6\n",
      "6\n",
      "6\n",
      "6\n",
      "6\n",
      "6\n",
      "6\n",
      "6\n",
      "6\n",
      "6\n",
      "6\n",
      "6\n",
      "6\n",
      "6\n",
      "6\n",
      "6\n",
      "6\n",
      "6\n",
      "6\n",
      "6\n",
      "7\n",
      "7\n",
      "7\n",
      "7\n",
      "7\n",
      "7\n",
      "7\n",
      "7\n",
      "7\n",
      "7\n",
      "7\n",
      "7\n",
      "7\n",
      "7\n",
      "7\n",
      "7\n",
      "7\n",
      "7\n",
      "7\n",
      "7\n",
      "7\n",
      "7\n",
      "7\n",
      "7\n",
      "7\n",
      "7\n",
      "7\n",
      "7\n",
      "7\n",
      "7\n",
      "7\n",
      "7\n",
      "7\n",
      "7\n",
      "7\n",
      "7\n",
      "7\n"
     ]
    }
   ],
   "source": [
    "a = [0]*101\n",
    "a[1] = 1\n",
    "i = 2\n",
    "while i <= 100:\n",
    "    a[i]=a[i//2]+1\n",
    "    i+=1\n",
    "for i in range(101):\n",
    "    print(a[i])"
   ]
  },
  {
   "cell_type": "markdown",
   "metadata": {},
   "source": [
    "# 19\n",
    "반복문을 사용하여 조합(C(n,r)) 구하기"
   ]
  },
  {
   "cell_type": "code",
   "execution_count": 20,
   "metadata": {},
   "outputs": [
    {
     "name": "stdout",
     "output_type": "stream",
     "text": [
      "20\n"
     ]
    }
   ],
   "source": [
    "#그냥 math 모듈 가동\n",
    "import math as m\n",
    "def comb(n,r) :\n",
    "    return int(m.factorial(n)/m.factorial(r)/m.factorial(n-r))\n",
    "print(comb(6,3))"
   ]
  },
  {
   "cell_type": "markdown",
   "metadata": {},
   "source": [
    "##### jsw)\n",
    "喝!!!"
   ]
  },
  {
   "cell_type": "code",
   "execution_count": 25,
   "metadata": {},
   "outputs": [
    {
     "name": "stdout",
     "output_type": "stream",
     "text": [
      "20\n"
     ]
    }
   ],
   "source": [
    "n, r = map(int, input().split())\n",
    "comb = 1\n",
    "for i in range(n,n-r,-1):\n",
    "    comb*=i\n",
    "for i in range(1,r+1):\n",
    "    comb//=i\n",
    "print(comb)"
   ]
  },
  {
   "cell_type": "markdown",
   "metadata": {},
   "source": [
    "# 20\n",
    "재귀 호출을 사용하여 조합(C(n,r))구하기"
   ]
  },
  {
   "cell_type": "code",
   "execution_count": 26,
   "metadata": {},
   "outputs": [
    {
     "name": "stdout",
     "output_type": "stream",
     "text": [
      "C(0, 0) = 1\n",
      "C(1, 0) = 1\n",
      "C(1, 1) = 1\n",
      "C(2, 0) = 1\n",
      "C(2, 1) = 2\n",
      "C(2, 2) = 1\n",
      "C(3, 0) = 1\n",
      "C(3, 1) = 3\n",
      "C(3, 2) = 3\n",
      "C(3, 3) = 1\n",
      "C(4, 0) = 1\n",
      "C(4, 1) = 4\n",
      "C(4, 2) = 6\n",
      "C(4, 3) = 4\n",
      "C(4, 4) = 1\n",
      "C(5, 0) = 1\n",
      "C(5, 1) = 5\n",
      "C(5, 2) = 10\n",
      "C(5, 3) = 10\n",
      "C(5, 4) = 5\n",
      "C(5, 5) = 1\n"
     ]
    }
   ],
   "source": [
    "def comb(n,r):\n",
    "    if r==0 or r==n:\n",
    "        return 1\n",
    "    else:\n",
    "        return comb(n-1,r)+comb(n-1, r-1)\n",
    "\n",
    "for n in range(6):\n",
    "        for r in range(n+1):\n",
    "            print(f\"C({n}, {r}) = {comb(n, r)}\")"
   ]
  }
 ],
 "metadata": {
  "kernelspec": {
   "display_name": "Python 3",
   "language": "python",
   "name": "python3"
  },
  "language_info": {
   "codemirror_mode": {
    "name": "ipython",
    "version": 3
   },
   "file_extension": ".py",
   "mimetype": "text/x-python",
   "name": "python",
   "nbconvert_exporter": "python",
   "pygments_lexer": "ipython3",
   "version": "3.12.0"
  }
 },
 "nbformat": 4,
 "nbformat_minor": 2
}
