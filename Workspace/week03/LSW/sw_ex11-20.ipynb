{
 "cells": [
  {
   "cell_type": "markdown",
   "metadata": {},
   "source": [
    "# 11\n",
    "소수 구하기 (에라토스테네스의 체)"
   ]
  },
  {
   "cell_type": "code",
   "execution_count": 28,
   "metadata": {},
   "outputs": [
    {
     "name": "stdout",
     "output_type": "stream",
     "text": [
      "[2, 3, 5, 7, 11, 13, 17, 19, 23, 29, 31, 37, 41, 43, 47, 53, 59, 61, 67, 71, 73, 79, 83, 89, 97]\n"
     ]
    }
   ],
   "source": [
    "# 내맘대로 만든 코드\n",
    "numList = [i for i in range(2,101)]\n",
    "def delComp(n):\n",
    "    c = 2\n",
    "    while n*c <= 100:\n",
    "        if n*c in numList:\n",
    "            numList.remove(n*c)\n",
    "        c+=1\n",
    "for j in numList:\n",
    "    delComp(j)\n",
    "print(numList)"
   ]
  },
  {
   "cell_type": "markdown",
   "metadata": {},
   "source": [
    "# 12\n",
    "약수의 합 출력하기"
   ]
  },
  {
   "cell_type": "code",
   "execution_count": 30,
   "metadata": {},
   "outputs": [
    {
     "name": "stdout",
     "output_type": "stream",
     "text": [
      "15\n"
     ]
    }
   ],
   "source": [
    "# 조건 1 : 주어진 숫자 n의 약수에는 1과 자기자신을 포함\n",
    "# 조건 2 : 약수를 구할 때마다 하나의 변수에 더하여 저장\n",
    "import math as m\n",
    "n = int(input())\n",
    "result = 0\n",
    "c = 1\n",
    "while c <= m.sqrt(n):\n",
    "    if c**2==n:\n",
    "        result += c\n",
    "    elif n%c==0:\n",
    "        result += c+(n//c)\n",
    "    c+=1\n",
    "print(result)\n",
    "\n"
   ]
  },
  {
   "cell_type": "markdown",
   "metadata": {},
   "source": [
    "# 13\n",
    "반복문을 사용하여 최대공약수 구하기"
   ]
  },
  {
   "cell_type": "code",
   "execution_count": 26,
   "metadata": {},
   "outputs": [
    {
     "name": "stdout",
     "output_type": "stream",
     "text": [
      "48\n"
     ]
    }
   ],
   "source": [
    "# 유클리드 호제법 사용할 것.\n",
    "# a = b * q + r\n",
    "#     b =     r * q' + r'\n",
    "n1, n2 = map(int, input().split())          # 교재 예시 입력값은 192 72\n",
    "a = max(n1, n2)\n",
    "b = min(n1, n2)\n",
    "while a % b != 0:\n",
    "    v = a           # v 는 임시변수\n",
    "    a = b\n",
    "    b = v % b\n",
    "\n",
    "print(a)"
   ]
  },
  {
   "cell_type": "markdown",
   "metadata": {},
   "source": [
    "# 14\n",
    "재귀 호출을 사용하여 최대공약수 구하기"
   ]
  },
  {
   "cell_type": "code",
   "execution_count": 27,
   "metadata": {},
   "outputs": [
    {
     "name": "stdout",
     "output_type": "stream",
     "text": [
      "48\n"
     ]
    }
   ],
   "source": [
    "def recursiveGCD(a, b):\n",
    "    v = a           # v 는 임시변수\n",
    "    if a % b == 0:\n",
    "        print(a)\n",
    "        return\n",
    "    else:\n",
    "        a = b\n",
    "        b = v % b\n",
    "        recursiveGCD(a,b)\n",
    "\n",
    "inp1, inp2 = map(int, input().split())\n",
    "recursiveGCD(inp1, inp2)          # 교재 예시 입력값은 192 72"
   ]
  },
  {
   "cell_type": "markdown",
   "metadata": {},
   "source": [
    "# 15\n",
    "소인수분해 구하기"
   ]
  },
  {
   "cell_type": "code",
   "execution_count": null,
   "metadata": {},
   "outputs": [],
   "source": [
    "# 조건 1 : 주어진 숫자 n이 i로 나누어지면 해당 i는 n의 인수에 해당하면 n/=i 로 저장하여 이 과정을 반복\n",
    "# 조건 2 : 반복문을 간단하게 하기 위해 무한루프를 사용\n"
   ]
  }
 ],
 "metadata": {
  "kernelspec": {
   "display_name": "Python 3",
   "language": "python",
   "name": "python3"
  },
  "language_info": {
   "codemirror_mode": {
    "name": "ipython",
    "version": 3
   },
   "file_extension": ".py",
   "mimetype": "text/x-python",
   "name": "python",
   "nbconvert_exporter": "python",
   "pygments_lexer": "ipython3",
   "version": "3.12.0"
  }
 },
 "nbformat": 4,
 "nbformat_minor": 2
}
