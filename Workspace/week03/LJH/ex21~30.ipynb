{
  "nbformat": 4,
  "nbformat_minor": 0,
  "metadata": {
    "colab": {
      "provenance": []
    },
    "kernelspec": {
      "name": "python3",
      "display_name": "Python 3"
    },
    "language_info": {
      "name": "python"
    }
  },
  "cells": [
    {
      "cell_type": "code",
      "execution_count": null,
      "metadata": {
        "colab": {
          "base_uri": "https://localhost:8080/"
        },
        "id": "qAges5jwFQ-U",
        "outputId": "c0cbeef2-bee9-4578-b3a7-cb33f09cadb4"
      },
      "outputs": [
        {
          "name": "stdout",
          "output_type": "stream",
          "text": [
            "10 3\n"
          ]
        },
        {
          "output_type": "execute_result",
          "data": {
            "text/plain": [
              "120"
            ]
          },
          "metadata": {},
          "execution_count": 2
        }
      ],
      "source": [
        "#ex_021\n",
        "def combi(n,r):\n",
        "  if n == r or r == 0:\n",
        "    return 1\n",
        "  else:\n",
        "    return int(combi(n,r-1)*(n-r+1)/r)\n",
        "\n",
        "n,r = map(int,input().split())\n",
        "combi(n,r)"
      ]
    },
    {
      "cell_type": "code",
      "source": [
        "#ex_022\n",
        "def tile(n):\n",
        "  if n <= 1:\n",
        "    return 1\n",
        "  else:\n",
        "    return tile(n-1) + 2*tile(n-2)\n",
        "\n",
        "n = int(input())\n",
        "tile(n)"
      ],
      "metadata": {
        "colab": {
          "base_uri": "https://localhost:8080/"
        },
        "id": "mbB7vf0qIXxv",
        "outputId": "f7a988a6-40fe-4182-b89c-e81134c53420"
      },
      "execution_count": null,
      "outputs": [
        {
          "name": "stdout",
          "output_type": "stream",
          "text": [
            "3\n"
          ]
        },
        {
          "output_type": "execute_result",
          "data": {
            "text/plain": [
              "5"
            ]
          },
          "metadata": {},
          "execution_count": 3
        }
      ]
    },
    {
      "cell_type": "code",
      "source": [
        "#ex_023\n",
        "def dif(a,b):\n",
        "  if a>b:\n",
        "    return int(a-b)\n",
        "  elif a<b:\n",
        "    return int(b-a)\n",
        "  else:\n",
        "    return 0\n",
        "\n",
        "a,b = map(int, input().split())\n",
        "dif(a,b)"
      ],
      "metadata": {
        "colab": {
          "base_uri": "https://localhost:8080/"
        },
        "id": "08EGdXnxQIsP",
        "outputId": "9f87624a-bef8-455a-c11c-0e98747b7a0b"
      },
      "execution_count": null,
      "outputs": [
        {
          "name": "stdout",
          "output_type": "stream",
          "text": [
            "50 60\n"
          ]
        },
        {
          "output_type": "execute_result",
          "data": {
            "text/plain": [
              "10"
            ]
          },
          "metadata": {},
          "execution_count": 5
        }
      ]
    },
    {
      "cell_type": "code",
      "source": [
        "#ex_024\n",
        "score = list(map(int,input().split()))\n",
        "rank = []\n",
        "for i in score:\n",
        "  rank.append(i//10)\n",
        "\n",
        "for i in range(11):\n",
        "  print(f'{i}점대: {rank.count(i)}명')"
      ],
      "metadata": {
        "colab": {
          "base_uri": "https://localhost:8080/"
        },
        "id": "jqyfe-W5QuqQ",
        "outputId": "0d6ee7f8-2814-47d1-fcf0-96686265a62b"
      },
      "execution_count": null,
      "outputs": [
        {
          "output_type": "stream",
          "name": "stdout",
          "text": [
            "5 15 25 35 45 55 65 75 85 95 100\n",
            "0점대: 1명\n",
            "1점대: 1명\n",
            "2점대: 1명\n",
            "3점대: 1명\n",
            "4점대: 1명\n",
            "5점대: 1명\n",
            "6점대: 1명\n",
            "7점대: 1명\n",
            "8점대: 1명\n",
            "9점대: 1명\n",
            "10점대: 1명\n"
          ]
        }
      ]
    },
    {
      "cell_type": "code",
      "source": [
        "#ex_025\n",
        "score = list(map(int,input().split()))\n",
        "score.sort()\n",
        "score.reverse()\n",
        "for i in score:\n",
        "  print(f'{i}점: {score.index(i)+1}등')"
      ],
      "metadata": {
        "colab": {
          "base_uri": "https://localhost:8080/"
        },
        "id": "Fuvv06cMTU4D",
        "outputId": "97b0ad58-0d70-423e-8abf-7e4fef9279d0"
      },
      "execution_count": null,
      "outputs": [
        {
          "output_type": "stream",
          "name": "stdout",
          "text": [
            "100 20 75 41 16 45\n",
            "100점: 1등\n",
            "75점: 2등\n",
            "45점: 3등\n",
            "41점: 4등\n",
            "20점: 5등\n",
            "16점: 6등\n"
          ]
        }
      ]
    },
    {
      "cell_type": "code",
      "source": [
        "#ex_026\n",
        "sipjinsu = int(input())\n",
        "sipyukjinsu = hex(sipjinsu)\n",
        "sipyukjinsu"
      ],
      "metadata": {
        "colab": {
          "base_uri": "https://localhost:8080/",
          "height": 53
        },
        "id": "2YGkTm4UcSL_",
        "outputId": "bf16931e-3c26-4a99-d7e3-8133f75807b0"
      },
      "execution_count": null,
      "outputs": [
        {
          "name": "stdout",
          "output_type": "stream",
          "text": [
            "60\n"
          ]
        },
        {
          "output_type": "execute_result",
          "data": {
            "text/plain": [
              "'0x3c'"
            ],
            "application/vnd.google.colaboratory.intrinsic+json": {
              "type": "string"
            }
          },
          "metadata": {},
          "execution_count": 27
        }
      ]
    },
    {
      "cell_type": "code",
      "source": [
        "#ex_027\n",
        "def fact(n):\n",
        "  x = 1\n",
        "  i = n\n",
        "  while i > 0:\n",
        "    x *= i\n",
        "    i-= 1\n",
        "  return x\n",
        "\n",
        "n = int(input())\n",
        "fact(n)"
      ],
      "metadata": {
        "id": "1gfWgHhRkaRv",
        "colab": {
          "base_uri": "https://localhost:8080/"
        },
        "outputId": "d38138f7-ad77-4cee-b4fb-7e1e6ba8ef40"
      },
      "execution_count": null,
      "outputs": [
        {
          "name": "stdout",
          "output_type": "stream",
          "text": [
            "4\n"
          ]
        },
        {
          "output_type": "execute_result",
          "data": {
            "text/plain": [
              "24"
            ]
          },
          "metadata": {},
          "execution_count": 5
        }
      ]
    },
    {
      "cell_type": "code",
      "source": [
        "#ex_028\n",
        "def fact(n):\n",
        "  if n == 0:\n",
        "    return 1\n",
        "  else:\n",
        "    return n*fact(n-1)\n",
        "\n",
        "n = int(input())\n",
        "fact(n)"
      ],
      "metadata": {
        "colab": {
          "base_uri": "https://localhost:8080/"
        },
        "id": "jR1l5hg3WUdQ",
        "outputId": "7539d6f7-7a15-466f-8241-e0095d10db86"
      },
      "execution_count": null,
      "outputs": [
        {
          "name": "stdout",
          "output_type": "stream",
          "text": [
            "5\n"
          ]
        },
        {
          "output_type": "execute_result",
          "data": {
            "text/plain": [
              "120"
            ]
          },
          "metadata": {},
          "execution_count": 6
        }
      ]
    },
    {
      "cell_type": "code",
      "source": [
        "#ex_029\n",
        "def hanoi(n,a,b,c):\n",
        "  if n > 0:\n",
        "    hanoi(n-1,a,c,b)\n",
        "    print(f'{n}번 원반을 {a}에서 {b}로 옮김')\n",
        "    hanoi(n-1,c,b,a)\n",
        "\n",
        "n = int(input())\n",
        "hanoi(n,'a','b','c')"
      ],
      "metadata": {
        "colab": {
          "base_uri": "https://localhost:8080/"
        },
        "id": "82lTpHO9W0lq",
        "outputId": "26da45d7-337e-4469-a293-4a0aba963ded"
      },
      "execution_count": null,
      "outputs": [
        {
          "output_type": "stream",
          "name": "stdout",
          "text": [
            "3\n",
            "1번 원반을 a에서 b로 옮김\n",
            "2번 원반을 a에서 c로 옮김\n",
            "1번 원반을 b에서 c로 옮김\n",
            "3번 원반을 a에서 b로 옮김\n",
            "1번 원반을 c에서 a로 옮김\n",
            "2번 원반을 c에서 b로 옮김\n",
            "1번 원반을 a에서 b로 옮김\n"
          ]
        }
      ]
    },
    {
      "cell_type": "code",
      "source": [
        "#ex_030\n",
        "def tree(f,s):\n",
        "  if f==s:\n",
        "    return 0\n",
        "  if f < s:\n",
        "    return tree(f,s//2)+1\n",
        "  if f > s:\n",
        "    return tree(f//2,s)+1\n",
        "\n",
        "f,s = map(int,input().split())\n",
        "tree(f,s)"
      ],
      "metadata": {
        "colab": {
          "base_uri": "https://localhost:8080/"
        },
        "id": "LANAmobfo9O5",
        "outputId": "124b966a-817c-4b59-c94f-880109eba706"
      },
      "execution_count": null,
      "outputs": [
        {
          "name": "stdout",
          "output_type": "stream",
          "text": [
            "4 3\n"
          ]
        },
        {
          "output_type": "execute_result",
          "data": {
            "text/plain": [
              "3"
            ]
          },
          "metadata": {},
          "execution_count": 15
        }
      ]
    },
    {
      "cell_type": "code",
      "source": [
        "#ex_030 (다른 풀이)\n",
        "def tree(f,s):\n",
        "  if f == s :\n",
        "    return 0\n",
        "  if f or s == 1:\n",
        "    return p*2\n",
        "  while f and s > 0:\n",
        "    if f < s :\n",
        "      if f//2 == 0:\n",
        "        p += 1\n",
        "        tree(f/2,s)\n",
        "        return p\n",
        "      else:\n",
        "        p += 1\n",
        "        tree((f-1)/2,s)\n",
        "        return p\n",
        "    if f > s :\n",
        "      if s//2 == 0:\n",
        "        p += 1\n",
        "        tree(f,s/2)\n",
        "        return p\n",
        "      else:\n",
        "        p += 1\n",
        "        tree(f,(s-1)/2)\n",
        "        return p\n",
        "\n",
        "f,s = map(int,input().split())\n",
        "p = 0\n",
        "tree(f,s)"
      ],
      "metadata": {
        "colab": {
          "base_uri": "https://localhost:8080/"
        },
        "id": "g6gNA_JshAay",
        "outputId": "6d099a81-063e-4711-8554-f8ca9124b190"
      },
      "execution_count": null,
      "outputs": [
        {
          "name": "stdout",
          "output_type": "stream",
          "text": [
            "4 4\n"
          ]
        },
        {
          "output_type": "execute_result",
          "data": {
            "text/plain": [
              "0"
            ]
          },
          "metadata": {},
          "execution_count": 12
        }
      ]
    }
  ]
}