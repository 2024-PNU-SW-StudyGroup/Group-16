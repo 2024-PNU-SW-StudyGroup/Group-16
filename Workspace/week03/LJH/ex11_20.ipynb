{
  "cells": [
    {
      "cell_type": "code",
      "execution_count": 1,
      "metadata": {
        "colab": {
          "base_uri": "https://localhost:8080/"
        },
        "id": "wPhanBGD7Dbz",
        "outputId": "c003613e-de11-43f9-e446-0d67ce62e7ec"
      },
      "outputs": [
        {
          "name": "stdout",
          "output_type": "stream",
          "text": [
            "2\n",
            "3\n",
            "5\n",
            "7\n",
            "11\n",
            "13\n",
            "17\n",
            "19\n",
            "23\n",
            "29\n",
            "31\n",
            "37\n",
            "41\n",
            "43\n",
            "47\n",
            "53\n",
            "59\n",
            "61\n",
            "67\n",
            "71\n",
            "73\n",
            "79\n",
            "83\n",
            "89\n",
            "97\n"
          ]
        }
      ],
      "source": [
        "#ex_011\n",
        "N = 100\n",
        "import math\n",
        "sotssu = [True for i in range(N+1)]\n",
        "sotssu[0] = False\n",
        "\n",
        "for i in range(2, int(math.sqrt(N)+1)):\n",
        "  if sotssu[i] == True:\n",
        "    j = 2\n",
        "    while i*j <= N:\n",
        "      sotssu[i*j] = False\n",
        "      j += 1\n",
        "for i in range(2, N):\n",
        "  if sotssu[i]:\n",
        "    print(i)"
      ]
    },
    {
      "cell_type": "markdown",
      "metadata": {},
      "source": [
        "##### jsw)\n",
        "math.sqrt(N) 대신에 N**0.5도 사용할 수 있습니다."
      ]
    },
    {
      "cell_type": "code",
      "execution_count": null,
      "metadata": {
        "colab": {
          "base_uri": "https://localhost:8080/"
        },
        "id": "cPPp2GxpEW2n",
        "outputId": "03041ef8-bfee-48b1-829d-46944af24edc"
      },
      "outputs": [
        {
          "name": "stdout",
          "output_type": "stream",
          "text": [
            "8\n",
            "15\n"
          ]
        }
      ],
      "source": [
        "#ex_012\n",
        "ylist = []\n",
        "a = 0\n",
        "def yakssu(n):\n",
        "  global a\n",
        "  c = 2\n",
        "  while c*c <= n:\n",
        "    if n%c == 0:\n",
        "      ylist.append(c)\n",
        "      if c*c == n:\n",
        "        break\n",
        "      ylist.append(n//c)\n",
        "    c += 1\n",
        "  ylist.append(1)\n",
        "  ylist.append(n)\n",
        "  for i in ylist:\n",
        "    a += i\n",
        "  print(a)\n",
        "n = int(input())\n",
        "yakssu(n)"
      ]
    },
    {
      "cell_type": "markdown",
      "metadata": {},
      "source": [
        "lsw)\n",
        "ylist.append() 대신 ylist.extend([1,n]) 식으로 줄여쓸 수 있습니다.\n",
        "1, n 을 예외로 처리한 게 조금 의도와 맞지 않네요. 흑수저 이지환님은 '보류' 입니다.\n",
        "\n",
        "##### jsw)\n",
        "ㄴ extend 까먹었었는데 감사합니다."
      ]
    },
    {
      "cell_type": "code",
      "execution_count": null,
      "metadata": {
        "colab": {
          "base_uri": "https://localhost:8080/"
        },
        "id": "71d2iMPxEW1T",
        "outputId": "f1b840d5-e9e0-4422-a3fa-e6d0cedd3ffa"
      },
      "outputs": [
        {
          "name": "stdout",
          "output_type": "stream",
          "text": [
            "192 72\n",
            "24\n"
          ]
        }
      ],
      "source": [
        "#ex_013\n",
        "def yakssu(a,b):\n",
        "  while b >0:\n",
        "    c = a%b\n",
        "    if c != 0:\n",
        "      a = b\n",
        "      b = c\n",
        "    else:\n",
        "      break\n",
        "  print(b)\n",
        "\n",
        "a,b = map(int,input().split())\n",
        "yakssu(a,b)\n"
      ]
    },
    {
      "cell_type": "code",
      "execution_count": 8,
      "metadata": {
        "colab": {
          "base_uri": "https://localhost:8080/"
        },
        "id": "7xuPpva8EWyK",
        "outputId": "6860c04c-2f9b-416c-e196-32a39ea01590"
      },
      "outputs": [
        {
          "name": "stdout",
          "output_type": "stream",
          "text": [
            "192 72\n",
            "24\n"
          ]
        }
      ],
      "source": [
        "#ex_014\n",
        "def yakssu(a,b):\n",
        "  if a%b != 0:\n",
        "    yakssu(b,a%b)\n",
        "  else:\n",
        "    return print(b)\n",
        "\n",
        "a,b = map(int,input().split())\n",
        "yakssu(a,b)"
      ]
    },
    {
      "cell_type": "code",
      "execution_count": 6,
      "metadata": {
        "colab": {
          "base_uri": "https://localhost:8080/"
        },
        "id": "eG8hiLAvEWuz",
        "outputId": "bdc4f94e-90c6-4ed8-d5e2-e810259f5e18"
      },
      "outputs": [
        {
          "name": "stdout",
          "output_type": "stream",
          "text": [
            "24\n",
            "2\n",
            "2\n",
            "2\n",
            "3\n"
          ]
        }
      ],
      "source": [
        "#ex_015\n",
        "i = 2\n",
        "def soinsu(n):\n",
        "  global i\n",
        "  while i <= n:\n",
        "    while 1:\n",
        "      if n%i == 0:\n",
        "        print(i)\n",
        "        n = n//i\n",
        "      else:\n",
        "        break\n",
        "    i += 1\n",
        "\n",
        "n = int(input())\n",
        "soinsu(n)"
      ]
    },
    {
      "cell_type": "markdown",
      "metadata": {},
      "source": [
        "lsw) \n",
        "global 사용이 너무 잦습니다.\n",
        "대 컴퓨터공학과 '김태연' 교수님께서, global 함수, 그리고 전역변수의 사용은 자제하라고 하셨습니다.\n",
        "그리고 while 문 내부에 while 문 하나 더 쓴 것, 굉장히 위험합니다.\n",
        "앞치마를 벗고 마스터셰프코리아를 떠나주세요.\n",
        "\n",
        "##### jsw)\n",
        "global 볼 때마다 화가 나네요"
      ]
    },
    {
      "cell_type": "code",
      "execution_count": 13,
      "metadata": {
        "colab": {
          "base_uri": "https://localhost:8080/"
        },
        "id": "cby1B1B7fRbE",
        "outputId": "491eb998-7273-4395-a3df-58700994fe57"
      },
      "outputs": [
        {
          "name": "stdout",
          "output_type": "stream",
          "text": [
            "2 3\n",
            "6\n"
          ]
        }
      ],
      "source": [
        "#ex_016\n",
        "a,b = map(int, input().split())\n",
        "i = 2\n",
        "while i <= a*b:\n",
        "  if i%a == 0 and i%b == 0:\n",
        "    break\n",
        "  else:\n",
        "    i += 1\n",
        "print(i)"
      ]
    },
    {
      "cell_type": "code",
      "execution_count": null,
      "metadata": {
        "colab": {
          "base_uri": "https://localhost:8080/"
        },
        "id": "6iacBVcPEWp6",
        "outputId": "31d2bbea-4620-4f56-a73d-0d05c934ab88"
      },
      "outputs": [
        {
          "data": {
            "text/plain": [
              "[1, 1, 1, 2, 3, 5, 8, 13, 21, 34, 55]"
            ]
          },
          "execution_count": 83,
          "metadata": {},
          "output_type": "execute_result"
        }
      ],
      "source": [
        "#ex_017\n",
        "a =[1]*11\n",
        "for i in range(3,11):\n",
        "  a[i] = a[i-1] + a[i-2]\n",
        "  i += 1\n",
        "\n",
        "a"
      ]
    },
    {
      "cell_type": "code",
      "execution_count": null,
      "metadata": {
        "colab": {
          "base_uri": "https://localhost:8080/"
        },
        "id": "iYt7_5RFEWmr",
        "outputId": "533185e1-d711-426d-bb4c-b5ec7bb8817c"
      },
      "outputs": [
        {
          "data": {
            "text/plain": [
              "[1, 1, 2, 2, 3, 3, 3, 3, 4, 4, 4]"
            ]
          },
          "execution_count": 85,
          "metadata": {},
          "output_type": "execute_result"
        }
      ],
      "source": [
        "#ex_018\n",
        "a = [1]*11\n",
        "for i in range(2,11):\n",
        "  a[i] = a[i//2]+1\n",
        "  i += 1\n",
        "a"
      ]
    },
    {
      "cell_type": "code",
      "execution_count": null,
      "metadata": {
        "colab": {
          "base_uri": "https://localhost:8080/"
        },
        "id": "L1YZnVwak-ov",
        "outputId": "3e91b137-ee33-41dd-87a4-7377eaa4a2f2"
      },
      "outputs": [
        {
          "name": "stdout",
          "output_type": "stream",
          "text": [
            "10 3\n",
            "120.0\n"
          ]
        }
      ],
      "source": [
        "#ex_019\n",
        "n,r = map(int,input().split())\n",
        "n_result = 1\n",
        "r_result = 1\n",
        "nr_result = 1\n",
        "for i in range(1,n+1):\n",
        "  n_result *= i\n",
        "for i in range(1, r+1):\n",
        "  r_result *= i\n",
        "for i in range(1, n-r+1):\n",
        "  nr_result *= i\n",
        "\n",
        "outcome = n_result/(r_result * nr_result)\n",
        "outcome"
      ]
    },
    {
      "cell_type": "markdown",
      "metadata": {},
      "source": [
        "lsw)\n",
        "하... 출력값 형식 체크안합니까? 120.0 뭐죠?"
      ]
    },
    {
      "cell_type": "code",
      "execution_count": null,
      "metadata": {
        "colab": {
          "base_uri": "https://localhost:8080/"
        },
        "id": "-ojTwNbkk-nG",
        "outputId": "6123c10b-0a4a-4e42-f6e3-2e49325db28b"
      },
      "outputs": [
        {
          "name": "stdout",
          "output_type": "stream",
          "text": [
            "10 3\n"
          ]
        }
      ],
      "source": [
        "#ex_020\n",
        "def combi(n,r):\n",
        "  if r ==0 or r == n:\n",
        "    return 1\n",
        "  else:\n",
        "    return combi(n-1,r) + combi(n-1, r-1)\n",
        "\n",
        "n,r = map(int,input().split())\n",
        "combi(n,r)"
      ]
    }
  ],
  "metadata": {
    "colab": {
      "provenance": []
    },
    "kernelspec": {
      "display_name": "Python 3",
      "name": "python3"
    },
    "language_info": {
      "codemirror_mode": {
        "name": "ipython",
        "version": 3
      },
      "file_extension": ".py",
      "mimetype": "text/x-python",
      "name": "python",
      "nbconvert_exporter": "python",
      "pygments_lexer": "ipython3",
      "version": "3.12.0"
    }
  },
  "nbformat": 4,
  "nbformat_minor": 0
}
