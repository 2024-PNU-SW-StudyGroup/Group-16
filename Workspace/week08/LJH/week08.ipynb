{
 "cells": [
  {
   "cell_type": "code",
   "execution_count": null,
   "metadata": {},
   "outputs": [
    {
     "name": "stdout",
     "output_type": "stream",
     "text": [
      "-\n"
     ]
    }
   ],
   "source": [
    "#4779\n",
    "def k(n):\n",
    "    if n == 0:\n",
    "        return (3**n)*'-'\n",
    "    else:\n",
    "        return k(n-1) + ' '*(3**(n-1))+ k(n-1)\n",
    "while 1:  \n",
    "    try:\n",
    "        n = int(input())\n",
    "        print(k(n))\n",
    "    except EOFError:\n",
    "        break"
   ]
  },
  {
   "cell_type": "code",
   "execution_count": 44,
   "metadata": {},
   "outputs": [
    {
     "name": "stdout",
     "output_type": "stream",
     "text": [
      "66666\n"
     ]
    }
   ],
   "source": [
    "#1436\n",
    "n = int(input())\n",
    "cnt = 0\n",
    "num = 0\n",
    "while 1:\n",
    "    num += 1\n",
    "    if '666' in str(num):\n",
    "        cnt += 1\n",
    "    if cnt == n:\n",
    "        break\n",
    "print(num)"
   ]
  },
  {
   "cell_type": "code",
   "execution_count": null,
   "metadata": {},
   "outputs": [
    {
     "name": "stdout",
     "output_type": "stream",
     "text": [
      "0\n"
     ]
    }
   ],
   "source": [
    "#1676\n",
    "from math import factorial\n",
    "n = factorial(int(input()))\n",
    "f = str(n)[::-1]\n",
    "cnt = 0\n",
    "for i in f:\n",
    "    if i == '0':\n",
    "        cnt += 1\n",
    "    else:\n",
    "        break\n",
    "print(cnt)"
   ]
  },
  {
   "cell_type": "code",
   "execution_count": null,
   "metadata": {},
   "outputs": [
    {
     "name": "stdout",
     "output_type": "stream",
     "text": [
      "1\n",
      "2\n",
      "3\n",
      "4\n",
      "5\n"
     ]
    }
   ],
   "source": [
    "#2751\n",
    "import sys\n",
    "input = sys.stdin.readline\n",
    "n = int(input())\n",
    "print(*sorted([int(input()) for i in range(n)]), sep='\\n')"
   ]
  },
  {
   "cell_type": "code",
   "execution_count": 58,
   "metadata": {},
   "outputs": [
    {
     "name": "stdout",
     "output_type": "stream",
     "text": [
      "['20', 's']\n",
      "['21', 'd']\n",
      "['21', 'j']\n"
     ]
    }
   ],
   "source": [
    "#10814\n",
    "n = int(input())\n",
    "e = []\n",
    "for i in range(n):\n",
    "    a,b = input().split()\n",
    "    e.append([a,b])\n",
    "print(*sorted(e, key = lambda x: (x[0], x[1])), sep='\\n')"
   ]
  },
  {
   "cell_type": "code",
   "execution_count": null,
   "metadata": {},
   "outputs": [
    {
     "name": "stdout",
     "output_type": "stream",
     "text": [
      "1 -1\n",
      "1 1\n",
      "2 2\n",
      "3 3\n",
      "3 4\n"
     ]
    }
   ],
   "source": [
    "#11650\n",
    "#import sys\n",
    "#input = sys.stdin.readline\n",
    "N = int(input())\n",
    "l = []\n",
    "for i in range(N):\n",
    "    l.append(list(map(int,input().split())))\n",
    "l.sort(key=lambda x: (x[0], x[1]))\n",
    "for j in l:\n",
    "    print(*(j))"
   ]
  },
  {
   "cell_type": "code",
   "execution_count": null,
   "metadata": {},
   "outputs": [],
   "source": [
    "#11651\n",
    "#import sys\n",
    "#input = sys.stdin.readline\n",
    "N = int(input())\n",
    "l = [list(map(int,input().split())) for i in range(N)]\n",
    "l.sort(key=lambda x: (x[1], x[0]))\n",
    "for j in l:\n",
    "    print(*(j))"
   ]
  },
  {
   "cell_type": "code",
   "execution_count": null,
   "metadata": {},
   "outputs": [],
   "source": [
    "#7568\n",
    "#import sys\n",
    "#input = sys.stdin.readline\n",
    "\n",
    "n = int(input())\n",
    "l = [list(map(int,input().split())) for i in range(n)]\n",
    "for i in l:\n",
    "    rank = 1\n",
    "    for j in l:\n",
    "        if i[0]<j[0] and i[1]<j[1]:\n",
    "            rank += 1\n",
    "    print(rank, end=' ')"
   ]
  },
  {
   "cell_type": "code",
   "execution_count": 1,
   "metadata": {},
   "outputs": [
    {
     "name": "stdout",
     "output_type": "stream",
     "text": [
      "1\n",
      "1\n",
      "0\n",
      "0\n",
      "1\n"
     ]
    }
   ],
   "source": [
    "#1920\n",
    "N = int(input())\n",
    "A = set(list(map(int,input().split())))\n",
    "M = int(input())\n",
    "l = list(map(int,input().split()))\n",
    "\n",
    "for i in l:\n",
    "    if i in A:\n",
    "        print(1)\n",
    "    else:\n",
    "        print(0)"
   ]
  },
  {
   "cell_type": "code",
   "execution_count": null,
   "metadata": {},
   "outputs": [
    {
     "name": "stdout",
     "output_type": "stream",
     "text": [
      "6\n",
      "10\n"
     ]
    }
   ],
   "source": [
    "#2775\n",
    "T = int(input())\n",
    "for i in range(T):\n",
    "    k = int(input())\n",
    "    n = int(input())\n",
    "    people = [i for i in range(1,n+1)]\n",
    "\n",
    "    for X in range(k):\n",
    "        for Y in range(1,n):\n",
    "            people[Y] += people[Y-1]\n",
    "    print(people[-1])"
   ]
  },
  {
   "cell_type": "code",
   "execution_count": null,
   "metadata": {},
   "outputs": [
    {
     "name": "stdout",
     "output_type": "stream",
     "text": [
      "10\n"
     ]
    }
   ],
   "source": [
    "#11050\n",
    "from math import factorial\n",
    "n,r = map(int,input().split())\n",
    "print(int(factorial(n)/(factorial(r)*factorial(n-r))))"
   ]
  },
  {
   "cell_type": "code",
   "execution_count": 23,
   "metadata": {},
   "outputs": [
    {
     "name": "stdout",
     "output_type": "stream",
     "text": [
      "980806\n"
     ]
    }
   ],
   "source": [
    "def f(i):\n",
    "    if i%3 == 0 and i%5 == 0:\n",
    "        return 'FizzBuzz'\n",
    "    elif i%3 == 0 and i%5 != 0:\n",
    "        return 'Fizz'\n",
    "    elif i%3 != 0 and i%5 == 0:\n",
    "        return 'Buzz'\n",
    "    else:\n",
    "        return i\n",
    "    \n",
    "for j in range(3):\n",
    "    k = input()\n",
    "    if k not in ('Fizz', 'Buzz', 'FizzBuzz'):\n",
    "        i = int(k) + 3 - j\n",
    "\n",
    "print(f(i))"
   ]
  },
  {
   "cell_type": "code",
   "execution_count": null,
   "metadata": {},
   "outputs": [
    {
     "name": "stdout",
     "output_type": "stream",
     "text": [
      "4/1\n"
     ]
    }
   ],
   "source": [
    "def f(n):\n",
    "    d = 2\n",
    "    o = 1\n",
    "    while True:\n",
    "        if n <= o:\n",
    "            break\n",
    "        else:\n",
    "            o += d\n",
    "            d += 1\n",
    "    cnt = o\n",
    "    d -= 1\n",
    "    if d%2 == 0:\n",
    "        j = 1\n",
    "        if n == cnt:\n",
    "            return print(f'{d+1-j}/{j}')\n",
    "        else:\n",
    "            for x in range(1,d):\n",
    "                j += 1\n",
    "                cnt -= 1\n",
    "                if n == cnt:\n",
    "                    break\n",
    "            return print(f'{d+1-j}/{j}')\n",
    "    else:\n",
    "        i = 1\n",
    "        if n == cnt:\n",
    "            return print(f'{i}/{d+1-i}')\n",
    "        else:\n",
    "            for y in range(1,d):\n",
    "                i += 1\n",
    "                cnt -= 1\n",
    "                if n ==cnt:\n",
    "                    break\n",
    "            return print(f'{i}/{d+1-i}')\n",
    "\n",
    "n = int(input())\n",
    "f(n)"
   ]
  },
  {
   "cell_type": "code",
   "execution_count": null,
   "metadata": {},
   "outputs": [
    {
     "name": "stdout",
     "output_type": "stream",
     "text": [
      "bometil\n"
     ]
    }
   ],
   "source": [
    "#1251\n",
    "n = input()\n",
    "e = []\n",
    "for i in range(1,len(n)-1):\n",
    "    for j in range(i+1, len(n)):\n",
    "        a = n[0:i][::-1] + n[i:j][::-1] + n[j:][::-1]\n",
    "        e.append(a)\n",
    "print(sorted(e)[0])"
   ]
  },
  {
   "cell_type": "code",
   "execution_count": null,
   "metadata": {},
   "outputs": [
    {
     "name": "stdout",
     "output_type": "stream",
     "text": [
      "5\n"
     ]
    }
   ],
   "source": [
    "#import sys\n",
    "#input = sys.stdin.readline\n",
    "\n",
    "n = int(input())\n",
    "s = []\n",
    "cnt = [0]*n\n",
    "\n",
    "for i in range(n):\n",
    "    s.append(list(map(int,input().split())))\n",
    "\n",
    "for j in range(5):\n",
    "    e = []\n",
    "    for i in s:\n",
    "        e.append(i[j])\n",
    "    for k in range(n):\n",
    "        if e.count(e[k]) > 1:\n",
    "            cnt[k] += 1\n",
    "\n",
    "print(cnt.index(max(cnt))+1)"
   ]
  },
  {
   "cell_type": "code",
   "execution_count": 26,
   "metadata": {},
   "outputs": [
    {
     "name": "stdout",
     "output_type": "stream",
     "text": [
      "0\n"
     ]
    }
   ],
   "source": [
    "N = int(input())\n",
    "for i in range(N):\n",
    "    n = list(input())\n",
    "    e = []\n",
    "    cnt = 0\n",
    "    for j in n:\n",
    "        if n.count(j) != 1:\n",
    "            for k in range(n.index(j),len(n)):\n",
    "                if n[k] == j:\n",
    "                    e.append(n.index(n[k]))\n",
    "            for x in range(len(e)-1):\n",
    "                y = x+1\n",
    "                if e[y]-e[x] != 1:\n",
    "                    cnt += 1\n",
    "        n.pop(0)\n",
    "    if cnt != 0:\n",
    "        N -= 1\n",
    "print(N)"
   ]
  },
  {
   "cell_type": "code",
   "execution_count": null,
   "metadata": {},
   "outputs": [
    {
     "name": "stdout",
     "output_type": "stream",
     "text": [
      "15\n"
     ]
    }
   ],
   "source": [
    "#1292\n",
    "a,b = map(int,input().split())\n",
    "e = [0]\n",
    "for i in range(46):\n",
    "    for j in range(i):\n",
    "        e.append(i)\n",
    "print(sum(e[a:b+1]))"
   ]
  },
  {
   "cell_type": "code",
   "execution_count": null,
   "metadata": {},
   "outputs": [
    {
     "name": "stdout",
     "output_type": "stream",
     "text": [
      "YES\n"
     ]
    }
   ],
   "source": [
    "#1356\n",
    "n = list(map(int,input()))\n",
    "for i in range(1,len(n)):\n",
    "    F = n[:i]\n",
    "    f = 1\n",
    "    B = n[i:]\n",
    "    b = 1\n",
    "    for j in F:\n",
    "        f *= j\n",
    "    for k in B:\n",
    "        b *= k\n",
    "    if f == b:\n",
    "        print('YES')\n",
    "        break\n",
    "else:\n",
    "    print('NO')\n"
   ]
  },
  {
   "cell_type": "code",
   "execution_count": null,
   "metadata": {},
   "outputs": [
    {
     "name": "stdout",
     "output_type": "stream",
     "text": [
      "1\n"
     ]
    }
   ],
   "source": [
    "#1357\n",
    "def Rev(n):\n",
    "    return int(n[::-1])\n",
    "\n",
    "x,y = input().split()\n",
    "print(Rev(str(Rev(x) + Rev(y))))"
   ]
  },
  {
   "cell_type": "code",
   "execution_count": null,
   "metadata": {},
   "outputs": [
    {
     "name": "stdout",
     "output_type": "stream",
     "text": [
      "24\n"
     ]
    }
   ],
   "source": [
    "#1037\n",
    "n = int(input())\n",
    "l = list(map(int,input().split()))\n",
    "print(max(l) * min(l))"
   ]
  },
  {
   "cell_type": "code",
   "execution_count": 96,
   "metadata": {},
   "outputs": [
    {
     "name": "stdout",
     "output_type": "stream",
     "text": [
      "3999999999999000000\n"
     ]
    }
   ],
   "source": [
    "#1834\n",
    "N = int(input())\n",
    "e = []\n",
    "for a in range(2000000):\n",
    "    x = a*(N+1)\n",
    "    if x//N == x%N:\n",
    "        e.append(x)\n",
    "print(sum(e))"
   ]
  },
  {
   "cell_type": "code",
   "execution_count": null,
   "metadata": {},
   "outputs": [
    {
     "name": "stdout",
     "output_type": "stream",
     "text": [
      "195\n"
     ]
    }
   ],
   "source": [
    "#1145\n",
    "def lcm(a,b,c):\n",
    "    for i in range(max(a,b,c), (a*b*c)+1):\n",
    "        if i%a == 0 and i%b == 0 and i%c == 0:\n",
    "            return i\n",
    "\n",
    "n = list(map(int,input().split()))\n",
    "e = []\n",
    "for x in range(len(n)-2):\n",
    "    for y in range(x+1, len(n)-1):\n",
    "        for z in range(y+1, len(n)):\n",
    "            a = n[x]\n",
    "            b = n[y]\n",
    "            c = n[z]\n",
    "            e.append(lcm(a,b,c))\n",
    "print(min(e))"
   ]
  },
  {
   "cell_type": "code",
   "execution_count": null,
   "metadata": {},
   "outputs": [
    {
     "name": "stdout",
     "output_type": "stream",
     "text": [
      "['.', '.', 'X', '.', '.']\n",
      "['.', '.', 'X', '.', '.']\n",
      "['.', '.', '.', '.', '.']\n",
      "['.', '.', 'X', '.', '.']\n",
      "['X', '.', '.', '.', '.']\n",
      "['X', '.', 'X', '.', '.']\n",
      "['X', '.', 'X', '.', '.']\n",
      "['X', '.', '.', '.', '.']\n",
      "['.', '.', '.', '.', 'X', 'X', 'X', 'X']\n",
      "['.', '.', '.', '.', '.', '.', '.', '.']\n",
      "['X', 'X', '.', 'X', '.', 'X', 'X', '.']\n",
      "['.', '.', '.', '.', '.', '.', '.', '.']\n",
      "['.', '.', '.', '.', '.', '.', '.', '.']\n",
      "1\n",
      "3\n",
      "3\n"
     ]
    }
   ],
   "source": [
    "#1236\n",
    "n,m = map(int,input().split())\n",
    "c = [list(input()) for i in range(n)]\n",
    "\n",
    "cnt1, cnt2 = 0,0\n",
    "\n",
    "for i in range(m):\n",
    "    e = []\n",
    "    for j in range(n):\n",
    "        e.append(c[j][i])\n",
    "    if 'X' not in e:\n",
    "        cnt1 += 1\n",
    "\n",
    "for i in range(n):\n",
    "    e = []\n",
    "    for j in range(m):\n",
    "        e.append(c[i][j])\n",
    "    if 'X' not in e:\n",
    "        cnt2 += 1\n",
    "\n",
    "print(max(cnt1, cnt2))"
   ]
  },
  {
   "cell_type": "code",
   "execution_count": null,
   "metadata": {},
   "outputs": [
    {
     "name": "stdout",
     "output_type": "stream",
     "text": [
      "S\n",
      "B\n"
     ]
    }
   ],
   "source": [
    "#1524\n",
    "t = int(input())\n",
    "\n",
    "for i in range(t):\n",
    "    input()\n",
    "    n,m = map(int,input().split())\n",
    "    s = sorted(list(map(int,input().split())), reverse = True)\n",
    "    b = sorted(list(map(int,input().split())), reverse = True)\n",
    "\n",
    "    while len(s) != 0 and len(b) != 0:\n",
    "        if s[-1] < b[-1]:\n",
    "            s.pop()\n",
    "        else:\n",
    "            b.pop()\n",
    "    \n",
    "\n",
    "    if len(s) != 0:\n",
    "        print('S')\n",
    "    elif len(b) != 0:\n",
    "        print('B')\n",
    "    else:\n",
    "        print('C')"
   ]
  },
  {
   "cell_type": "code",
   "execution_count": null,
   "metadata": {},
   "outputs": [
    {
     "name": "stdout",
     "output_type": "stream",
     "text": [
      "0,0,0,0,0\n"
     ]
    }
   ],
   "source": [
    "#1551\n",
    "n,k = map(int,input().split())\n",
    "a = list(map(int,input().split(',')))\n",
    "\n",
    "def c(x):\n",
    "    e = []\n",
    "    for i in range(len(x)-1):\n",
    "        e.append(x[i+1]-x[i])\n",
    "    x = e\n",
    "    return x\n",
    "for j in range(k):\n",
    "    c(a)\n",
    "    a = c(a)\n",
    "print(','.join(map(str,a)))"
   ]
  },
  {
   "cell_type": "code",
   "execution_count": null,
   "metadata": {},
   "outputs": [
    {
     "name": "stdout",
     "output_type": "stream",
     "text": [
      "314\n"
     ]
    }
   ],
   "source": [
    "#1373\n",
    "print(oct(int(input(),2))[2:])"
   ]
  },
  {
   "cell_type": "code",
   "execution_count": null,
   "metadata": {},
   "outputs": [
    {
     "name": "stdout",
     "output_type": "stream",
     "text": [
      "474747\n"
     ]
    }
   ],
   "source": [
    "#1526\n",
    "N = int(input())\n",
    "e = []\n",
    "for i in range(4,N+1):\n",
    "    for j in '01235689':\n",
    "        if j in set(list(str(i))):\n",
    "            break\n",
    "    else:\n",
    "        e.append(i)\n",
    "print(e[-1])"
   ]
  },
  {
   "cell_type": "code",
   "execution_count": null,
   "metadata": {},
   "outputs": [],
   "source": [
    "#2798\n",
    "N,M = map(int,input().split())\n",
    "C = list(map(int,input().split()))\n",
    "result = 0\n",
    "e = []\n",
    "for i in range(0, len(C)-2):\n",
    "    for j in range(i+1, len(C)-1):\n",
    "        for k in range(j+1, len(C)):\n",
    "            result = C[i] + C[j] + C[k]\n",
    "            if result <= M:\n",
    "                e.append(result)\n",
    "print(max(e))"
   ]
  },
  {
   "cell_type": "code",
   "execution_count": null,
   "metadata": {},
   "outputs": [],
   "source": [
    "#2231\n",
    "N = int(input())\n",
    "i = 1\n",
    "for i in range(1,N+1):\n",
    "    num = sum(list(map(int,str(i))))\n",
    "    result = i + num\n",
    "    if result == N:\n",
    "        break\n",
    "\n",
    "if i == N:\n",
    "    print(0)\n",
    "else:\n",
    "    print(i)"
   ]
  },
  {
   "cell_type": "code",
   "execution_count": null,
   "metadata": {},
   "outputs": [],
   "source": [
    "#1436\n",
    "n = int(input())\n",
    "cnt = 0\n",
    "num = 0\n",
    "while 1:\n",
    "    num += 1\n",
    "    if '666' in str(num):\n",
    "        cnt += 1\n",
    "    if cnt == n:\n",
    "        break\n",
    "print(num)"
   ]
  },
  {
   "cell_type": "code",
   "execution_count": 7,
   "metadata": {},
   "outputs": [
    {
     "name": "stdout",
     "output_type": "stream",
     "text": [
      "2 -1\n"
     ]
    }
   ],
   "source": [
    "#19532\n",
    "a,b,c,d,e,f = map(int,input().split())\n",
    "for i in range(-999,1000):\n",
    "    for j in range(-999,1000):\n",
    "        if a*i + b*j == c and d*i + e*j == f:\n",
    "            print(i,j)"
   ]
  },
  {
   "cell_type": "code",
   "execution_count": null,
   "metadata": {},
   "outputs": [],
   "source": [
    "N,M = map(int,input().split())\n",
    "l = [list(input()) for i in range(N)]\n",
    "e = []\n",
    "for j in range(8):\n",
    "    for i in range(8):\n",
    "        if j == 0:\n",
    "            if l[i][j] == l[i+1][j]:\n",
    "                if l[i][j] == 'B':\n",
    "                    l[i+1][j] = 'W'\n",
    "                    cnt += 1\n",
    "                else:\n",
    "                    l[i+1][j] = 'B'\n",
    "                    cnt += 1\n",
    "        else:\n",
    "            if l[i][j] == l[i][j-1]:\n",
    "                if l[i][j-1] == 'B':\n",
    "                    l[i][j] = 'W'\n",
    "                    cnt += 1\n",
    "                else:\n",
    "                    l[i][j] = 'B'\n",
    "                    cnt += 1\n",
    "            else:\n",
    "                if l[i][j] == l[i+1][j]:\n",
    "                    if l[i][j] == 'B':\n",
    "                        l[i+1][j] = 'W'\n",
    "                        cnt += 1\n",
    "                    else:\n",
    "                        l[i+1][j] = 'B'\n",
    "                        cnt += 1\n",
    "    e.append(cnt)"
   ]
  },
  {
   "cell_type": "code",
   "execution_count": null,
   "metadata": {},
   "outputs": [
    {
     "name": "stdout",
     "output_type": "stream",
     "text": [
      "1\n"
     ]
    }
   ],
   "source": [
    "#2839\n",
    "n = int(input())\n",
    "e = []\n",
    "for x in range(n):\n",
    "    for y in range(n):\n",
    "        if 3*x + 5*y == n:\n",
    "            e.append(x+y)\n",
    "if e == []:\n",
    "    print(-1)\n",
    "else:\n",
    "    print(min(e))"
   ]
  },
  {
   "cell_type": "code",
   "execution_count": null,
   "metadata": {},
   "outputs": [],
   "source": [
    "BWBWBWBW\n",
    "WBWBWBWB\n",
    "BWBWBWBW\n",
    "WBWBWBWB\n",
    "BWBWBWBW\n",
    "WBWBWBWB\n",
    "BWBWBWBW\n",
    "WBWBWBWB"
   ]
  },
  {
   "cell_type": "code",
   "execution_count": null,
   "metadata": {},
   "outputs": [],
   "source": [
    "WBWBWBWB\n",
    "BWBWBWBW\n",
    "WBWBWBWB\n",
    "BWBWBWBW\n",
    "WBWBWBWB\n",
    "BWBWBWBW\n",
    "WBWBWBWB\n",
    "BWBWBWBW"
   ]
  }
 ],
 "metadata": {
  "kernelspec": {
   "display_name": "Python 3",
   "language": "python",
   "name": "python3"
  },
  "language_info": {
   "codemirror_mode": {
    "name": "ipython",
    "version": 3
   },
   "file_extension": ".py",
   "mimetype": "text/x-python",
   "name": "python",
   "nbconvert_exporter": "python",
   "pygments_lexer": "ipython3",
   "version": "3.10.2"
  }
 },
 "nbformat": 4,
 "nbformat_minor": 2
}
