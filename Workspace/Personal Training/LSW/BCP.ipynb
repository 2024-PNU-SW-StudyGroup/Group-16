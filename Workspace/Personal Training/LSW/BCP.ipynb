{
 "cells": [
  {
   "cell_type": "code",
   "execution_count": 6,
   "metadata": {},
   "outputs": [
    {
     "name": "stdout",
     "output_type": "stream",
     "text": [
      "['apple', 'intel', 'tesla', 'nvidia', 'samsung']\n",
      "1 2\n"
     ]
    }
   ],
   "source": [
    "li = ['samsung','apple','nvidia','intel']\n",
    "li.sort(reverse=False)\n",
    "a = li.count('apple')\n",
    "b = li.index('nvidia')\n",
    "li.insert(2,'tesla')\n",
    "print(li)\n",
    "print(a,b)"
   ]
  },
  {
   "cell_type": "code",
   "execution_count": 21,
   "metadata": {},
   "outputs": [
    {
     "name": "stdout",
     "output_type": "stream",
     "text": [
      "6\n",
      "10 3\n",
      "[11, 3, 1, 13, 5]\n"
     ]
    }
   ],
   "source": [
    "from math import *\n",
    "from random import *\n",
    "print(gcd(12, 18))\n",
    "a = randint(1, 10)\n",
    "b = randrange(1, 23, 2)\n",
    "odds = [1,3,5,7,9,11,13]\n",
    "s_odds = sample(odds, 5)\n",
    "print(a, b)\n",
    "print(s_odds)\n"
   ]
  }
 ],
 "metadata": {
  "kernelspec": {
   "display_name": "Python 3",
   "language": "python",
   "name": "python3"
  },
  "language_info": {
   "codemirror_mode": {
    "name": "ipython",
    "version": 3
   },
   "file_extension": ".py",
   "mimetype": "text/x-python",
   "name": "python",
   "nbconvert_exporter": "python",
   "pygments_lexer": "ipython3",
   "version": "3.12.2"
  }
 },
 "nbformat": 4,
 "nbformat_minor": 2
}
