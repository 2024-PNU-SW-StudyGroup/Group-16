{
 "cells": [
  {
   "cell_type": "markdown",
   "metadata": {},
   "source": [
    "# Problem 1.\n",
    "Complete mystrcat() in the given source code.\n",
    "\n",
    "Although you are not allowed to use library functions, you can add and use your own functions.\n",
    "\n",
    "char *mystrcat( char *dest, char *src ) : Appends a copy of the null-terminated byte string pointed to by src to the end of the null-terminated byte string pointed to by dest. The character src[0] replaces the null terminator at the end of dest. The resulting byte string is null-terminated.\n",
    "\n",
    "Parameters\n",
    "dest - pointer to the null-terminated byte string to append to\n",
    "src - pointer to the null-terminated byte string to copy from\n",
    "Return value\n",
    "returns a copy of dest\n"
   ]
  },
  {
   "cell_type": "code",
   "execution_count": null,
   "metadata": {
    "vscode": {
     "languageId": "c"
    }
   },
   "outputs": [],
   "source": [
    "#include <stdio.h>\n",
    "\n",
    "char *mystrcat(char *dest, char *src) {\n",
    "\t\n",
    "\treturn dest;\n",
    "}\n",
    "\n",
    "int main(void) {\n",
    "\tchar str[256] = \"Hello \";\n",
    "\tchar * pstr2 = \"Good Bye World !!!\";\n",
    "\t\n",
    "\tprintf(\"%s\\n\", mystrcat(mystrcat(str, \" World !!! ...\"), pstr2 ));\n",
    "\n",
    "\treturn 0;\n",
    "}"
   ]
  },
  {
   "cell_type": "code",
   "execution_count": null,
   "metadata": {
    "vscode": {
     "languageId": "c"
    }
   },
   "outputs": [],
   "source": [
    "// 완성된 *mystrcat()\n",
    "char *mystrcat(char *dest, char *src) {\n",
    "    char *o_dest = dest;\n",
    "    while(*dest != 0) {\n",
    "        dest++;\n",
    "    }\n",
    "\n",
    "    while(*src != 0) {\n",
    "        *dest = *src;\n",
    "        src++;\n",
    "        dest++;\n",
    "    }\n",
    "    *dest = '\\0';\n",
    "    return o_dest;\n",
    "}"
   ]
  },
  {
   "cell_type": "markdown",
   "metadata": {},
   "source": [
    "# Problem 2.\n",
    "Complete print_all_permutations() in the given source code.\n",
    "\n",
    "void print_all_permutations(char *str) : prints all permutations of a given string. For example, if the given string is ABC, the permutations are ABC, ACB, BAC, BCA, CBA, and CAB.\n",
    "\n",
    "Print each permutation in a new line as below. (The output order can be different)\n",
    "\n",
    "ABC\n",
    "\n",
    "ACB\n",
    "\n",
    "BAC\n",
    "\n",
    "BCA\n",
    "\n",
    "CBA\n",
    "\n",
    "CAB\n",
    "\n",
    "Parameters\n",
    "str - pointer to the null-terminated string. You can assume that all characters in the string are different. \n",
    "Return value - none\n",
    "Test your program with test strings like ABC and ABCDE. \n",
    "\n",
    "You can add new functions and variables. \n",
    "\n",
    "You can use the C standard library functions if necessary. \n",
    "\n"
   ]
  },
  {
   "cell_type": "code",
   "execution_count": null,
   "metadata": {
    "vscode": {
     "languageId": "c"
    }
   },
   "outputs": [],
   "source": [
    "#include <stdio.h>\n",
    "\n",
    "void print_all_permutations(char *str) {\n",
    "\tputs(str);\n",
    "\treturn;\n",
    "}\n",
    "\n",
    "int main(void) { \n",
    "\tchar str[256] = \"ABC\";\n",
    "\n",
    "\tprint_all_permutations(str);\n",
    "\treturn 0; \n",
    "} "
   ]
  },
  {
   "cell_type": "code",
   "execution_count": null,
   "metadata": {
    "vscode": {
     "languageId": "c"
    }
   },
   "outputs": [],
   "source": [
    "// 완성된 코드\n",
    "#include <stdio.h>\n",
    "#include <string.h>\n",
    "#include <stdlib.h>\n",
    "\n",
    "int compare(const void *a, const void *b) {\n",
    "    return (*(char *)a - *(char *)b);\n",
    "}\n",
    "void generate_permutations(char *str, int start, int end) {\n",
    "    if (start == end) {\n",
    "        puts(str);  // 순열 출력\n",
    "        return;\n",
    "    }\n",
    "\n",
    "    for (int i = start; i <= end; i++) {\n",
    "        // 문자를 교환하여 새로운 순열 생성\n",
    "        char temp = str[start];\n",
    "        str[start] = str[i];\n",
    "        str[i] = temp;\n",
    "\n",
    "        // 다음 단계로 재귀 호출\n",
    "        generate_permutations(str, start + 1, end);\n",
    "\n",
    "        // 원래 상태로 복구\n",
    "        temp = str[start];\n",
    "        str[start] = str[i];\n",
    "        str[i] = temp;\n",
    "    }\n",
    "}\n",
    "\n",
    "void print_all_permutations(char *str) {\n",
    "    unsigned int len = strlen(str);\n",
    "    qsort(str, len, sizeof(char), compare);\n",
    "    generate_permutations(str, 0, len - 1);\n",
    "}\n",
    "\n",
    "int main(void) {\n",
    "    char str[256] = \"ABC\";\n",
    "\n",
    "    print_all_permutations(str);\n",
    "    return 0;\n",
    "}"
   ]
  },
  {
   "cell_type": "markdown",
   "metadata": {},
   "source": [
    "# Problem 3.\n",
    "Complete mystrtok1() in the given source code.\n",
    "\n",
    "Although you are not allowed to use library functions, you can add and use your own functions.\n",
    "\n",
    "char *mystrtok1(char *str, char delim ) : Finds the next token in a null-terminated byte string pointed to by str. The separator character is identified by delim.  This function is designed to be called multiple times to obtain successive tokens from the same string. \n",
    "\n",
    "If str is not a null pointer, the call is treated as the first call to strtok for this particular string. The function searches for the first character which is not delim. \n",
    "\n",
    "If no such character was found, there are no tokens in str at all, and the function returns a null pointer.\n",
    "If such a character was found, it is the beginning of the token. The function then searches from that point on for the delim.\n",
    "If delim character is not found, str has only one token, and future calls to strtok will return a null pointer\n",
    "If delim is found, it is replaced by the null character '\\0' and the pointer to the following character is stored in a static location for subsequent invocations.\n",
    "The function then returns the pointer to the beginning of the token\n",
    "If str is a null pointer, the call is treated as a subsequent call to strtok: the function continues from where it was left in the previous invocation. The behavior is the same as if the previously stored pointer is passed as str.\n",
    "\n",
    "Parameters\n",
    "str - pointer to the null-terminated byte string to tokenize\n",
    "delim\t-  a delimiter character for token separation\n",
    "Return value\n",
    "Returns a pointer to the beginning of the next token or a null pointer if there are no more tokens."
   ]
  },
  {
   "cell_type": "code",
   "execution_count": null,
   "metadata": {
    "vscode": {
     "languageId": "c"
    }
   },
   "outputs": [],
   "source": [
    "#include <stdio.h>\n",
    "\n",
    "char *mystrtok1(char *str, char delim) {\n",
    "\tstatic char *psave = 0;\n",
    "\t\n",
    "\treturn 0;\n",
    "}\n",
    "\n",
    "int main(void) {\n",
    "\tchar pstr[256] = { \",123,hello,34 56, Good.,Bye\"};\n",
    "\tchar *ptoken;\n",
    "\tchar delim = ',';\n",
    "\tint test = 0;\n",
    "\n",
    "\tptoken = mystrtok1(pstr, delim);\n",
    "\t\n",
    "\twhile (ptoken) {\n",
    "\t\tprintf(\"%s\\n\",ptoken);\n",
    "\t\tptoken = mystrtok1(0, delim);\t\t\n",
    "\t}\n",
    "\t\t\n",
    "\treturn 0;\n",
    "}"
   ]
  },
  {
   "cell_type": "markdown",
   "metadata": {},
   "source": [
    "# Problem 4.\n",
    "Complete mystrtok(), an extended one from the mystrtok1() in the previous problem, in the given source code. \n",
    "\n",
    "Although you are not allowed to use library functions, you can add and use your own functions.\n",
    "\n",
    "char *mystrtok(char *str, char *delim ) : Finds the next token in a null-terminated byte string pointed to by str. The separator characters are in a null-terminated byte string pointed to by delim. So we can use multiple delimiter characters in this version.  This function is designed to be called multiple times to obtain successive tokens from the same string. \n",
    "\n",
    "If str is not a null pointer, the call is treated as the first call to strtok for this particular string. The function searches for the first character which is not contained in delim. \n",
    "\n",
    "If no such character was found, there are no tokens in str at all, and the function returns a null pointer.\n",
    "If such a character was found, it is the beginning of the token. The function then searches from that point on for the first character that is contained in delim.\n",
    "If no such character was found, str has only one token, and future calls to strtok will return a null pointer\n",
    "If such a character was found, it is replaced by the null character '\\0', and the pointer to the following character is stored in a static location for subsequent invocations.\n",
    "The function then returns the pointer to the beginning of the token\n",
    "If str is a null pointer, the call is treated as a subsequent call to strtok: the function continues from where it was left in the previous invocation. The behavior is the same as if the previously stored pointer is passed as str.\n",
    "\n",
    "Parameters\n",
    "str - pointer to the null-terminated byte string to tokenize\n",
    "delim\t-  pointer to the null-terminated byte string identifying delimiters\n",
    "Return value\n",
    "Returns a pointer to the beginning of the next token or a null pointer if there are no more tokens."
   ]
  },
  {
   "cell_type": "markdown",
   "metadata": {},
   "source": [
    "# Problem 5.\n",
    "Examine and modify a set of functions in a C program to fix issues related to pointer operations and common pitfalls. Your task is to ensure that the program runs successfully without triggering any exceptions or producing incorrect results.\n",
    "\n",
    "The program consists of four functions, each containing one or more common pointer-related issues. A main function calls each of these functions with specific arguments (hidden) that are likely to trigger the issues if not corrected.\n",
    "\n",
    "Functions with pitfalls:\n",
    "\n",
    "calculateAverage - Issues related to array indexing and bounds.\n",
    "updateTemperature - Handling potential null pointers.\n",
    "reverseString - String manipulation and boundary conditions.\n"
   ]
  },
  {
   "cell_type": "code",
   "execution_count": null,
   "metadata": {
    "vscode": {
     "languageId": "c"
    }
   },
   "outputs": [],
   "source": [
    "#include <stdio.h>\n",
    "#include <stdlib.h>\n",
    "#include <signal.h>\n",
    "#include <string.h>\n",
    "#include <limits.h>\n",
    "#include <stdint.h>\n",
    "\n",
    "// Fix issues related to pointer operations\n",
    "\n",
    "double calculateAverage(int *values, size_t count) {\n",
    "\tdouble sum = 0;\n",
    "\tfor (size_t i = 0; i <= count; i++) {\n",
    "\t\t\tsum += values[i];\n",
    "\t}\n",
    "\treturn sum / count;\n",
    "}\n",
    "\n",
    "void updateTemperature(float *temp) {\n",
    "\t*temp = 25.0; \n",
    "}\n",
    "\n",
    "void reverseString(char *str) {\n",
    "\tsize_t len = strlen(str);\n",
    "\tfor (size_t i = 0; i < len / 2; i++) {\n",
    "\t\t\tchar temp = str[i];\n",
    "\t\t\tstr[i] = str[len - i - 1];\n",
    "\t\t\tstr[len - i - 1] = temp;\n",
    "\t}\n",
    "}\n",
    "\n",
    "// The main function is intentionally hidden."
   ]
  }
 ],
 "metadata": {
  "language_info": {
   "name": "python"
  }
 },
 "nbformat": 4,
 "nbformat_minor": 2
}
