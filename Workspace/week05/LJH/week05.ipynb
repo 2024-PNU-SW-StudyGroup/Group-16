{
 "cells": [
  {
   "cell_type": "code",
   "execution_count": null,
   "metadata": {
    "vscode": {
     "languageId": "plaintext"
    }
   },
   "outputs": [],
   "source": [
    "#1598\n",
    "a,b = map(int,input().split())\n",
    "X,Y = a//4, a%4\n",
    "if Y == 0:\n",
    "    X,Y = X-1,4\n",
    "x,y = b//4, b%4\n",
    "if y == 0:\n",
    "    x,y = x-1,4\n",
    "print((abs(X-x) + abs(Y-y)))"
   ]
  },
  {
   "cell_type": "code",
   "execution_count": null,
   "metadata": {
    "vscode": {
     "languageId": "plaintext"
    }
   },
   "outputs": [],
   "source": [
    "#1547\n",
    "M = int(input())\n",
    "cnt = 0\n",
    "L = [1,2,3]\n",
    "while cnt < M:\n",
    "    a,b = map(int,input().split())\n",
    "    i, j = L.index(a), L.index(b)\n",
    "    L[i], L[j]  = L[j], L[i]\n",
    "    cnt += 1\n",
    "print(L[0])"
   ]
  },
  {
   "cell_type": "code",
   "execution_count": null,
   "metadata": {
    "vscode": {
     "languageId": "plaintext"
    }
   },
   "outputs": [],
   "source": [
    "#1284\n",
    "while True:\n",
    "    N = input()\n",
    "    if N == '0':\n",
    "        break\n",
    "    else:\n",
    "        length = len(N)+1\n",
    "        for i in N:\n",
    "            if  i == '1':\n",
    "                length += 2\n",
    "            elif i == '0':\n",
    "                length += 4\n",
    "            else:\n",
    "                length += 3\n",
    "        print(length)"
   ]
  },
  {
   "cell_type": "code",
   "execution_count": null,
   "metadata": {
    "vscode": {
     "languageId": "plaintext"
    }
   },
   "outputs": [],
   "source": [
    "#1267\n",
    "Y = 0\n",
    "M = 0\n",
    "N = int(input())\n",
    "L = list(map(int,input().split()))\n",
    "for i in L:\n",
    "    Y += (10+(i//30)*10)\n",
    "for j in L:\n",
    "    M += (15+(j//60)*15)\n",
    "if Y<M:\n",
    "    print('Y', Y)\n",
    "elif Y>M:\n",
    "    print('M', M)\n",
    "else:\n",
    "    print('Y M', Y)"
   ]
  },
  {
   "cell_type": "code",
   "execution_count": null,
   "metadata": {
    "vscode": {
     "languageId": "plaintext"
    }
   },
   "outputs": [],
   "source": [
    "#1247\n",
    "count = 1\n",
    "while count <= 3:\n",
    "    N = int(input())\n",
    "    S = 0\n",
    "    for i in range(N):\n",
    "        S += int(input())\n",
    "    if S > 0:\n",
    "        print('+')\n",
    "    elif S < 0:\n",
    "        print('-')\n",
    "    else:\n",
    "        print('0')\n",
    "    count += 1"
   ]
  },
  {
   "cell_type": "code",
   "execution_count": null,
   "metadata": {
    "vscode": {
     "languageId": "plaintext"
    }
   },
   "outputs": [],
   "source": [
    "#23825\n",
    "S,M = map(int,input().split())\n",
    "print(min(S,M)//2)"
   ]
  },
  {
   "cell_type": "code",
   "execution_count": null,
   "metadata": {
    "vscode": {
     "languageId": "plaintext"
    }
   },
   "outputs": [],
   "source": [
    "#23795\n",
    "sum = 0\n",
    "while True:\n",
    "    a = int(input())\n",
    "    if a >= 0:\n",
    "        sum += a\n",
    "    else:\n",
    "        break\n",
    "print(sum)"
   ]
  },
  {
   "cell_type": "code",
   "execution_count": null,
   "metadata": {
    "vscode": {
     "languageId": "plaintext"
    }
   },
   "outputs": [],
   "source": [
    "#16486\n",
    "d1 = int(input())\n",
    "d2 = int(input())\n",
    "print((2*d1) + (2*d2*3.141592))"
   ]
  },
  {
   "cell_type": "code",
   "execution_count": null,
   "metadata": {
    "vscode": {
     "languageId": "plaintext"
    }
   },
   "outputs": [],
   "source": [
    "#17356\n",
    "A,B = map(int,input().split())\n",
    "print(1/(1+10**((B-A)/400)))"
   ]
  },
  {
   "cell_type": "code",
   "execution_count": null,
   "metadata": {
    "vscode": {
     "languageId": "plaintext"
    }
   },
   "outputs": [],
   "source": [
    "#1085\n",
    "x,y,w,h = map(int,input().split())\n",
    "print(min(x,w-x,y,h-y))"
   ]
  }
 ],
 "metadata": {
  "language_info": {
   "name": "python"
  }
 },
 "nbformat": 4,
 "nbformat_minor": 2
}
