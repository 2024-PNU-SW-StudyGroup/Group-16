{
 "cells": [
  {
   "cell_type": "markdown",
   "metadata": {},
   "source": [
    "# 031\n",
    "제곱근 구하기\n"
   ]
  },
  {
   "cell_type": "code",
   "execution_count": 3,
   "metadata": {},
   "outputs": [],
   "source": [
    "import math\n",
    "\n",
    "def my_sqrt(n):\n",
    " return n**0.5\n",
    "\n",
    "for i in range(100):\n",
    " if math.sqrt(i) != my_sqrt(i):\n",
    "  raise Exception()\n"
   ]
  },
  {
   "cell_type": "markdown",
   "metadata": {},
   "source": [
    "# 032\n",
    "알파벳 순서대로 하나씩 줄여가며 출력하기 (반복문 사용)"
   ]
  },
  {
   "cell_type": "code",
   "execution_count": 11,
   "metadata": {},
   "outputs": [
    {
     "name": "stdout",
     "output_type": "stream",
     "text": [
      "\n",
      "A B C D E F G H I J K L M N O P Q R S T U V W X Y Z\n",
      "A B C D E F G H I J K L M N O P Q R S T U V W X Y\n",
      "A B C D E F G H I J K L M N O P Q R S T U V W X\n",
      "A B C D E F G H I J K L M N O P Q R S T U V W\n",
      "A B C D E F G H I J K L M N O P Q R S T U V\n",
      "A B C D E F G H I J K L M N O P Q R S T U\n",
      "A B C D E F G H I J K L M N O P Q R S T\n",
      "A B C D E F G H I J K L M N O P Q R S\n",
      "A B C D E F G H I J K L M N O P Q R\n",
      "A B C D E F G H I J K L M N O P Q\n",
      "A B C D E F G H I J K L M N O P\n",
      "A B C D E F G H I J K L M N O\n",
      "A B C D E F G H I J K L M N\n",
      "A B C D E F G H I J K L M\n",
      "A B C D E F G H I J K L\n",
      "A B C D E F G H I J K\n",
      "A B C D E F G H I J\n",
      "A B C D E F G H I\n",
      "A B C D E F G H\n",
      "A B C D E F G\n",
      "A B C D E F\n",
      "A B C D E\n",
      "A B C D\n",
      "A B C\n",
      "A B\n",
      "A\n"
     ]
    }
   ],
   "source": [
    "def func032(n):\n",
    " temp_str = [chr(i) for i in range(ord('A'), ord('Z')+2)]\n",
    " for i in range(n+1):\n",
    "  print(*temp_str[:-i])\n",
    "\n",
    "func032(26)"
   ]
  },
  {
   "cell_type": "markdown",
   "metadata": {},
   "source": [
    "# 033\n",
    "알파벳 순서대로 하나씩 줄여가며 출력하기(재귀 호출 사용)"
   ]
  },
  {
   "cell_type": "code",
   "execution_count": 12,
   "metadata": {},
   "outputs": [
    {
     "name": "stdout",
     "output_type": "stream",
     "text": [
      "A B C D E F G H I J K L M N O P Q R S T U V W X Y Z\n",
      "A B C D E F G H I J K L M N O P Q R S T U V W X Y\n",
      "A B C D E F G H I J K L M N O P Q R S T U V W X\n",
      "A B C D E F G H I J K L M N O P Q R S T U V W\n",
      "A B C D E F G H I J K L M N O P Q R S T U V\n",
      "A B C D E F G H I J K L M N O P Q R S T U\n",
      "A B C D E F G H I J K L M N O P Q R S T\n",
      "A B C D E F G H I J K L M N O P Q R S\n",
      "A B C D E F G H I J K L M N O P Q R\n",
      "A B C D E F G H I J K L M N O P Q\n",
      "A B C D E F G H I J K L M N O P\n",
      "A B C D E F G H I J K L M N O\n",
      "A B C D E F G H I J K L M N\n",
      "A B C D E F G H I J K L M\n",
      "A B C D E F G H I J K L\n",
      "A B C D E F G H I J K\n",
      "A B C D E F G H I J\n",
      "A B C D E F G H I\n",
      "A B C D E F G H\n",
      "A B C D E F G\n",
      "A B C D E F\n",
      "A B C D E\n",
      "A B C D\n",
      "A B C\n",
      "A B\n",
      "A\n"
     ]
    }
   ],
   "source": [
    "temp_str = [chr(i) for i in range(ord('A'), ord('Z')+2)]\n",
    "def func033(n):\n",
    " if n == 0:\n",
    "  return\n",
    " print(*temp_str[:n])\n",
    " func033(n-1)\n",
    "\n",
    "func033(26) "
   ]
  },
  {
   "cell_type": "markdown",
   "metadata": {},
   "source": [
    "# 034\n",
    "3x3 행렬 중 합이 최소가 되는 항목 선택하기"
   ]
  },
  {
   "cell_type": "code",
   "execution_count": 19,
   "metadata": {},
   "outputs": [
    {
     "name": "stdout",
     "output_type": "stream",
     "text": [
      "8\n"
     ]
    }
   ],
   "source": [
    "from itertools import permutations\n",
    "\n",
    "def func034(matrix):\n",
    " n = len(matrix)\n",
    " possible_access = permutations(range(n))\n",
    " temp_list = []\n",
    " for i in possible_access:\n",
    "  temp_list.append(sum(matrix[i[j]][j] for j in range(n)))\n",
    "\n",
    " return min(temp_list)\n",
    "\n",
    "matrix = [\n",
    " [1, 5, 3],\n",
    " [2, 5, 7],\n",
    " [5, 3, 5]\n",
    "]\n",
    "\n",
    "print(func034(matrix))"
   ]
  },
  {
   "cell_type": "markdown",
   "metadata": {},
   "source": [
    "# 035\n",
    "회문(palindrome) 확인하기"
   ]
  },
  {
   "cell_type": "code",
   "execution_count": 20,
   "metadata": {},
   "outputs": [
    {
     "name": "stdout",
     "output_type": "stream",
     "text": [
      "False\n",
      "True\n"
     ]
    }
   ],
   "source": [
    "def is_palindrome(s):\n",
    " return s == s[::-1]\n",
    "\n",
    "print(is_palindrome('hello'))\n",
    "print(is_palindrome('level'))"
   ]
  },
  {
   "cell_type": "markdown",
   "metadata": {},
   "source": [
    "# 036\n",
    "만들 수 있는 삼각형의 개수 구하기(재귀 호출)"
   ]
  },
  {
   "cell_type": "code",
   "execution_count": 26,
   "metadata": {},
   "outputs": [
    {
     "name": "stdout",
     "output_type": "stream",
     "text": [
      "2\n"
     ]
    }
   ],
   "source": [
    "def the_number_of_triangles(n, a, b, c):\n",
    " if n == 0:\n",
    "  return 0\n",
    " a, b, c = sorted([a, b, c])\n",
    " if not (a <= b and b <= c and a+b > c):\n",
    "  return 0\n",
    " return 1 + the_number_of_triangles(n-1, a+1, b, c+1) + the_number_of_triangles(n-1, a, b+1, c) + the_number_of_triangles(n-1, a, b, c+1)\n",
    " \n",
    "print(the_number_of_triangles(2, 1, 1, 1))"
   ]
  },
  {
   "cell_type": "markdown",
   "metadata": {},
   "source": [
    "# 037\n",
    "파스칼의 삼각형"
   ]
  },
  {
   "cell_type": "code",
   "execution_count": 39,
   "metadata": {},
   "outputs": [
    {
     "name": "stdout",
     "output_type": "stream",
     "text": [
      "    1     \n",
      "   1 1    \n",
      "  1 2 1   \n",
      " 1 3 3 1  \n",
      "1 4 6 4 1 \n"
     ]
    }
   ],
   "source": [
    "import math\n",
    "def pascal_triangle(n):\n",
    " for i in range(n):\n",
    "  temp_str = []\n",
    "  for j in range(i+1):\n",
    "   temp_str.append(math.comb(i, j))\n",
    "  print(f'{\" \".join(map(str, temp_str)):^{n*2}}')\n",
    "pascal_triangle(5)"
   ]
  },
  {
   "cell_type": "markdown",
   "metadata": {},
   "source": [
    "# 038\n",
    "유클리드 호제법을 사용하여 최대공약수 구하기"
   ]
  },
  {
   "cell_type": "code",
   "execution_count": 40,
   "metadata": {},
   "outputs": [],
   "source": [
    "def gcd(a, b):\n",
    " if a < b:\n",
    "  a, b = b, a\n",
    " if b == 0:\n",
    "  return a\n",
    " return gcd(b, a%b)\n",
    "\n",
    "for i, j in zip(range(100), range(100)):\n",
    " if gcd(i, j) != math.gcd(i, j):\n",
    "  raise Exception()"
   ]
  },
  {
   "cell_type": "markdown",
   "metadata": {},
   "source": [
    "# 039\n",
    "반복문을 사용하여 피보나치 수열 구하기"
   ]
  },
  {
   "cell_type": "code",
   "execution_count": 45,
   "metadata": {},
   "outputs": [
    {
     "name": "stdout",
     "output_type": "stream",
     "text": [
      "F_0 = 0\n",
      "F_1 = 1\n",
      "F_2 = 1\n",
      "F_3 = 2\n",
      "F_4 = 3\n",
      "F_5 = 5\n",
      "F_6 = 8\n",
      "F_7 = 13\n",
      "F_8 = 21\n",
      "F_9 = 34\n",
      "F_10 = 55\n",
      "F_11 = 89\n",
      "F_12 = 144\n",
      "F_13 = 233\n",
      "F_14 = 377\n",
      "F_15 = 610\n",
      "F_16 = 987\n",
      "F_17 = 1597\n",
      "F_18 = 2584\n",
      "F_19 = 4181\n",
      "F_20 = 6765\n",
      "F_21 = 10946\n",
      "F_22 = 17711\n",
      "F_23 = 28657\n",
      "F_24 = 46368\n",
      "F_25 = 75025\n",
      "F_26 = 121393\n",
      "F_27 = 196418\n",
      "F_28 = 317811\n",
      "F_29 = 514229\n",
      "F_30 = 832040\n",
      "F_31 = 1346269\n",
      "F_32 = 2178309\n",
      "F_33 = 3524578\n",
      "F_34 = 5702887\n",
      "F_35 = 9227465\n",
      "F_36 = 14930352\n",
      "F_37 = 24157817\n",
      "F_38 = 39088169\n",
      "F_39 = 63245986\n",
      "F_40 = 102334155\n",
      "F_41 = 165580141\n",
      "F_42 = 267914296\n",
      "F_43 = 433494437\n",
      "F_44 = 701408733\n",
      "F_45 = 1134903170\n",
      "F_46 = 1836311903\n",
      "F_47 = 2971215073\n",
      "F_48 = 4807526976\n",
      "F_49 = 7778742049\n",
      "F_50 = 12586269025\n",
      "F_51 = 20365011074\n",
      "F_52 = 32951280099\n",
      "F_53 = 53316291173\n",
      "F_54 = 86267571272\n",
      "F_55 = 139583862445\n",
      "F_56 = 225851433717\n",
      "F_57 = 365435296162\n",
      "F_58 = 591286729879\n",
      "F_59 = 956722026041\n",
      "F_60 = 1548008755920\n",
      "F_61 = 2504730781961\n",
      "F_62 = 4052739537881\n",
      "F_63 = 6557470319842\n",
      "F_64 = 10610209857723\n",
      "F_65 = 17167680177565\n",
      "F_66 = 27777890035288\n",
      "F_67 = 44945570212853\n",
      "F_68 = 72723460248141\n",
      "F_69 = 117669030460994\n",
      "F_70 = 190392490709135\n",
      "F_71 = 308061521170129\n",
      "F_72 = 498454011879264\n",
      "F_73 = 806515533049393\n",
      "F_74 = 1304969544928657\n",
      "F_75 = 2111485077978050\n",
      "F_76 = 3416454622906707\n",
      "F_77 = 5527939700884757\n",
      "F_78 = 8944394323791464\n",
      "F_79 = 14472334024676221\n",
      "F_80 = 23416728348467685\n",
      "F_81 = 37889062373143906\n",
      "F_82 = 61305790721611591\n",
      "F_83 = 99194853094755497\n",
      "F_84 = 160500643816367088\n",
      "F_85 = 259695496911122585\n",
      "F_86 = 420196140727489673\n",
      "F_87 = 679891637638612258\n",
      "F_88 = 1100087778366101931\n",
      "F_89 = 1779979416004714189\n",
      "F_90 = 2880067194370816120\n",
      "F_91 = 4660046610375530309\n",
      "F_92 = 7540113804746346429\n",
      "F_93 = 12200160415121876738\n",
      "F_94 = 19740274219868223167\n",
      "F_95 = 31940434634990099905\n",
      "F_96 = 51680708854858323072\n",
      "F_97 = 83621143489848422977\n",
      "F_98 = 135301852344706746049\n",
      "F_99 = 218922995834555169026\n"
     ]
    }
   ],
   "source": [
    "def fibo_loop(n):\n",
    " result = [0, 1]\n",
    " if n < 2:\n",
    "  return result[:n]\n",
    " \n",
    " for i in range(2, n):\n",
    "  result.append(result[i-1] + result[i-2])\n",
    "\n",
    " return result\n",
    "\n",
    "def print_fibo(arr):\n",
    " for i, v in enumerate(arr):\n",
    "  print(f\"F_{i} = {v}\")\n",
    "fibo_arr = fibo_loop(100)\n",
    "print_fibo(fibo_arr)"
   ]
  },
  {
   "cell_type": "markdown",
   "metadata": {},
   "source": [
    "# 040\n",
    "재귀 호출을 사용하여 피보나치 수 구하기"
   ]
  },
  {
   "cell_type": "code",
   "execution_count": 50,
   "metadata": {},
   "outputs": [],
   "source": [
    "def fibo_recursive(n):\n",
    " if n < 2:\n",
    "  return n\n",
    " return fibo_recursive(n-1) + fibo_recursive(n-2)\n",
    "\n",
    "for i, v in enumerate(fibo_loop(30)):\n",
    " if v != fibo_recursive(i):\n",
    "  raise Exception()"
   ]
  },
  {
   "cell_type": "code",
   "execution_count": null,
   "metadata": {},
   "outputs": [],
   "source": []
  }
 ],
 "metadata": {
  "kernelspec": {
   "display_name": "base",
   "language": "python",
   "name": "python3"
  },
  "language_info": {
   "codemirror_mode": {
    "name": "ipython",
    "version": 3
   },
   "file_extension": ".py",
   "mimetype": "text/x-python",
   "name": "python",
   "nbconvert_exporter": "python",
   "pygments_lexer": "ipython3",
   "version": "3.11.5"
  }
 },
 "nbformat": 4,
 "nbformat_minor": 2
}
