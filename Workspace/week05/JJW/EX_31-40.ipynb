{
 "cells": [
  {
   "cell_type": "markdown",
   "metadata": {},
   "source": [
    "# 31. 제곱근 구하기"
   ]
  },
  {
   "cell_type": "code",
   "execution_count": 28,
   "metadata": {},
   "outputs": [
    {
     "data": {
      "text/plain": [
       "9"
      ]
     },
     "execution_count": 28,
     "metadata": {},
     "output_type": "execute_result"
    }
   ],
   "source": [
    "'''조건:\n",
    "1. 어떤 정수 n의 제곱근을 구하기 위해서는 n에서 차례대로 1, 3, 5, 7, 9 ...를 빼서 다시 n에 저장한다.\n",
    "n이 0보다 같거나 클 때까지 이 과정을 반복하고, n이 0보다 작아지면 지금까지 뺀 횟수가 n의 정수제곱근이 된다.'''\n",
    "\n",
    "def square_root_finder(n):\n",
    "    result = 0\n",
    "    index = 1\n",
    "    while n >= 0:\n",
    "        n -= index\n",
    "        index += 2\n",
    "    result = index // 2 - 1\n",
    "    return result\n",
    "\n",
    "square_root_finder(90)"
   ]
  },
  {
   "cell_type": "markdown",
   "metadata": {},
   "source": [
    "# 32. 알파벳 순서대로 하나씩 줄여가며 출력하기(반복문 사용)"
   ]
  },
  {
   "cell_type": "code",
   "execution_count": 6,
   "metadata": {},
   "outputs": [
    {
     "name": "stdout",
     "output_type": "stream",
     "text": [
      "['A', 'B', 'C', 'D', 'E', 'F', 'G', 'H', 'I', 'J', 'K', 'L', 'M', 'N', 'O', 'P', 'Q', 'R', 'S', 'T', 'U', 'V', 'W', 'X', 'Y', 'Z']\n",
      "['A', 'B', 'C', 'D', 'E', 'F', 'G', 'H', 'I', 'J', 'K', 'L', 'M', 'N', 'O', 'P', 'Q', 'R', 'S', 'T', 'U', 'V', 'W', 'X', 'Y']\n",
      "['A', 'B', 'C', 'D', 'E', 'F', 'G', 'H', 'I', 'J', 'K', 'L', 'M', 'N', 'O', 'P', 'Q', 'R', 'S', 'T', 'U', 'V', 'W', 'X']\n",
      "['A', 'B', 'C', 'D', 'E', 'F', 'G', 'H', 'I', 'J', 'K', 'L', 'M', 'N', 'O', 'P', 'Q', 'R', 'S', 'T', 'U', 'V', 'W']\n",
      "['A', 'B', 'C', 'D', 'E', 'F', 'G', 'H', 'I', 'J', 'K', 'L', 'M', 'N', 'O', 'P', 'Q', 'R', 'S', 'T', 'U', 'V']\n",
      "['A', 'B', 'C', 'D', 'E', 'F', 'G', 'H', 'I', 'J', 'K', 'L', 'M', 'N', 'O', 'P', 'Q', 'R', 'S', 'T', 'U']\n",
      "['A', 'B', 'C', 'D', 'E', 'F', 'G', 'H', 'I', 'J', 'K', 'L', 'M', 'N', 'O', 'P', 'Q', 'R', 'S', 'T']\n",
      "['A', 'B', 'C', 'D', 'E', 'F', 'G', 'H', 'I', 'J', 'K', 'L', 'M', 'N', 'O', 'P', 'Q', 'R', 'S']\n",
      "['A', 'B', 'C', 'D', 'E', 'F', 'G', 'H', 'I', 'J', 'K', 'L', 'M', 'N', 'O', 'P', 'Q', 'R']\n",
      "['A', 'B', 'C', 'D', 'E', 'F', 'G', 'H', 'I', 'J', 'K', 'L', 'M', 'N', 'O', 'P', 'Q']\n",
      "['A', 'B', 'C', 'D', 'E', 'F', 'G', 'H', 'I', 'J', 'K', 'L', 'M', 'N', 'O', 'P']\n",
      "['A', 'B', 'C', 'D', 'E', 'F', 'G', 'H', 'I', 'J', 'K', 'L', 'M', 'N', 'O']\n",
      "['A', 'B', 'C', 'D', 'E', 'F', 'G', 'H', 'I', 'J', 'K', 'L', 'M', 'N']\n",
      "['A', 'B', 'C', 'D', 'E', 'F', 'G', 'H', 'I', 'J', 'K', 'L', 'M']\n",
      "['A', 'B', 'C', 'D', 'E', 'F', 'G', 'H', 'I', 'J', 'K', 'L']\n",
      "['A', 'B', 'C', 'D', 'E', 'F', 'G', 'H', 'I', 'J', 'K']\n",
      "['A', 'B', 'C', 'D', 'E', 'F', 'G', 'H', 'I', 'J']\n",
      "['A', 'B', 'C', 'D', 'E', 'F', 'G', 'H', 'I']\n",
      "['A', 'B', 'C', 'D', 'E', 'F', 'G', 'H']\n",
      "['A', 'B', 'C', 'D', 'E', 'F', 'G']\n",
      "['A', 'B', 'C', 'D', 'E', 'F']\n",
      "['A', 'B', 'C', 'D', 'E']\n",
      "['A', 'B', 'C', 'D']\n",
      "['A', 'B', 'C']\n",
      "['A', 'B']\n",
      "['A']\n",
      "A B C D E F G H I J K L M N O P Q R S T U V W X Y Z \n",
      "A B C D E F G H I J K L M N O P Q R S T U V W X Y \n",
      "A B C D E F G H I J K L M N O P Q R S T U V W X \n",
      "A B C D E F G H I J K L M N O P Q R S T U V W \n",
      "A B C D E F G H I J K L M N O P Q R S T U V \n",
      "A B C D E F G H I J K L M N O P Q R S T U \n",
      "A B C D E F G H I J K L M N O P Q R S T \n",
      "A B C D E F G H I J K L M N O P Q R S \n",
      "A B C D E F G H I J K L M N O P Q R \n",
      "A B C D E F G H I J K L M N O P Q \n",
      "A B C D E F G H I J K L M N O P \n",
      "A B C D E F G H I J K L M N O \n",
      "A B C D E F G H I J K L M N \n",
      "A B C D E F G H I J K L M \n",
      "A B C D E F G H I J K L \n",
      "A B C D E F G H I J K \n",
      "A B C D E F G H I J \n",
      "A B C D E F G H I \n",
      "A B C D E F G H \n",
      "A B C D E F G \n",
      "A B C D E F \n",
      "A B C D E \n",
      "A B C D \n",
      "A B C \n",
      "A B \n",
      "A \n",
      "A B C D E F G H I J K L M N O P Q R S T U V W X Y Z \n",
      "A B C D E F G H I J K L M N O P Q R S T U V W X Y \n",
      "A B C D E F G H I J K L M N O P Q R S T U V W X \n",
      "A B C D E F G H I J K L M N O P Q R S T U V W \n",
      "A B C D E F G H I J K L M N O P Q R S T U V \n",
      "A B C D E F G H I J K L M N O P Q R S T U \n",
      "A B C D E F G H I J K L M N O P Q R S T \n",
      "A B C D E F G H I J K L M N O P Q R S \n",
      "A B C D E F G H I J K L M N O P Q R \n",
      "A B C D E F G H I J K L M N O P Q \n",
      "A B C D E F G H I J K L M N O P \n",
      "A B C D E F G H I J K L M N O \n",
      "A B C D E F G H I J K L M N \n",
      "A B C D E F G H I J K L M \n",
      "A B C D E F G H I J K L \n",
      "A B C D E F G H I J K \n",
      "A B C D E F G H I J \n",
      "A B C D E F G H I \n",
      "A B C D E F G H \n",
      "A B C D E F G \n",
      "A B C D E F \n",
      "A B C D E \n",
      "A B C D \n",
      "A B C \n",
      "A B \n",
      "A \n"
     ]
    }
   ],
   "source": [
    "'''조건:\n",
    "1. 26행을 반복하여 출력한다.\n",
    "2. 'A'부터 ('Z' - 'A')만큼 출력한다.'''\n",
    "\n",
    "# python 아스키 코드 변환 https://ooyoung.tistory.com/104\n",
    "\n",
    "alphabet_list = []\n",
    "\n",
    "for i in range(ord('A'), ord('Z') + 1):\n",
    "    alphabet_list.append(chr(i))\n",
    "\n",
    "for i in range(ord('A'), ord('Z') + 1):\n",
    "    print(alphabet_list)\n",
    "    alphabet_list.remove(chr(ord('Z') - i + ord('A')))\n",
    "\n",
    "    def maximizer_finder(matrix, flag_list : list) -> int:\n",
    "                                                          ^\n",
    "# 리스트 형태로 출력하는게 아니었네..\n",
    "\n",
    "for i in range(ord('A'), ord('Z') + 1):\n",
    "    for j in range(ord('A'), ord('Z') + 1 - i + ord('A')):\n",
    "        print(chr(j), end = \" \")\n",
    "    print(\"\")\n",
    "\n",
    "# for 문은 정해서 돌리는거라 맛이없어\n",
    "i = ord('Z') - ord('A')\n",
    "j = ord('Z')\n",
    "\n",
    "while i >= 0:\n",
    "    while j >= ord('Z') - i:\n",
    "        print(chr(ord('Z') - j + ord('A')), end = \" \")\n",
    "        j -= 1\n",
    "    print(\"\")\n",
    "    i -= 1\n",
    "    j = ord('Z')"
   ]
  },
  {
   "cell_type": "markdown",
   "metadata": {},
   "source": [
    "# 33. 알파벳 순서대로 하나씩 줄여가며 출력하기(재귀 호출 사용)"
   ]
  },
  {
   "cell_type": "code",
   "execution_count": 15,
   "metadata": {},
   "outputs": [
    {
     "name": "stdout",
     "output_type": "stream",
     "text": [
      "A B C D E F G H I J K L M N O P Q R S T U V W X Y Z \n",
      "A B C D E F G H I J K L M N O P Q R S T U V W X Y \n",
      "A B C D E F G H I J K L M N O P Q R S T U V W X \n",
      "A B C D E F G H I J K L M N O P Q R S T U V W \n",
      "A B C D E F G H I J K L M N O P Q R S T U V \n",
      "A B C D E F G H I J K L M N O P Q R S T U \n",
      "A B C D E F G H I J K L M N O P Q R S T \n",
      "A B C D E F G H I J K L M N O P Q R S \n",
      "A B C D E F G H I J K L M N O P Q R \n",
      "A B C D E F G H I J K L M N O P Q \n",
      "A B C D E F G H I J K L M N O P \n",
      "A B C D E F G H I J K L M N O \n",
      "A B C D E F G H I J K L M N \n",
      "A B C D E F G H I J K L M \n",
      "A B C D E F G H I J K L \n",
      "A B C D E F G H I J K \n",
      "A B C D E F G H I J \n",
      "A B C D E F G H I \n",
      "A B C D E F G H \n",
      "A B C D E F G \n",
      "A B C D E F \n",
      "A B C D E \n",
      "A B C D \n",
      "A B C \n",
      "A B \n",
      "A\n"
     ]
    }
   ],
   "source": [
    "'''조건:\n",
    "1. 반복문을 사용하여 'A'부터 문자를 출력한다.\n",
    "2. 'Z'부터 하나씩 감소하여 재귀 함수를 호출한다.'''\n",
    "\n",
    "# 함수 선언 참고용 https://modulabs.co.kr/blog/python-strangethings/\n",
    "\n",
    "def alphabet_print(alphabet : str) -> str: # 어디까지 출력하는거예요?\n",
    "    if alphabet == 'A':\n",
    "        print(alphabet)\n",
    "    else:\n",
    "        i = alphabet\n",
    "        for i in range(ord('A'), ord(alphabet) + 1):\n",
    "            print(chr(i), end = \" \")\n",
    "        print(\"\")\n",
    "        alphabet_print(chr(ord(alphabet) - 1))\n",
    "\n",
    "alphabet_print('Z')\n",
    "\n"
   ]
  },
  {
   "cell_type": "markdown",
   "metadata": {},
   "source": [
    "# 34. 3 * 3 행렬 중 합이 최소가 되는 항목 선택하기"
   ]
  },
  {
   "cell_type": "code",
   "execution_count": 12,
   "metadata": {},
   "outputs": [
    {
     "data": {
      "text/plain": [
       "'\\ndef maximizer_finder(matrix, row : int, flag_list : list, result_list : list) -> list:\\n    j = 0\\n    #matrix_sum = 0\\n    while j < 2:\\n        if flag_list[j] == 0:\\n            #matrix_sum += matrix[row][j]\\n            flag_list[j] = 1\\n            result_list[row][j] = matrix[row][j]\\n            result_list[row] = matrix[row][j]\\n            maximizer_finder(matrix, row + 1, flag_list, result_list)\\n        j += 1\\n    return result_list\\n\\nmaximizer_finder(matrix, 0, flag_list)\\n'"
      ]
     },
     "execution_count": 12,
     "metadata": {},
     "output_type": "execute_result"
    }
   ],
   "source": [
    "'''조건:\n",
    "1. 파이썬에서 제공하는 최댓값 상수를 이용한다.\n",
    "2. 백트래킹 기반의 재귀 함수를 이용한다.\n",
    "3. 한 번 선택한 항목을 다시 선택하지 않도록 하기 위해 별도의 플래그 배열을 사용한다.'''\n",
    "\n",
    "#define INT_MAX 100000\n",
    "\n",
    "matrix = [\n",
    "    [1, 5, 3],\n",
    "    [2, 5, 7],\n",
    "    [5, 3, 5]\n",
    "]\n",
    "\n",
    "flag_list =[0, 0, 0]\n",
    "'''\n",
    "def maximizer_finder(matrix, row : int, flag_list : list, result_list : list) -> list:\n",
    "    j = 0\n",
    "    #matrix_sum = 0\n",
    "    while j < 2:\n",
    "        if flag_list[j] == 0:\n",
    "            #matrix_sum += matrix[row][j]\n",
    "            flag_list[j] = 1\n",
    "            result_list[row][j] = matrix[row][j]\n",
    "            result_list[row] = matrix[row][j]\n",
    "            maximizer_finder(matrix, row + 1, flag_list, result_list)\n",
    "        j += 1\n",
    "    return result_list\n",
    "\n",
    "maximizer_finder(matrix, 0, flag_list)\n",
    "'''\n"
   ]
  },
  {
   "cell_type": "code",
   "execution_count": 11,
   "metadata": {},
   "outputs": [
    {
     "name": "stdout",
     "output_type": "stream",
     "text": [
      "8\n"
     ]
    }
   ],
   "source": [
    "'''False = 0\n",
    "True = 1'''\n",
    "INT_MAX = 10000\n",
    "\n",
    "m = [\n",
    "    [1, 5, 3],\n",
    "    [2, 5, 7],\n",
    "    [5, 3, 5]\n",
    "]\n",
    "\n",
    "col_check = [False, False, False]\n",
    "min_sol = INT_MAX\n",
    "\n",
    "def f(row, score):\n",
    "    global min_sol\n",
    "\n",
    "    if row == 3:\n",
    "        if score < min_sol:\n",
    "            min_sol = score\n",
    "        return min_sol\n",
    "    \n",
    "    for i in range(3):\n",
    "        if col_check[i] == False:\n",
    "            col_check[i] = True\n",
    "            f(row + 1, score + m[row][i])\n",
    "            col_check[i] = False\n",
    "\n",
    "    return min_sol\n",
    "\n",
    "print(f(0, 0))"
   ]
  },
  {
   "cell_type": "markdown",
   "metadata": {},
   "source": [
    "# 35. 회문(palindrome) 확인하기"
   ]
  },
  {
   "cell_type": "code",
   "execution_count": 9,
   "metadata": {},
   "outputs": [
    {
     "name": "stdout",
     "output_type": "stream",
     "text": [
      "True\n",
      "False\n"
     ]
    }
   ],
   "source": [
    "'''조건:\n",
    "1. 주어진 문자열의 처음과 끝의 문자를 비교하고 같으면 그 다음 문자를 비교하며, 아니면 빠져나온다.'''\n",
    "\n",
    "def palindrome_checker(string : str) -> None:\n",
    "    max_num = len(string)\n",
    "    for i in range(0, max_num - 1):\n",
    "        if string[i] != string[max_num - i - 1]:\n",
    "            print('False')\n",
    "            return\n",
    "    print('True')\n",
    "\n",
    "palindrome_checker('level')\n",
    "\n",
    "palindrome_checker('adsfzz')"
   ]
  },
  {
   "cell_type": "markdown",
   "metadata": {},
   "source": [
    "# 36. 만들 수 있는 삼각형의 개수 구하기(재귀 호출)"
   ]
  },
  {
   "cell_type": "code",
   "execution_count": 4,
   "metadata": {},
   "outputs": [
    {
     "name": "stdout",
     "output_type": "stream",
     "text": [
      "0\n"
     ]
    }
   ],
   "source": [
    "'''조건:\n",
    "1. 전체 탐색을 위해 삼각형의 세 변 a, b, c를 1부터 n까지 증가시키는 반복문을 사용한다.\n",
    "2. 삼각형이 되는 조건: a <= b && b <= c && a + b > c을 만족해야 한다.'''\n",
    "\n",
    "global count\n",
    "def triangle_finder(n, a, b, c):\n",
    "    if a + b + c == n:\n",
    "        return\n",
    "    else:\n",
    "        if a <= b and b <= c and a + b > c:\n",
    "            count += 1\n",
    "        triangle_finder(n, a + 1, b, c)\n",
    "        triangle_finder(n, a, b + 1, c)\n",
    "        triangle_finder(n, a, b, c + 1)\n",
    "\n",
    "triangle_finder(3, 1, 1, 1)\n",
    "print(count)"
   ]
  },
  {
   "cell_type": "code",
   "execution_count": 18,
   "metadata": {},
   "outputs": [
    {
     "name": "stdout",
     "output_type": "stream",
     "text": [
      "2 2 2\n",
      "1\n"
     ]
    }
   ],
   "source": [
    "cnt = 0\n",
    "checked = [[[0 for i in range(21)] for j in range(21)] for k in range(21)]\n",
    "\n",
    "def solve(n, a, b, c):\n",
    "    global cnt\n",
    "\n",
    "    if a + b + c == n:\n",
    "        if a <= b and b <= c and a + b > c and checked[a][b][c] == 0:\n",
    "            cnt = cnt + 1\n",
    "            checked[a][b][c] = 1\n",
    "            print(a, b, c)\n",
    "        return\n",
    "    \n",
    "    solve(n, a + 1, b, c)\n",
    "    solve(n, a, b + 1, c)\n",
    "    solve(n, a, b, c + 1)\n",
    "\n",
    "solve(6, 1, 1, 1)\n",
    "print(cnt)"
   ]
  },
  {
   "cell_type": "markdown",
   "metadata": {},
   "source": [
    "# 37. 파스칼의 삼각형"
   ]
  },
  {
   "cell_type": "code",
   "execution_count": 70,
   "metadata": {},
   "outputs": [
    {
     "name": "stdout",
     "output_type": "stream",
     "text": [
      "                     1 \n",
      "                    1 1 \n",
      "                   1 2 1 \n",
      "                  1 3 3 1 \n",
      "                 1 4 6 4 1 \n",
      "                1 5 10 10 5 1 \n",
      "               1 6 15 20 15 6 1 \n",
      "              1 7 21 35 35 21 7 1 \n",
      "             1 8 28 56 70 56 28 8 1 \n",
      "            1 9 36 84 126 126 84 36 9 1 \n",
      "           1 10 45 120 210 252 210 120 45 10 1 \n",
      "          1 11 55 165 330 462 462 330 165 55 11 1 \n",
      "         1 12 66 220 495 792 924 792 495 220 66 12 1 \n",
      "        1 13 78 286 715 1287 1716 1716 1287 715 286 78 13 1 \n",
      "       1 14 91 364 1001 2002 3003 3432 3003 2002 1001 364 91 14 1 \n",
      "      1 15 105 455 1365 3003 5005 6435 6435 5005 3003 1365 455 105 15 1 \n",
      "     1 16 120 560 1820 4368 8008 11440 12870 11440 8008 4368 1820 560 120 16 1 \n",
      "    1 17 136 680 2380 6188 12376 19448 24310 24310 19448 12376 6188 2380 680 136 17 1 \n",
      "   1 18 153 816 3060 8568 18564 31824 43758 48620 43758 31824 18564 8568 3060 816 153 18 1 \n",
      "  1 19 171 969 3876 11628 27132 50388 75582 92378 92378 75582 50388 27132 11628 3876 969 171 19 1 \n",
      " 1 20 190 1140 4845 15504 38760 77520 125970 167960 184756 167960 125970 77520 38760 15504 4845 1140 190 20 1 \n"
     ]
    }
   ],
   "source": [
    "'''조건:\n",
    "1. 현재의 숫자는 바로 위의 왼쪽 숫자와 오른쪽 숫자를 덧셈하여 구한다.'''\n",
    "def pascal_triangle_num(a : int, b : int) -> int:\n",
    "    if a < 0 or a < b:\n",
    "        return 0\n",
    "    elif a == b or b == 0:\n",
    "        return 1\n",
    "    else:\n",
    "        return pascal_triangle_num(a - 1, b - 1) + pascal_triangle_num(a - 1, b)\n",
    "\n",
    "pascal_triangle_num(10, 3)\n",
    "\n",
    "def pascal_printer(n : int) -> None:\n",
    "    i = 0\n",
    "    j = 0\n",
    "    temp = 0\n",
    "    while i < n:\n",
    "        while i < n:\n",
    "            print(\" \", end = \"\")\n",
    "            i += 1\n",
    "        i = temp\n",
    "        while j < n:\n",
    "            if pascal_triangle_num(i, j) != 0:\n",
    "                print(pascal_triangle_num(i, j), end = \" \")\n",
    "            j += 1\n",
    "        i += 1\n",
    "        temp = i\n",
    "        j = 0\n",
    "        print(\"\")\n",
    "\n",
    "pascal_printer(21)"
   ]
  },
  {
   "cell_type": "markdown",
   "metadata": {},
   "source": [
    "# 38. 유클리드 호제법을 사용하여 최대공약수 구하기"
   ]
  },
  {
   "cell_type": "code",
   "execution_count": 5,
   "metadata": {},
   "outputs": [
    {
     "name": "stdout",
     "output_type": "stream",
     "text": [
      "2\n",
      "10\n"
     ]
    }
   ],
   "source": [
    "def Euclidean_algorithm(a : int, b : int) -> int:\n",
    "    temp = 0\n",
    "    if a < b:\n",
    "        temp = a\n",
    "        a = b\n",
    "        b = temp\n",
    "    if b == 0:\n",
    "        print(a)\n",
    "    else:\n",
    "        Euclidean_algorithm(a % b, b)\n",
    "\n",
    "Euclidean_algorithm(12, 38)\n",
    "\n",
    "Euclidean_algorithm(30, 50)"
   ]
  },
  {
   "cell_type": "markdown",
   "metadata": {},
   "source": [
    "# 39. 반복문을 사용하여 피보나치 수열 구하기"
   ]
  },
  {
   "cell_type": "code",
   "execution_count": 26,
   "metadata": {},
   "outputs": [
    {
     "name": "stdout",
     "output_type": "stream",
     "text": [
      "33\n"
     ]
    }
   ],
   "source": [
    "'''조건:\n",
    "1. 위의 점화식대로 n이 0이거나 1일 때의 피보나치 수는 1이 된다.\n",
    "2. 현재의 i에 대한 피보나치 수 fib_i는 이전 피보나치 수인 fib_i_1 과 fib_i_2의 합으로 구할 수 있다.'''\n",
    "\n",
    "\n",
    "max_num = 7\n",
    "i = 0\n",
    "Fibonacci_sum = 0\n",
    "fib_i = 0\n",
    "fib_i_1 = 0\n",
    "fib_i_2 = 0\n",
    "\n",
    "while i <= max_num:\n",
    "    if i == 0:\n",
    "        fib_i = 0\n",
    "    elif i == 1:\n",
    "        fib_i = 1\n",
    "        fib_i_1 = 1\n",
    "    else:\n",
    "        fib_i = fib_i_1 + fib_i_2\n",
    "        fib_i_2 = fib_i_1\n",
    "        fib_i_1 = fib_i\n",
    "    Fibonacci_sum += fib_i\n",
    "    i += 1\n",
    "\n",
    "print(Fibonacci_sum)"
   ]
  },
  {
   "cell_type": "markdown",
   "metadata": {},
   "source": [
    "# 40. 재귀 호출을 사용하여 피보나치 수 구하기"
   ]
  },
  {
   "cell_type": "code",
   "execution_count": 20,
   "metadata": {},
   "outputs": [
    {
     "name": "stdout",
     "output_type": "stream",
     "text": [
      "13\n"
     ]
    }
   ],
   "source": [
    "'''조건:\n",
    "1. fn = fn-1 + fn-2 (n > 2)'''\n",
    "\n",
    "def Fibonacci_series(n : int) -> int:\n",
    "    if n == 0:\n",
    "        return 0\n",
    "    elif n == 1:\n",
    "        return 1\n",
    "    else:\n",
    "        return (Fibonacci_series(n - 1) + Fibonacci_series(n - 2))\n",
    "\n",
    "def Fibonacci_series_sum(n : int) -> int:\n",
    "    if n < 0:\n",
    "        return 0\n",
    "    else:\n",
    "        return (Fibonacci_series(n) + Fibonacci_series_sum(n - 1))\n",
    "\n",
    "print(Fibonacci_series(7))\n",
    "\n",
    "print(Fibonacci_series_sum(7))"
   ]
  }
 ],
 "metadata": {
  "kernelspec": {
   "display_name": "Python 3",
   "language": "python",
   "name": "python3"
  },
  "language_info": {
   "codemirror_mode": {
    "name": "ipython",
    "version": 3
   },
   "file_extension": ".py",
   "mimetype": "text/x-python",
   "name": "python",
   "nbconvert_exporter": "python",
   "pygments_lexer": "ipython3",
   "version": "3.12.1"
  }
 },
 "nbformat": 4,
 "nbformat_minor": 2
}
