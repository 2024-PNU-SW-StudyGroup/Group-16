{
 "cells": [
  {
   "cell_type": "code",
   "execution_count": 2,
   "metadata": {},
   "outputs": [
    {
     "name": "stdout",
     "output_type": "stream",
     "text": [
      "1\n",
      "7\n",
      "6\n",
      "1\n",
      "9\n"
     ]
    }
   ],
   "source": [
    "t = int(input())\n",
    "for i in range(t):\n",
    "    a,b = map(int,input().split())\n",
    "    print(str(a**b)[-1])"
   ]
  },
  {
   "cell_type": "code",
   "execution_count": null,
   "metadata": {},
   "outputs": [],
   "source": [
    "import sys\n",
    "input = sys.stdin.readline\n",
    "\n",
    "T = int(input())\n",
    "for _ in range(T):\n",
    "    a, b = map(int, input().split()) \n",
    "    a1 = a % 10\n",
    "\n",
    "    if a1 == 0:  \n",
    "        print(10)\n",
    "    elif a1 in [1, 5, 6]:\n",
    "        print(a1)\n",
    "    elif a1 in [4, 9]: \n",
    "        b1 = b % 2\n",
    "        if b1 == 0:\n",
    "            print(a1 * a1 % 10)\n",
    "        else:\n",
    "            print(a1)\n",
    "    else:\n",
    "        b1 = b % 4\n",
    "        if b1 == 0:\n",
    "            print(a1 ** 4 % 10)\n",
    "        else:\n",
    "            print(a1 ** b1 % 10)"
   ]
  },
  {
   "cell_type": "code",
   "execution_count": 15,
   "metadata": {},
   "outputs": [
    {
     "name": "stdout",
     "output_type": "stream",
     "text": [
      "7 8\n"
     ]
    }
   ],
   "source": [
    "from math import sqrt\n",
    "D,H,W = map(int,input().split())\n",
    "x = sqrt(D*D/((H*H)+(W*W)))\n",
    "Hx = int(H*x)\n",
    "Wx = int(W*x)\n",
    "print(Hx, Wx)"
   ]
  },
  {
   "cell_type": "code",
   "execution_count": 20,
   "metadata": {},
   "outputs": [
    {
     "name": "stdout",
     "output_type": "stream",
     "text": [
      "0\n"
     ]
    }
   ],
   "source": [
    "N = int(input())\n",
    "l = map(int,input().split())\n",
    "c = int(input())\n",
    "e = []\n",
    "for j in l:\n",
    "    if j%c == 0:\n",
    "        e.append(j//c)\n",
    "    else:\n",
    "        e.append(1 + (j//c))\n",
    "print(sum(e)*c)"
   ]
  }
 ],
 "metadata": {
  "kernelspec": {
   "display_name": "Python 3",
   "language": "python",
   "name": "python3"
  },
  "language_info": {
   "codemirror_mode": {
    "name": "ipython",
    "version": 3
   },
   "file_extension": ".py",
   "mimetype": "text/x-python",
   "name": "python",
   "nbconvert_exporter": "python",
   "pygments_lexer": "ipython3",
   "version": "3.10.2"
  }
 },
 "nbformat": 4,
 "nbformat_minor": 2
}
